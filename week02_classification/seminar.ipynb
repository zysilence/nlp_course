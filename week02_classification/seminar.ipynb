{
 "cells": [
  {
   "cell_type": "markdown",
   "metadata": {},
   "source": [
    "# Large scale text analysis with deep learning (3 points)\n",
    "\n",
    "Today we're gonna apply the newly learned tools for the task of predicting job salary.\n",
    "\n",
    "<img src=\"https://kaggle2.blob.core.windows.net/competitions/kaggle/3342/media/salary%20prediction%20engine%20v2.png\" width=400px>\n",
    "\n",
    "_Special thanks to [Oleg Vasilev](https://github.com/Omrigan/) for the core assignment idea._"
   ]
  },
  {
   "cell_type": "code",
   "execution_count": 5,
   "metadata": {},
   "outputs": [],
   "source": [
    "import numpy as np\n",
    "import pandas as pd\n",
    "import matplotlib.pyplot as plt\n",
    "%matplotlib inline"
   ]
  },
  {
   "cell_type": "markdown",
   "metadata": {},
   "source": [
    "### About the challenge\n",
    "For starters, let's download and unpack the data from [here](https://www.dropbox.com/s/5msc5ix7ndyba10/Train_rev1.csv.tar.gz?dl=0). \n",
    "\n",
    "You can also get it from [yadisk url](https://yadi.sk/d/vVEOWPFY3NruT7) the competition [page](https://www.kaggle.com/c/job-salary-prediction/data) (pick `Train_rev1.*`)."
   ]
  },
  {
   "cell_type": "code",
   "execution_count": 6,
   "metadata": {},
   "outputs": [
    {
     "data": {
      "text/plain": [
       "(244768, 12)"
      ]
     },
     "execution_count": 6,
     "metadata": {},
     "output_type": "execute_result"
    }
   ],
   "source": [
    "data = pd.read_csv(\"./Train_rev1.csv\", index_col=None)\n",
    "data.shape"
   ]
  },
  {
   "cell_type": "markdown",
   "metadata": {},
   "source": [
    "One problem with salary prediction is that it's oddly distributed: there are many people who are paid standard salaries and a few that get tons o money. The distribution is fat-tailed on the right side, which is inconvenient for MSE minimization.\n",
    "\n",
    "There are several techniques to combat this: using a different loss function, predicting log-target instead of raw target or even replacing targets with their percentiles among all salaries in the training set. We gonna use logarithm for now.\n",
    "\n",
    "_You can read more [in the official description](https://www.kaggle.com/c/job-salary-prediction#description)._"
   ]
  },
  {
   "cell_type": "code",
   "execution_count": 7,
   "metadata": {},
   "outputs": [
    {
     "data": {
      "image/png": "[encoded data removed]",
      "text/plain": [
       "<Figure size 576x288 with 2 Axes>"
      ]
     },
     "metadata": {
      "needs_background": "light"
     },
     "output_type": "display_data"
    }
   ],
   "source": [
    "data['Log1pSalary'] = np.log1p(data['SalaryNormalized']).astype('float32')\n",
    "\n",
    "plt.figure(figsize=[8, 4])\n",
    "plt.subplot(1, 2, 1)\n",
    "plt.hist(data[\"SalaryNormalized\"], bins=20);\n",
    "\n",
    "plt.subplot(1, 2, 2)\n",
    "plt.hist(data['Log1pSalary'], bins=20);"
   ]
  },
  {
   "cell_type": "markdown",
   "metadata": {},
   "source": [
    "Our task is to predict one number, __Log1pSalary__.\n",
    "\n",
    "To do so, our model can access a number of features:\n",
    "* Free text: __`Title`__ and  __`FullDescription`__\n",
    "* Categorical: __`Category`__, __`Company`__, __`LocationNormalized`__, __`ContractType`__, and __`ContractTime`__."
   ]
  },
  {
   "cell_type": "code",
   "execution_count": 47,
   "metadata": {},
   "outputs": [
    {
     "data": {
      "text/html": [
       "<div>\n",
       "<style scoped>\n",
       "    .dataframe tbody tr th:only-of-type {\n",
       "        vertical-align: middle;\n",
       "    }\n",
       "\n",
       "    .dataframe tbody tr th {\n",
       "        vertical-align: top;\n",
       "    }\n",
       "\n",
       "    .dataframe thead th {\n",
       "        text-align: right;\n",
       "    }\n",
       "</style>\n",
       "<table border=\"1\" class=\"dataframe\">\n",
       "  <thead>\n",
       "    <tr style=\"text-align: right;\">\n",
       "      <th></th>\n",
       "      <th>Id</th>\n",
       "      <th>Title</th>\n",
       "      <th>FullDescription</th>\n",
       "      <th>LocationRaw</th>\n",
       "      <th>LocationNormalized</th>\n",
       "      <th>ContractType</th>\n",
       "      <th>ContractTime</th>\n",
       "      <th>Company</th>\n",
       "      <th>Category</th>\n",
       "      <th>SalaryRaw</th>\n",
       "      <th>SalaryNormalized</th>\n",
       "      <th>SourceName</th>\n",
       "      <th>Log1pSalary</th>\n",
       "    </tr>\n",
       "  </thead>\n",
       "  <tbody>\n",
       "    <tr>\n",
       "      <th>222097</th>\n",
       "      <td>72394294</td>\n",
       "      <td>nursery nurse trafford</td>\n",
       "      <td>bright horizons is currently recruiting for a ...</td>\n",
       "      <td>North West, Greater Manchester</td>\n",
       "      <td>Greater Manchester</td>\n",
       "      <td>full_time</td>\n",
       "      <td>permanent</td>\n",
       "      <td>Other</td>\n",
       "      <td>Teaching Jobs</td>\n",
       "      <td>Up to 15,000 per annum</td>\n",
       "      <td>15000</td>\n",
       "      <td>nurseryworldjobs.co.uk</td>\n",
       "      <td>9.615872</td>\n",
       "    </tr>\n",
       "    <tr>\n",
       "      <th>130482</th>\n",
       "      <td>70168158</td>\n",
       "      <td>geophysicist ( depth imager ) uk</td>\n",
       "      <td>processing geophysicist london the salary for ...</td>\n",
       "      <td>UK</td>\n",
       "      <td>UK</td>\n",
       "      <td>NaN</td>\n",
       "      <td>NaN</td>\n",
       "      <td>NaN</td>\n",
       "      <td>Energy, Oil &amp; Gas Jobs</td>\n",
       "      <td>35000 to 65000 per annu...</td>\n",
       "      <td>50000</td>\n",
       "      <td>oilandgasjobsearch.com</td>\n",
       "      <td>10.819798</td>\n",
       "    </tr>\n",
       "    <tr>\n",
       "      <th>235968</th>\n",
       "      <td>72547515</td>\n",
       "      <td>qlikview developer</td>\n",
       "      <td>job title : qlikview developer location : camb...</td>\n",
       "      <td>Cambridgeshire, England, Cambridgeshire</td>\n",
       "      <td>Cambridgeshire</td>\n",
       "      <td>NaN</td>\n",
       "      <td>contract</td>\n",
       "      <td>Cooper Lomaz   Bury St Edmunds</td>\n",
       "      <td>IT Jobs</td>\n",
       "      <td>300 - 420/day</td>\n",
       "      <td>86400</td>\n",
       "      <td>cv-library.co.uk</td>\n",
       "      <td>11.366755</td>\n",
       "    </tr>\n",
       "  </tbody>\n",
       "</table>\n",
       "</div>"
      ],
      "text/plain": [
       "              Id                             Title  \\\n",
       "222097  72394294            nursery nurse trafford   \n",
       "130482  70168158  geophysicist ( depth imager ) uk   \n",
       "235968  72547515                qlikview developer   \n",
       "\n",
       "                                          FullDescription  \\\n",
       "222097  bright horizons is currently recruiting for a ...   \n",
       "130482  processing geophysicist london the salary for ...   \n",
       "235968  job title : qlikview developer location : camb...   \n",
       "\n",
       "                                    LocationRaw  LocationNormalized  \\\n",
       "222097           North West, Greater Manchester  Greater Manchester   \n",
       "130482                                       UK                  UK   \n",
       "235968  Cambridgeshire, England, Cambridgeshire      Cambridgeshire   \n",
       "\n",
       "       ContractType ContractTime                         Company  \\\n",
       "222097    full_time    permanent                           Other   \n",
       "130482          NaN          NaN                             NaN   \n",
       "235968          NaN     contract  Cooper Lomaz   Bury St Edmunds   \n",
       "\n",
       "                      Category                   SalaryRaw  SalaryNormalized  \\\n",
       "222097           Teaching Jobs      Up to 15,000 per annum             15000   \n",
       "130482  Energy, Oil & Gas Jobs  35000 to 65000 per annu...             50000   \n",
       "235968                 IT Jobs               300 - 420/day             86400   \n",
       "\n",
       "                    SourceName  Log1pSalary  \n",
       "222097  nurseryworldjobs.co.uk     9.615872  \n",
       "130482  oilandgasjobsearch.com    10.819798  \n",
       "235968        cv-library.co.uk    11.366755  "
      ]
     },
     "execution_count": 47,
     "metadata": {},
     "output_type": "execute_result"
    }
   ],
   "source": [
    "text_columns = [\"Title\", \"FullDescription\"]\n",
    "categorical_columns = [\"Category\", \"Company\", \"LocationNormalized\", \"ContractType\", \"ContractTime\"]\n",
    "target_column = \"Log1pSalary\"\n",
    "\n",
    "data[categorical_columns] = data[categorical_columns].fillna('NaN') # cast missing values to string \"NaN\"\n",
    "\n",
    "data.sample(3)"
   ]
  },
  {
   "cell_type": "markdown",
   "metadata": {},
   "source": [
    "### Preprocessing text data\n",
    "\n",
    "Just like last week, applying NLP to a problem begins from tokenization: splitting raw text into sequences of tokens (words, punctuation, etc).\n",
    "\n",
    "__Your task__ is to lowercase and tokenize all texts under `Title` and `FullDescription` columns. Store the tokenized data as a __space-separated__ string of tokens for performance reasons.\n",
    "\n",
    "It's okay to use nltk tokenizers. Assertions were designed for WordPunctTokenizer, slight deviations are okay."
   ]
  },
  {
   "cell_type": "code",
   "execution_count": 9,
   "metadata": {},
   "outputs": [
    {
     "name": "stdout",
     "output_type": "stream",
     "text": [
      "Raw text:\n",
      "2         Mathematical Modeller / Simulation Analyst / O...\n",
      "100002    A successful and high achieving specialist sch...\n",
      "200002    Web Designer  HTML, CSS, JavaScript, Photoshop...\n",
      "Name: FullDescription, dtype: object\n"
     ]
    }
   ],
   "source": [
    "print(\"Raw text:\")\n",
    "print(data[\"FullDescription\"][2::100000])"
   ]
  },
  {
   "cell_type": "code",
   "execution_count": 10,
   "metadata": {},
   "outputs": [],
   "source": [
    "import nltk\n",
    "tokenizer = nltk.tokenize.WordPunctTokenizer()\n",
    "data[\"Title\"] = data[\"Title\"].str.lower()\n",
    "data[\"FullDescription\"] = data[\"FullDescription\"].str.lower()\n",
    "\n",
    "# see task above\n",
    "data[\"Title\"] = data[\"Title\"].map(lambda x: ' '.join(tokenizer.tokenize(str(x))))\n",
    "data[\"FullDescription\"] = data[\"FullDescription\"].map(lambda x: ' '.join(tokenizer.tokenize(str(x))))"
   ]
  },
  {
   "cell_type": "markdown",
   "metadata": {},
   "source": [
    "Now we can assume that our text is a space-separated list of tokens:"
   ]
  },
  {
   "cell_type": "code",
   "execution_count": 11,
   "metadata": {},
   "outputs": [
    {
     "name": "stdout",
     "output_type": "stream",
     "text": [
      "Tokenized:\n",
      "2         mathematical modeller / simulation analyst / o...\n",
      "100002    a successful and high achieving specialist sch...\n",
      "200002    web designer html , css , javascript , photosh...\n",
      "Name: FullDescription, dtype: object\n",
      "mathematical modeller / simulation analyst / opera\n"
     ]
    }
   ],
   "source": [
    "print(\"Tokenized:\")\n",
    "print(data[\"FullDescription\"][2::100000])\n",
    "print(data[\"FullDescription\"][2][:50])\n",
    "assert data[\"FullDescription\"][2][:50] == 'mathematical modeller / simulation analyst / opera'\n",
    "assert data[\"Title\"][54321] == 'international digital account manager ( german )'"
   ]
  },
  {
   "cell_type": "markdown",
   "metadata": {},
   "source": [
    "Not all words are equally useful. Some of them are typos or rare words that are only present a few times. \n",
    "\n",
    "Let's count how many times is each word present in the data so that we can build a \"white list\" of known words."
   ]
  },
  {
   "cell_type": "code",
   "execution_count": 12,
   "metadata": {
    "scrolled": false
   },
   "outputs": [],
   "source": [
    "# Count how many times does each token occur in both \"Title\" and \"FullDescription\" in total\n",
    "# build a dictionary { token -> it's count }\n",
    "from collections import Counter\n",
    "\n",
    "token_counts = Counter()\n",
    "for i in range(len(data)):\n",
    "    token_counts += Counter(data.iloc[i][\"Title\"].split())\n",
    "    token_counts += Counter(data.iloc[i][\"FullDescription\"].split())\n",
    "# hint: you may or may not want to use collections.Counter"
   ]
  },
  {
   "cell_type": "code",
   "execution_count": 13,
   "metadata": {},
   "outputs": [
    {
     "name": "stdout",
     "output_type": "stream",
     "text": [
      "[('business development manager', 960), ('project manager', 768), ('management accountant', 667), ('sales executive', 623), ('cleaner', 571)]\n"
     ]
    }
   ],
   "source": [
    "test_counts = Counter()\n",
    "test_counts += Counter(data[\"Title\"])\n",
    "print(test_counts.most_common(n=5))\n",
    "#token_counts += Counter(data.iloc[i][\"FullDescription\"].split())"
   ]
  },
  {
   "cell_type": "code",
   "execution_count": 14,
   "metadata": {},
   "outputs": [
    {
     "name": "stdout",
     "output_type": "stream",
     "text": [
      "Total unique tokens : 202704\n",
      "('and', 2657388)\n",
      "('.', 2523216)\n",
      "(',', 2318606)\n",
      "('the', 2080994)\n",
      "('to', 2019884)\n",
      "...\n",
      "('stephanietraveltraderecruitmnt', 1)\n",
      "('ruabon', 1)\n",
      "('lowehays', 1)\n",
      "Correct!\n"
     ]
    }
   ],
   "source": [
    "print(\"Total unique tokens :\", len(token_counts))\n",
    "print('\\n'.join(map(str, token_counts.most_common(n=5))))\n",
    "print('...')\n",
    "print('\\n'.join(map(str, token_counts.most_common()[-3:])))\n",
    "\n",
    "assert token_counts.most_common(1)[0][1] in  range(2600000, 2700000)\n",
    "assert len(token_counts) in range(200000, 210000)\n",
    "print('Correct!')"
   ]
  },
  {
   "cell_type": "code",
   "execution_count": 15,
   "metadata": {},
   "outputs": [
    {
     "data": {
      "image/png": "[encoded data removed]",
      "text/plain": [
       "<Figure size 432x288 with 1 Axes>"
      ]
     },
     "metadata": {
      "needs_background": "light"
     },
     "output_type": "display_data"
    }
   ],
   "source": [
    "# Let's see how many words are there for each count\n",
    "plt.hist(list(token_counts.values()), range=[0, 10**4], bins=50, log=True)\n",
    "plt.xlabel(\"Word counts\");"
   ]
  },
  {
   "cell_type": "markdown",
   "metadata": {},
   "source": [
    "Now filter tokens a list of all tokens that occur at least 10 times."
   ]
  },
  {
   "cell_type": "code",
   "execution_count": 16,
   "metadata": {},
   "outputs": [],
   "source": [
    "min_count = 10\n",
    "\n",
    "# tokens from token_counts keys that had at least min_count occurrences throughout the dataset\n",
    "tokens = [k for k in token_counts if token_counts[k] >= min_count]"
   ]
  },
  {
   "cell_type": "code",
   "execution_count": 17,
   "metadata": {},
   "outputs": [
    {
     "name": "stdout",
     "output_type": "stream",
     "text": [
      "Vocabulary size: 34158\n",
      "Correct!\n"
     ]
    }
   ],
   "source": [
    "# Add a special tokens for unknown and empty words\n",
    "UNK, PAD = \"UNK\", \"PAD\"\n",
    "tokens = [UNK, PAD] + sorted(tokens)\n",
    "print(\"Vocabulary size:\", len(tokens))\n",
    "\n",
    "assert type(tokens) == list\n",
    "assert len(tokens) in range(32000, 35000)\n",
    "assert 'me' in tokens\n",
    "assert UNK in tokens\n",
    "print(\"Correct!\")"
   ]
  },
  {
   "cell_type": "markdown",
   "metadata": {},
   "source": [
    "Build an inverse token index: a dictionary from token(string) to it's index in `tokens` (int)"
   ]
  },
  {
   "cell_type": "code",
   "execution_count": 18,
   "metadata": {},
   "outputs": [],
   "source": [
    "token_to_id = {k: i for i, k in enumerate(tokens)}"
   ]
  },
  {
   "cell_type": "code",
   "execution_count": 19,
   "metadata": {},
   "outputs": [
    {
     "name": "stdout",
     "output_type": "stream",
     "text": [
      "Correct!\n"
     ]
    }
   ],
   "source": [
    "assert isinstance(token_to_id, dict)\n",
    "assert len(token_to_id) == len(tokens)\n",
    "for tok in tokens:\n",
    "    assert tokens[token_to_id[tok]] == tok\n",
    "\n",
    "print(\"Correct!\")"
   ]
  },
  {
   "cell_type": "markdown",
   "metadata": {},
   "source": [
    "And finally, let's use the vocabulary you've built to map text lines into neural network-digestible matrices."
   ]
  },
  {
   "cell_type": "code",
   "execution_count": 20,
   "metadata": {},
   "outputs": [],
   "source": [
    "UNK_IX, PAD_IX = map(token_to_id.get, [UNK, PAD])\n",
    "def as_matrix(sequences, max_len=None):\n",
    "    \"\"\" Convert a list of tokens into a matrix with padding \"\"\"\n",
    "    if isinstance(sequences[0], str):\n",
    "        sequences = list(map(str.split, sequences))\n",
    "        \n",
    "    max_len = min(max(map(len, sequences)), max_len or float('inf'))\n",
    "    \n",
    "    matrix = np.full((len(sequences), max_len), np.int32(PAD_IX))\n",
    "    for i,seq in enumerate(sequences):\n",
    "        row_ix = [token_to_id.get(word, UNK_IX) for word in seq[:max_len]]\n",
    "        matrix[i, :len(row_ix)] = row_ix\n",
    "    \n",
    "    return matrix"
   ]
  },
  {
   "cell_type": "code",
   "execution_count": 21,
   "metadata": {},
   "outputs": [
    {
     "name": "stdout",
     "output_type": "stream",
     "text": [
      "Lines:\n",
      "engineering systems analyst\n",
      "hr assistant\n",
      "senior ec & i engineer\n",
      "\n",
      "Matrix:\n",
      "[[10807 30161  2166     1     1]\n",
      " [15020  2844     1     1     1]\n",
      " [27645 10201    16 15215 10804]]\n"
     ]
    }
   ],
   "source": [
    "print(\"Lines:\")\n",
    "print('\\n'.join(data[\"Title\"][::100000].values), end='\\n\\n')\n",
    "print(\"Matrix:\")\n",
    "print(as_matrix(data[\"Title\"][::100000]))"
   ]
  },
  {
   "cell_type": "markdown",
   "metadata": {},
   "source": [
    "Now let's  encode the categirical data we have.\n",
    "\n",
    "As usual, we shall use one-hot encoding for simplicity. Kudos if you implement more advanced encodings: tf-idf, pseudo-time-series, etc."
   ]
  },
  {
   "cell_type": "code",
   "execution_count": 22,
   "metadata": {},
   "outputs": [
    {
     "name": "stdout",
     "output_type": "stream",
     "text": [
      "0    Gregory Martin International\n",
      "1    Gregory Martin International\n",
      "Name: Company, dtype: object\n",
      "1000\n",
      "1000\n"
     ]
    },
    {
     "data": {
      "text/plain": [
       "DictVectorizer(dtype=<class 'numpy.float32'>, separator='=', sort=True,\n",
       "        sparse=False)"
      ]
     },
     "execution_count": 22,
     "metadata": {},
     "output_type": "execute_result"
    }
   ],
   "source": [
    "from sklearn.feature_extraction import DictVectorizer\n",
    "\n",
    "# we only consider top-1k most frequent companies to minimize memory usage\n",
    "top_companies, top_counts = zip(*Counter(data['Company']).most_common(1000))\n",
    "recognized_companies = set(top_companies)\n",
    "data[\"Company\"] = data[\"Company\"].apply(lambda comp: comp if comp in recognized_companies else \"Other\")\n",
    "print(data['Company'].iloc[0:2])\n",
    "print(len(top_companies))\n",
    "print(len(recognized_companies))\n",
    "categorical_vectorizer = DictVectorizer(dtype=np.float32, sparse=False)\n",
    "categorical_vectorizer.fit(data[categorical_columns].apply(dict, axis=1))"
   ]
  },
  {
   "cell_type": "markdown",
   "metadata": {},
   "source": [
    "### The deep learning part\n",
    "\n",
    "Once we've learned to tokenize the data, let's design a machine learning experiment.\n",
    "\n",
    "As before, we won't focus too much on validation, opting for a simple train-test split.\n",
    "\n",
    "__To be completely rigorous,__ we've comitted a small crime here: we used the whole data for tokenization and vocabulary building. A more strict way would be to do that part on training set only. You may want to do that and measure the magnitude of changes."
   ]
  },
  {
   "cell_type": "code",
   "execution_count": 23,
   "metadata": {},
   "outputs": [
    {
     "name": "stdout",
     "output_type": "stream",
     "text": [
      "Train size =  195814\n",
      "Validation size =  48954\n"
     ]
    }
   ],
   "source": [
    "from sklearn.model_selection import train_test_split\n",
    "\n",
    "data_train, data_val = train_test_split(data, test_size=0.2, random_state=42)\n",
    "data_train.index = range(len(data_train))\n",
    "data_val.index = range(len(data_val))\n",
    "\n",
    "print(\"Train size = \", len(data_train))\n",
    "print(\"Validation size = \", len(data_val))"
   ]
  },
  {
   "cell_type": "code",
   "execution_count": 62,
   "metadata": {},
   "outputs": [],
   "source": [
    "def make_batch(data, max_len=None, word_dropout=0):\n",
    "    \"\"\"\n",
    "    Creates a keras-friendly dict from the batch data.\n",
    "    :param word_dropout: replaces token index with UNK_IX with this probability\n",
    "    :returns: a dict with {'title' : int64[batch, title_max_len]\n",
    "    \"\"\"\n",
    "    batch = {}\n",
    "    batch[\"Title\"] = as_matrix(data[\"Title\"].values, max_len)\n",
    "    batch[\"FullDescription\"] = as_matrix(data[\"FullDescription\"].values, max_len)\n",
    "    batch['Categorical'] = categorical_vectorizer.transform(data[categorical_columns].apply(dict, axis=1))\n",
    "    \n",
    "    if word_dropout != 0:\n",
    "        batch[\"FullDescription\"] = apply_word_dropout(batch[\"FullDescription\"], 1. - word_dropout)\n",
    "    \n",
    "    if target_column in data.columns:\n",
    "        batch[target_column] = data[target_column].values\n",
    "    \n",
    "    return batch\n",
    "\n",
    "def apply_word_dropout(matrix, keep_prop, replace_with=UNK_IX, pad_ix=PAD_IX,):\n",
    "    dropout_mask = np.random.choice(2, np.shape(matrix), p=[keep_prop, 1 - keep_prop])\n",
    "    dropout_mask &= matrix != pad_ix\n",
    "    return np.choose(dropout_mask, [matrix, np.full_like(matrix, replace_with)])"
   ]
  },
  {
   "cell_type": "code",
   "execution_count": 61,
   "metadata": {},
   "outputs": [
    {
     "data": {
      "text/plain": [
       "{'Title': array([[27645, 29893, 33674]], dtype=int32),\n",
       " 'FullDescription': array([[27645, 29893, 33674, 32939,   982, 27645, 29893, 33674, 16451,\n",
       "         32939]], dtype=int32),\n",
       " 'Categorical': array([[0., 0., 0., ..., 0., 0., 0.]], dtype=float32),\n",
       " 'Log1pSalary': array([9.71154], dtype=float32)}"
      ]
     },
     "execution_count": 61,
     "metadata": {},
     "output_type": "execute_result"
    }
   ],
   "source": [
    "make_batch(data_train[:1], max_len=10)"
   ]
  },
  {
   "cell_type": "markdown",
   "metadata": {},
   "source": [
    "#### Architecture\n",
    "\n",
    "Our basic model consists of three branches:\n",
    "* Title encoder\n",
    "* Description encoder\n",
    "* Categorical features encoder\n",
    "\n",
    "We will then feed all 3 branches into one common network that predicts salary.\n",
    "\n",
    "<img src=\"https://github.com/yandexdataschool/nlp_course/raw/master/resources/w2_conv_arch.png\" width=600px>"
   ]
  },
  {
   "cell_type": "markdown",
   "metadata": {},
   "source": [
    "This clearly doesn't fit into keras' __Sequential__ interface. To build such a network, one will have to use __[Keras Functional API](https://keras.io/models/model/)__."
   ]
  },
  {
   "cell_type": "code",
   "execution_count": 29,
   "metadata": {},
   "outputs": [
    {
     "name": "stderr",
     "output_type": "stream",
     "text": [
      "Using TensorFlow backend.\n"
     ]
    },
    {
     "name": "stdout",
     "output_type": "stream",
     "text": [
      "34158 3768\n"
     ]
    }
   ],
   "source": [
    "import keras\n",
    "import keras.layers as L\n",
    "print(len(tokens), len(categorical_vectorizer.vocabulary_))"
   ]
  },
  {
   "cell_type": "code",
   "execution_count": 40,
   "metadata": {},
   "outputs": [],
   "source": [
    "def build_model(n_tokens=len(tokens), n_cat_features=len(categorical_vectorizer.vocabulary_), hid_size=64):\n",
    "    \"\"\" Build a model that maps three data sources to a single linear output: predicted log1p(salary) \"\"\"\n",
    "    \n",
    "    l_title = L.Input(shape=[None], name=\"Title\")\n",
    "    l_descr = L.Input(shape=[None], name=\"FullDescription\")\n",
    "    l_categ = L.Input(shape=[n_cat_features], name=\"Categorical\")\n",
    "    \n",
    "    # Build your monster!\n",
    "    \n",
    "    # <YOUR CODE>\n",
    "    # Title conv\n",
    "    l_title_shape = keras.backend.shape(l_title)\n",
    "    x_title = L.Embedding(output_dim=200, input_dim=n_tokens)(l_title)\n",
    "    x_title = L.Conv1D(64,3)(x_title)\n",
    "    x_title = L.GlobalMaxPooling1D()(x_title)\n",
    "    \n",
    "    # FullDescription conv\n",
    "    l_descr_shape = keras.backend.shape(l_descr)\n",
    "    x_descr = L.Embedding(output_dim=200, input_dim=n_tokens)(l_descr)\n",
    "    x_descr = L.Conv1D(64,3)(x_descr)\n",
    "    x_descr = L.GlobalMaxPooling1D()(x_descr)\n",
    "    # Categorical full connected\n",
    "    x_categ = L.Dense(64, activation='relu')(l_categ)\n",
    "    \n",
    "    x = L.concatenate([x_title, x_descr, x_categ])\n",
    "    \n",
    "    output_layer = L.Dense(1, activation='relu')(x)\n",
    "    # end of your code\n",
    "    \n",
    "    model = keras.models.Model(inputs=[l_title, l_descr, l_categ], outputs=[output_layer])\n",
    "    model.compile('adam', 'mean_squared_error', metrics=['mean_absolute_error'])\n",
    "    return model\n",
    "    "
   ]
  },
  {
   "cell_type": "code",
   "execution_count": 44,
   "metadata": {},
   "outputs": [
    {
     "name": "stdout",
     "output_type": "stream",
     "text": [
      "__________________________________________________________________________________________________\n",
      "Layer (type)                    Output Shape         Param #     Connected to                     \n",
      "==================================================================================================\n",
      "Title (InputLayer)              (None, None)         0                                            \n",
      "__________________________________________________________________________________________________\n",
      "FullDescription (InputLayer)    (None, None)         0                                            \n",
      "__________________________________________________________________________________________________\n",
      "embedding_9 (Embedding)         (None, None, 200)    6831600     Title[0][0]                      \n",
      "__________________________________________________________________________________________________\n",
      "embedding_10 (Embedding)        (None, None, 200)    6831600     FullDescription[0][0]            \n",
      "__________________________________________________________________________________________________\n",
      "conv1d_9 (Conv1D)               (None, None, 64)     38464       embedding_9[0][0]                \n",
      "__________________________________________________________________________________________________\n",
      "conv1d_10 (Conv1D)              (None, None, 64)     38464       embedding_10[0][0]               \n",
      "__________________________________________________________________________________________________\n",
      "Categorical (InputLayer)        (None, 3768)         0                                            \n",
      "__________________________________________________________________________________________________\n",
      "global_max_pooling1d_9 (GlobalM (None, 64)           0           conv1d_9[0][0]                   \n",
      "__________________________________________________________________________________________________\n",
      "global_max_pooling1d_10 (Global (None, 64)           0           conv1d_10[0][0]                  \n",
      "__________________________________________________________________________________________________\n",
      "dense_9 (Dense)                 (None, 64)           241216      Categorical[0][0]                \n",
      "__________________________________________________________________________________________________\n",
      "concatenate_5 (Concatenate)     (None, 192)          0           global_max_pooling1d_9[0][0]     \n",
      "                                                                 global_max_pooling1d_10[0][0]    \n",
      "                                                                 dense_9[0][0]                    \n",
      "__________________________________________________________________________________________________\n",
      "dense_10 (Dense)                (None, 1)            193         concatenate_5[0][0]              \n",
      "==================================================================================================\n",
      "Total params: 13,981,537\n",
      "Trainable params: 13,981,537\n",
      "Non-trainable params: 0\n",
      "__________________________________________________________________________________________________\n"
     ]
    }
   ],
   "source": [
    "model = build_model()\n",
    "model.summary()\n",
    "\n",
    "dummy_pred = model.predict(make_batch(data_train[:100]))\n",
    "dummy_loss = model.train_on_batch(make_batch(data_train[:100]), data_train['Log1pSalary'][:100])[0]\n",
    "assert dummy_pred.shape == (100, 1)\n",
    "len(np.unique(dummy_pred))\n",
    "assert len(np.unique(dummy_pred)) > 20, \"model returns suspiciously few unique outputs. Check your initialization\"\n",
    "assert np.ndim(dummy_loss) == 0 and 0. <= dummy_loss <= 250., \"make sure you minimize MSE\""
   ]
  },
  {
   "cell_type": "markdown",
   "metadata": {},
   "source": [
    "#### Training and evaluation\n",
    "\n",
    "As usual, we gonna feed our monster with random minibatches of data. \n",
    "\n",
    "As we train, we want to monitor not only loss function, which is computed in log-space, but also the actual error measured in dollars."
   ]
  },
  {
   "cell_type": "code",
   "execution_count": 45,
   "metadata": {},
   "outputs": [],
   "source": [
    "def iterate_minibatches(data, batch_size=256, shuffle=True, cycle=False, **kwargs):\n",
    "    \"\"\" iterates minibatches of data in random order \"\"\"\n",
    "    while True:\n",
    "        indices = np.arange(len(data))\n",
    "        if shuffle:\n",
    "            indices = np.random.permutation(indices)\n",
    "\n",
    "        for start in range(0, len(indices), batch_size):\n",
    "            batch = make_batch(data.iloc[indices[start : start + batch_size]], **kwargs)\n",
    "            target = batch.pop(target_column)\n",
    "            yield batch, target\n",
    "        \n",
    "        if not cycle: break"
   ]
  },
  {
   "cell_type": "markdown",
   "metadata": {},
   "source": [
    "### Model training\n",
    "\n",
    "We can now fit our model the usual minibatch way. The interesting part is that we train on an infinite stream of minibatches, produced by `iterate_minibatches` function."
   ]
  },
  {
   "cell_type": "code",
   "execution_count": 46,
   "metadata": {},
   "outputs": [
    {
     "name": "stdout",
     "output_type": "stream",
     "text": [
      "Epoch 1/10\n",
      "100/100 [==============================] - 161s 2s/step - loss: 19.5405 - mean_absolute_error: 2.8558 - val_loss: 0.3963 - val_mean_absolute_error: 0.4665\n",
      "Epoch 2/10\n",
      "100/100 [==============================] - 162s 2s/step - loss: 0.2840 - mean_absolute_error: 0.3953 - val_loss: 0.2105 - val_mean_absolute_error: 0.3412\n",
      "Epoch 3/10\n",
      "100/100 [==============================] - 163s 2s/step - loss: 0.1822 - mean_absolute_error: 0.3192 - val_loss: 0.1687 - val_mean_absolute_error: 0.3035\n",
      "Epoch 4/10\n",
      "100/100 [==============================] - 162s 2s/step - loss: 0.1471 - mean_absolute_error: 0.2864 - val_loss: 0.1420 - val_mean_absolute_error: 0.2796\n",
      "Epoch 5/10\n",
      "100/100 [==============================] - 168s 2s/step - loss: 0.1296 - mean_absolute_error: 0.2680 - val_loss: 0.1293 - val_mean_absolute_error: 0.2683\n",
      "Epoch 6/10\n",
      "100/100 [==============================] - 163s 2s/step - loss: 0.1109 - mean_absolute_error: 0.2484 - val_loss: 0.1040 - val_mean_absolute_error: 0.2392\n",
      "Epoch 7/10\n",
      "100/100 [==============================] - 158s 2s/step - loss: 0.1009 - mean_absolute_error: 0.2366 - val_loss: 0.0980 - val_mean_absolute_error: 0.2321\n",
      "Epoch 8/10\n",
      "100/100 [==============================] - 165s 2s/step - loss: 0.0894 - mean_absolute_error: 0.2219 - val_loss: 0.0942 - val_mean_absolute_error: 0.2283\n",
      "Epoch 9/10\n",
      "100/100 [==============================] - 182s 2s/step - loss: 0.0809 - mean_absolute_error: 0.2101 - val_loss: 0.0855 - val_mean_absolute_error: 0.2166\n",
      "Epoch 10/10\n",
      "100/100 [==============================] - 174s 2s/step - loss: 0.0788 - mean_absolute_error: 0.2078 - val_loss: 0.0827 - val_mean_absolute_error: 0.2125\n"
     ]
    },
    {
     "data": {
      "text/plain": [
       "<keras.callbacks.History at 0x7f560b140e48>"
      ]
     },
     "execution_count": 46,
     "metadata": {},
     "output_type": "execute_result"
    }
   ],
   "source": [
    "batch_size = 256\n",
    "epochs = 10            # definitely too small\n",
    "steps_per_epoch = 100  # for full pass over data: (len(data_train) - 1) // batch_size + 1\n",
    "\n",
    "model = build_model()\n",
    "\n",
    "model.fit_generator(iterate_minibatches(data_train, batch_size, cycle=True, word_dropout=0.05), \n",
    "                    epochs=epochs, steps_per_epoch=steps_per_epoch,\n",
    "                    \n",
    "                    validation_data=iterate_minibatches(data_val, batch_size, cycle=True),\n",
    "                    validation_steps=data_val.shape[0] // batch_size\n",
    "                   )"
   ]
  },
  {
   "cell_type": "code",
   "execution_count": 48,
   "metadata": {},
   "outputs": [
    {
     "name": "stdout",
     "output_type": "stream",
     "text": [
      "Train results:\n",
      "Mean square error: 0.07063\n",
      "Mean absolute error: 0.19573\n",
      "Val results:\n",
      "Mean square error: 0.08275\n",
      "Mean absolute error: 0.21234\n"
     ]
    }
   ],
   "source": [
    "def print_metrics(model, data, batch_size=batch_size, name=\"\", **kw):\n",
    "    squared_error = abs_error = num_samples = 0.0\n",
    "    for batch_x, batch_y in iterate_minibatches(data, batch_size=batch_size, shuffle=False, **kw):\n",
    "        batch_pred = model.predict(batch_x)[:, 0]\n",
    "        squared_error += np.sum(np.square(batch_pred - batch_y))\n",
    "        abs_error += np.sum(np.abs(batch_pred - batch_y))\n",
    "        num_samples += len(batch_y)\n",
    "    print(\"%s results:\" % (name or \"\"))\n",
    "    print(\"Mean square error: %.5f\" % (squared_error / num_samples))\n",
    "    print(\"Mean absolute error: %.5f\" % (abs_error / num_samples))\n",
    "    return squared_error, abs_error\n",
    "    \n",
    "print_metrics(model, data_train, name='Train')\n",
    "print_metrics(model, data_val, name='Val');"
   ]
  },
  {
   "cell_type": "markdown",
   "metadata": {},
   "source": [
    "### Bonus part: explaining model predictions\n",
    "\n",
    "It's usually a good idea to understand how your model works before you let it make actual decisions. It's simple for linear models: just see which words learned positive or negative weights. However, its much harder for neural networks that learn complex nonlinear dependencies.\n",
    "\n",
    "There are, however, some ways to look inside the black box:\n",
    "* Seeing how model responds to input perturbations\n",
    "* Finding inputs that maximize/minimize activation of some chosen neurons (_read more [on distill.pub](https://distill.pub/2018/building-blocks/)_)\n",
    "* Building local linear approximations to your neural network: [article](https://arxiv.org/abs/1602.04938), [eli5 library](https://github.com/TeamHG-Memex/eli5/tree/master/eli5/formatters)\n",
    "\n",
    "Today we gonna try the first method just because it's the simplest one."
   ]
  },
  {
   "cell_type": "code",
   "execution_count": 49,
   "metadata": {},
   "outputs": [],
   "source": [
    "def explain(model, sample, col_name='Title'):\n",
    "    \"\"\" Computes the effect each word had on model predictions \"\"\"\n",
    "    sample = dict(sample)\n",
    "    sample_col_tokens = [tokens[token_to_id.get(tok, 0)] for tok in sample[col_name].split()]\n",
    "    data_drop_one_token = pd.DataFrame([sample] * (len(sample_col_tokens) + 1))\n",
    "\n",
    "    for drop_i in range(len(sample_col_tokens)):\n",
    "        data_drop_one_token.loc[drop_i, col_name] = ' '.join(UNK if i == drop_i else tok\n",
    "                                                   for i, tok in enumerate(sample_col_tokens)) \n",
    "\n",
    "    *predictions_drop_one_token, baseline_pred = model.predict(make_batch(data_drop_one_token))[:, 0]\n",
    "    diffs = baseline_pred - predictions_drop_one_token\n",
    "    return list(zip(sample_col_tokens, diffs))"
   ]
  },
  {
   "cell_type": "code",
   "execution_count": 50,
   "metadata": {},
   "outputs": [],
   "source": [
    "from IPython.display import HTML, display_html\n",
    "\n",
    "def draw_html(tokens_and_weights, cmap=plt.get_cmap(\"bwr\"), display=True,\n",
    "              token_template=\"\"\"<span style=\"background-color: {color_hex}\">{token}</span>\"\"\",\n",
    "              font_style=\"font-size:14px;\"\n",
    "             ):\n",
    "    \n",
    "    def get_color_hex(weight):\n",
    "        rgba = cmap(1. / (1 + np.exp(weight)), bytes=True)\n",
    "        return '#%02X%02X%02X' % rgba[:3]\n",
    "    \n",
    "    tokens_html = [\n",
    "        token_template.format(token=token, color_hex=get_color_hex(weight))\n",
    "        for token, weight in tokens_and_weights\n",
    "    ]\n",
    "    \n",
    "    \n",
    "    raw_html = \"\"\"<p style=\"{}\">{}</p>\"\"\".format(font_style, ' '.join(tokens_html))\n",
    "    if display:\n",
    "        display_html(HTML(raw_html))\n",
    "        \n",
    "    return raw_html\n",
    "    "
   ]
  },
  {
   "cell_type": "code",
   "execution_count": 51,
   "metadata": {},
   "outputs": [
    {
     "data": {
      "text/html": [
       "<p style=\"font-size:20px;\"><span style=\"background-color: #E0E0FF\">sales</span> <span style=\"background-color: #BEBEFF\">specialist</span> <span style=\"background-color: #FF0101\">iv</span> <span style=\"background-color: #FF1616\">access</span> <span style=\"background-color: #8888FF\">and</span> <span style=\"background-color: #FF0606\">infusion</span></p>"
      ]
     },
     "metadata": {},
     "output_type": "display_data"
    },
    {
     "data": {
      "text/html": [
       "<p style=\"font-size:14px;\"><span style=\"background-color: #FFD8D8\">sales</span> <span style=\"background-color: #FFE6E6\">representative</span> <span style=\"background-color: #FFF2F2\">medical</span> <span style=\"background-color: #FFD2D2\">sales</span> <span style=\"background-color: #FFF0F0\">iv</span> <span style=\"background-color: #FFCECE\">access</span> <span style=\"background-color: #FFE0E0\">and</span> <span style=\"background-color: #FFD6D6\">infusion</span> <span style=\"background-color: #FFC8C8\">an</span> <span style=\"background-color: #FFE6E6\">opportunity</span> <span style=\"background-color: #FFB6B6\">to</span> <span style=\"background-color: #FFB6B6\">work</span> <span style=\"background-color: #FFE2E2\">for</span> <span style=\"background-color: #FFEEEE\">the</span> <span style=\"background-color: #FFECEC\">industry</span> <span style=\"background-color: #FFE2E2\">leading</span> <span style=\"background-color: #FFD3D3\">manufacturer</span> <span style=\"background-color: #FFDEDE\">of</span> <span style=\"background-color: #FFF2F2\">iv</span> <span style=\"background-color: #FFD0D0\">access</span> <span style=\"background-color: #FFD3D3\">and</span> <span style=\"background-color: #FFC8C8\">infusion</span> <span style=\"background-color: #FFE8E8\">solutions</span> <span style=\"background-color: #FFE8E8\">.</span> <span style=\"background-color: #FFD8D8\">formally</span> <span style=\"background-color: #FFEEEE\">recognised</span> <span style=\"background-color: #FFEEEE\">as</span> <span style=\"background-color: #FFEEEE\">the</span> <span style=\"background-color: #FFE2E2\">number</span> <span style=\"background-color: #FFDEDE\">****</span> <span style=\"background-color: #FFDEDE\">company</span> <span style=\"background-color: #FFD6D6\">in</span> <span style=\"background-color: #FFCECE\">this</span> <span style=\"background-color: #FFD6D6\">market</span> <span style=\"background-color: #FFDADA\">space</span> <span style=\"background-color: #FFEAEA\">,</span> <span style=\"background-color: #FFE2E2\">our</span> <span style=\"background-color: #FFDCDC\">client</span> <span style=\"background-color: #FFDADA\">are</span> <span style=\"background-color: #FFDEDE\">an</span> <span style=\"background-color: #FFB6B6\">ethical</span> <span style=\"background-color: #FFDEDE\">and</span> <span style=\"background-color: #FFE0E0\">dynamic</span> <span style=\"background-color: #FFE2E2\">organisation</span> <span style=\"background-color: #FFE2E2\">absolutely</span> <span style=\"background-color: #FFD6D6\">committed</span> <span style=\"background-color: #FFE2E2\">to</span> <span style=\"background-color: #FFF4F4\">the</span> <span style=\"background-color: #FFB6B6\">advancement</span> <span style=\"background-color: #FFE4E4\">of</span> <span style=\"background-color: #FFC2C2\">innovative</span> <span style=\"background-color: #FFF8F8\">technologies</span> <span style=\"background-color: #FFEAEA\">.</span> <span style=\"background-color: #FFD2D2\">job</span> <span style=\"background-color: #FFE2E2\">title</span> <span style=\"background-color: #FFEAEA\">:</span> <span style=\"background-color: #FFE2E2\">sales</span> <span style=\"background-color: #FFDEDE\">specialist</span> <span style=\"background-color: #FFE8E8\">iv</span> <span style=\"background-color: #FFD0D0\">access</span> <span style=\"background-color: #FFDADA\">and</span> <span style=\"background-color: #FFDCDC\">infusion</span> <span style=\"background-color: #FFEEEE\">selling</span> <span style=\"background-color: #FFDADA\">:</span> <span style=\"background-color: #FFCECE\">medication</span> <span style=\"background-color: #FFCECE\">delivery</span> <span style=\"background-color: #FFDADA\">solutions</span> <span style=\"background-color: #FFD3D3\">selling</span> <span style=\"background-color: #FFDADA\">to</span> <span style=\"background-color: #FFB8B8\">:</span> <span style=\"background-color: #FFC3C3\">iv</span> <span style=\"background-color: #FFF8F8\">teams</span> <span style=\"background-color: #FFE2E2\">,</span> <span style=\"background-color: #FFCCCC\">infection</span> <span style=\"background-color: #FFAEAE\">control</span> <span style=\"background-color: #FFCACA\">,</span> <span style=\"background-color: #FFF0F0\">lead</span> <span style=\"background-color: #FFDCDC\">intensive</span> <span style=\"background-color: #FFF2F2\">care</span> <span style=\"background-color: #FFE4E4\">nurse</span> <span style=\"background-color: #FFEAEA\">specialists</span> <span style=\"background-color: #FFECEC\">,</span> <span style=\"background-color: #FFE0E0\">ward</span> <span style=\"background-color: #FFCCCC\">managers</span> <span style=\"background-color: #FFE2E2\">territory</span> <span style=\"background-color: #FFE2E2\">:</span> <span style=\"background-color: #FFD6D6\">east</span> <span style=\"background-color: #FFD0D0\">midlands</span> <span style=\"background-color: #FFDEDE\">location</span> <span style=\"background-color: #FFE0E0\">:</span> <span style=\"background-color: #FFD3D3\">east</span> <span style=\"background-color: #FFE2E2\">midlands</span> <span style=\"background-color: #FFE4E4\">package</span> <span style=\"background-color: #FFDADA\">:</span> <span style=\"background-color: #FFDCDC\">basic</span> <span style=\"background-color: #FFE0E0\">:</span> <span style=\"background-color: #E2E2FF\">****</span> <span style=\"background-color: #FFF8F8\">k</span> <span style=\"background-color: #FFFEFE\">****</span> <span style=\"background-color: #FFECEC\">k</span> <span style=\"background-color: #FFE0E0\">,</span> <span style=\"background-color: #FFE2E2\">uncapped</span> <span style=\"background-color: #FFDEDE\">bonus</span> <span style=\"background-color: #FFDEDE\">in</span> <span style=\"background-color: #FFDADA\">addition</span> <span style=\"background-color: #FFBABA\">,</span> <span style=\"background-color: #FFDADA\">full</span> <span style=\"background-color: #FFCCCC\">corporate</span> <span style=\"background-color: #FFDCDC\">benefits</span> <span style=\"background-color: #FFE0E0\">company</span> <span style=\"background-color: #FFE8E8\">information</span> <span style=\"background-color: #FFE2E2\">hugely</span> <span style=\"background-color: #FFCCCC\">ethical</span> <span style=\"background-color: #FFEEEE\">and</span> <span style=\"background-color: #FFD0D0\">professional</span> <span style=\"background-color: #FFE2E2\">global</span> <span style=\"background-color: #FFD2D2\">organisation</span> <span style=\"background-color: #FFDADA\">extremely</span> <span style=\"background-color: #FFD2D2\">well</span> <span style=\"background-color: #FFC2C2\">established</span> <span style=\"background-color: #FFCECE\">in</span> <span style=\"background-color: #FFE2E2\">the</span> <span style=\"background-color: #FFD8D8\">uk</span> <span style=\"background-color: #FFDCDC\">the</span> <span style=\"background-color: #FFC3C3\">market</span> <span style=\"background-color: #FFD2D2\">leader</span> <span style=\"background-color: #FFE4E4\">across</span> <span style=\"background-color: #FF9E9E\">all</span> <span style=\"background-color: #FFDCDC\">of</span> <span style=\"background-color: #FFBABA\">their</span> <span style=\"background-color: #FFDADA\">core</span> <span style=\"background-color: #FFF0F0\">business</span> <span style=\"background-color: #FFD0D0\">areas</span> <span style=\"background-color: #FFCCCC\">focus</span> <span style=\"background-color: #FFE6E6\">on</span> <span style=\"background-color: #FFE4E4\">providing</span> <span style=\"background-color: #FFCECE\">cutting</span> <span style=\"background-color: #FFD0D0\">edge</span> <span style=\"background-color: #FFBCBC\">solutions</span> <span style=\"background-color: #FFC6C6\">along</span> <span style=\"background-color: #FFDEDE\">with</span> <span style=\"background-color: #FFD8D8\">outstanding</span> <span style=\"background-color: #FFCACA\">service</span> <span style=\"background-color: #FFDEDE\">and</span> <span style=\"background-color: #CECEFF\">support</span> <span style=\"background-color: #E8E8FF\">a</span> <span style=\"background-color: #FFE0E0\">business</span> <span style=\"background-color: #FFDADA\">that</span> <span style=\"background-color: #FFE0E0\">retain</span> <span style=\"background-color: #FFD2D2\">talented</span> <span style=\"background-color: #FFE2E2\">personnel</span> <span style=\"background-color: #FFD6D6\">by</span> <span style=\"background-color: #FFBABA\">offering</span> <span style=\"background-color: #FFD8D8\">a</span> <span style=\"background-color: #FFB0B0\">strong</span> <span style=\"background-color: #FFE6E6\">platform</span> <span style=\"background-color: #FFFAFA\">for</span> <span style=\"background-color: #FFDEDE\">career</span> <span style=\"background-color: #FFEAEA\">development</span> <span style=\"background-color: #FFECEC\">sales</span> <span style=\"background-color: #FFE2E2\">specialist</span> <span style=\"background-color: #FFE8E8\">iv</span> <span style=\"background-color: #FFD0D0\">access</span> <span style=\"background-color: #FFE8E8\">and</span> <span style=\"background-color: #FFBABA\">infusion</span> <span style=\"background-color: #FFE0E0\">you</span> <span style=\"background-color: #FFE8E8\">must</span> <span style=\"background-color: #FFD6D6\">have</span> <span style=\"background-color: #FFD8D8\">/</span> <span style=\"background-color: #FFD6D6\">be</span> <span style=\"background-color: #FFE2E2\">the</span> <span style=\"background-color: #FFD6D6\">following</span> <span style=\"background-color: #FFEAEA\">at</span> <span style=\"background-color: #FFD2D2\">least</span> <span style=\"background-color: #FFD8D8\">2</span> <span style=\"background-color: #FFDEDE\">years</span> <span style=\"background-color: #FFEEEE\">medical</span> <span style=\"background-color: #FFB6B6\">device</span> <span style=\"background-color: #FFCECE\">sales</span> <span style=\"background-color: #FFE2E2\">experience</span> <span style=\"background-color: #FFD8D8\">.</span> <span style=\"background-color: #FFE2E2\">candidates</span> <span style=\"background-color: #FFE4E4\">who</span> <span style=\"background-color: #FFE6E6\">have</span> <span style=\"background-color: #FFE2E2\">sold</span> <span style=\"background-color: #FFDEDE\">disposables</span> <span style=\"background-color: #FFF2F2\">/</span> <span style=\"background-color: #FFC3C3\">consumables</span> <span style=\"background-color: #FFDCDC\">or</span> <span style=\"background-color: #FFC0C0\">similar</span> <span style=\"background-color: #FFCACA\">into</span> <span style=\"background-color: #FFEAEA\">hospitals</span> <span style=\"background-color: #FFDEDE\">would</span> <span style=\"background-color: #FFC6C6\">be</span> <span style=\"background-color: #FFBEBE\">of</span> <span style=\"background-color: #FFE4E4\">particular</span> <span style=\"background-color: #FFE0E0\">interest</span> <span style=\"background-color: #FFC3C3\">.</span> <span style=\"background-color: #FFE6E6\">candidates</span> <span style=\"background-color: #FFE4E4\">must</span> <span style=\"background-color: #FFD6D6\">have</span> <span style=\"background-color: #FFD6D6\">sold</span> <span style=\"background-color: #FFC3C3\">into</span> <span style=\"background-color: #FFD3D3\">hospitals</span> <span style=\"background-color: #FFD2D2\">demonstrable</span> <span style=\"background-color: #FFC6C6\">performance</span> <span style=\"background-color: #FFF4F4\">and</span> <span style=\"background-color: #FFE4E4\">achievements</span> <span style=\"background-color: #FFD8D8\">so</span> <span style=\"background-color: #FFE2E2\">far</span> <span style=\"background-color: #FFF2F2\">personable</span> <span style=\"background-color: #FFF4F4\">,</span> <span style=\"background-color: #FFC0C0\">adaptable</span> <span style=\"background-color: #FFD0D0\">and</span> <span style=\"background-color: #FFE2E2\">willing</span> <span style=\"background-color: #FFE8E8\">to</span> <span style=\"background-color: #FFD6D6\">learn</span> <span style=\"background-color: #FFC0C0\">keen</span> <span style=\"background-color: #FFD2D2\">and</span> <span style=\"background-color: #FFECEC\">eager</span> <span style=\"background-color: #FFC3C3\">to</span> <span style=\"background-color: #FFD3D3\">be</span> <span style=\"background-color: #FFD6D6\">a</span> <span style=\"background-color: #FFC2C2\">success</span> <span style=\"background-color: #FFDEDE\">candidates</span> <span style=\"background-color: #FFD8D8\">must</span> <span style=\"background-color: #FFF2F2\">have</span> <span style=\"background-color: #FFF2F2\">a</span> <span style=\"background-color: #FFECEC\">degree</span> <span style=\"background-color: #FFDADA\">or</span> <span style=\"background-color: #FFCECE\">at</span> <span style=\"background-color: #FFD0D0\">least</span> <span style=\"background-color: #FFEEEE\">be</span> <span style=\"background-color: #FFEEEE\">able</span> <span style=\"background-color: #FFD6D6\">to</span> <span style=\"background-color: #FFBCBC\">show</span> <span style=\"background-color: #FFE0E0\">a</span> <span style=\"background-color: #FFDADA\">strong</span> <span style=\"background-color: #FFDADA\">ability</span> <span style=\"background-color: #FFEAEA\">to</span> <span style=\"background-color: #FFD3D3\">learn</span> <span style=\"background-color: #FFD3D3\">role</span> <span style=\"background-color: #FFE4E4\">information</span> <span style=\"background-color: #FFE8E8\">managing</span> <span style=\"background-color: #FFDEDE\">the</span> <span style=\"background-color: #FFD8D8\">east</span> <span style=\"background-color: #FFD2D2\">midlands</span> <span style=\"background-color: #FFCCCC\">region</span> <span style=\"background-color: #FFE2E2\">selling</span> <span style=\"background-color: #FFCECE\">across</span> <span style=\"background-color: #FFDADA\">the</span> <span style=\"background-color: #FFC6C6\">company</span> <span style=\"background-color: #FFD3D3\">'</span> <span style=\"background-color: #FFF8F8\">s</span> <span style=\"background-color: #FFD2D2\">range</span> <span style=\"background-color: #FFF6F6\">of</span> <span style=\"background-color: #FFC6C6\">iv</span> <span style=\"background-color: #FFDCDC\">and</span> <span style=\"background-color: #FFD3D3\">infusion</span> <span style=\"background-color: #FFDCDC\">solutions</span> <span style=\"background-color: #FFCCCC\">portfolio</span> <span style=\"background-color: #FFB3B3\">selling</span> <span style=\"background-color: #FFB8B8\">into</span> <span style=\"background-color: #FEFEFF\">lead</span> <span style=\"background-color: #FFE8E8\">intensive</span> <span style=\"background-color: #FFF2F2\">care</span> <span style=\"background-color: #FFE4E4\">nurse</span> <span style=\"background-color: #FFEAEA\">specialists</span> <span style=\"background-color: #FFECEC\">,</span> <span style=\"background-color: #FFE2E2\">ward</span> <span style=\"background-color: #FFEAEA\">managers</span> <span style=\"background-color: #FFC3C3\">,</span> <span style=\"background-color: #FFCACA\">iv</span> <span style=\"background-color: #FFF0F0\">teams</span> <span style=\"background-color: #FFE2E2\">,</span> <span style=\"background-color: #FFB8B8\">infection</span> <span style=\"background-color: #FFC6C6\">control</span> <span style=\"background-color: #FFE8E8\">teams</span> <span style=\"background-color: #FFEEEE\">,</span> <span style=\"background-color: #FFE4E4\">procurement</span> <span style=\"background-color: #FFDEDE\">sales</span> <span style=\"background-color: #FFE2E2\">specialist</span> <span style=\"background-color: #FFE8E8\">iv</span> <span style=\"background-color: #FFD0D0\">access</span> <span style=\"background-color: #FFE4E4\">and</span> <span style=\"background-color: #FFCACA\">infusion</span> <span style=\"background-color: #FFE6E6\">candidates</span> <span style=\"background-color: #FFDCDC\">must</span> <span style=\"background-color: #FFF4F4\">be</span> <span style=\"background-color: #FFD8D8\">eligible</span> <span style=\"background-color: #FFE8E8\">to</span> <span style=\"background-color: #FFD8D8\">work</span> <span style=\"background-color: #FFDEDE\">and</span> <span style=\"background-color: #FFD3D3\">live</span> <span style=\"background-color: #FFEAEA\">in</span> <span style=\"background-color: #FFD2D2\">the</span> <span style=\"background-color: #FFE2E2\">uk</span> <span style=\"background-color: #FFD2D2\">.</span> <span style=\"background-color: #FFD8D8\">please</span> <span style=\"background-color: #FFE8E8\">contact</span> <span style=\"background-color: #FFD0D0\">allan</span> <span style=\"background-color: #FFC3C3\">waller</span> <span style=\"background-color: #FFF0F0\">on</span> <span style=\"background-color: #FFF0F0\">****</span> <span style=\"background-color: #FFE4E4\">****</span> <span style=\"background-color: #FFE2E2\">****</span> <span style=\"background-color: #FFE4E4\">or</span> <span style=\"background-color: #FFC6C6\">please</span> <span style=\"background-color: #FFF0F0\">hit</span> <span style=\"background-color: #FFF2F2\">the</span> <span style=\"background-color: #FFDADA\">apply</span> <span style=\"background-color: #FFE2E2\">button</span> <span style=\"background-color: #CECEFF\">.</span> <span style=\"background-color: #D3D3FF\">this</span> <span style=\"background-color: #FFFAFA\">job</span> <span style=\"background-color: #FFDADA\">was</span> <span style=\"background-color: #FFB8B8\">originally</span> <span style=\"background-color: #FFD6D6\">posted</span> <span style=\"background-color: #FFD0D0\">as</span> <span style=\"background-color: #E8E8FF\">www</span> <span style=\"background-color: #FFFAFA\">.</span> <span style=\"background-color: #FFF4F4\">salestarget</span> <span style=\"background-color: #FFCCCC\">.</span> <span style=\"background-color: #FFD8D8\">co</span> <span style=\"background-color: #FFDCDC\">.</span> <span style=\"background-color: #FFE8E8\">uk</span> <span style=\"background-color: #FFDADA\">/</span> <span style=\"background-color: #FFC8C8\">jobseeking</span> <span style=\"background-color: #E2E2FF\">/</span> <span style=\"background-color: #FFFEFE\">UNK</span> <span style=\"background-color: #FAFAFF\">****</span></p>"
      ]
     },
     "metadata": {},
     "output_type": "display_data"
    }
   ],
   "source": [
    "i = 36605\n",
    "tokens_and_weights = explain(model, data.loc[i], \"Title\")\n",
    "draw_html([(tok, weight * 5) for tok, weight in tokens_and_weights], font_style='font-size:20px;');\n",
    "\n",
    "tokens_and_weights = explain(model, data.loc[i], \"FullDescription\")\n",
    "draw_html([(tok, weight * 10) for tok, weight in tokens_and_weights]);"
   ]
  },
  {
   "cell_type": "code",
   "execution_count": 54,
   "metadata": {},
   "outputs": [
    {
     "data": {
      "text/html": [
       "<p style=\"font-size:20px;\"><span style=\"background-color: #0000FF\">cleaning</span> <span style=\"background-color: #0000FF\">operative</span></p>"
      ]
     },
     "metadata": {},
     "output_type": "display_data"
    },
    {
     "data": {
      "text/html": [
       "<p style=\"font-size:14px;\"><span style=\"background-color: #0000FF\">12</span> <span style=\"background-color: #0000FF\">.</span> <span style=\"background-color: #0000FF\">5</span> <span style=\"background-color: #0000FF\">hours</span> <span style=\"background-color: #0000FF\">per</span> <span style=\"background-color: #0000FF\">week</span> <span style=\"background-color: #0000FF\">monday</span> <span style=\"background-color: #0000FF\">friday</span> <span style=\"background-color: #0000FF\">9am</span> <span style=\"background-color: #0000FF\">11</span> <span style=\"background-color: #0000FF\">.</span> <span style=\"background-color: #0000FF\">30am</span> <span style=\"background-color: #0000FF\">duties</span> <span style=\"background-color: #0000FF\">to</span> <span style=\"background-color: #0000FF\">include</span> <span style=\"background-color: #0000FF\">sweeping</span> <span style=\"background-color: #0000FF\">,</span> <span style=\"background-color: #0000FF\">mopping</span> <span style=\"background-color: #0000FF\">,</span> <span style=\"background-color: #0000FF\">vacuuming</span> <span style=\"background-color: #0000FF\">,</span> <span style=\"background-color: #0000FF\">buffing</span> <span style=\"background-color: #0000FF\">,</span> <span style=\"background-color: #0000FF\">cleaning</span> <span style=\"background-color: #0000FF\">staff</span> <span style=\"background-color: #0000FF\">toilets</span> <span style=\"background-color: #0000FF\">and</span> <span style=\"background-color: #0000FF\">rest</span> <span style=\"background-color: #0000FF\">room</span> <span style=\"background-color: #0000FF\">.</span> <span style=\"background-color: #0000FF\">must</span> <span style=\"background-color: #0000FF\">be</span> <span style=\"background-color: #0000FF\">able</span> <span style=\"background-color: #0000FF\">to</span> <span style=\"background-color: #0000FF\">read</span> <span style=\"background-color: #0000FF\">as</span> <span style=\"background-color: #0000FF\">they</span> <span style=\"background-color: #0000FF\">will</span> <span style=\"background-color: #0000FF\">be</span> <span style=\"background-color: #0000FF\">using</span> <span style=\"background-color: #0000FF\">UNK</span> <span style=\"background-color: #0000FF\">which</span> <span style=\"background-color: #0000FF\">need</span> <span style=\"background-color: #0000FF\">UNK</span> <span style=\"background-color: #0000FF\">as</span> <span style=\"background-color: #0000FF\">per</span> <span style=\"background-color: #0000FF\">instructions</span> <span style=\"background-color: #0000FF\">on</span> <span style=\"background-color: #0000FF\">the</span> <span style=\"background-color: #0000FF\">containers</span> <span style=\"background-color: #0000FF\">.</span> <span style=\"background-color: #0000FF\">sucessfull</span> <span style=\"background-color: #0000FF\">applicants</span> <span style=\"background-color: #0000FF\">will</span> <span style=\"background-color: #0000FF\">be</span> <span style=\"background-color: #0000FF\">trained</span> <span style=\"background-color: #0000FF\">on</span> <span style=\"background-color: #0000FF\">all</span> <span style=\"background-color: #0000FF\">electrical</span> <span style=\"background-color: #0000FF\">appliances</span> <span style=\"background-color: #0000FF\">and</span> <span style=\"background-color: #0000FF\">UNK</span> <span style=\"background-color: #0000FF\">of</span> <span style=\"background-color: #0000FF\">cleaning</span> <span style=\"background-color: #0000FF\">materials</span> <span style=\"background-color: #0000FF\">.</span></p>"
      ]
     },
     "metadata": {},
     "output_type": "display_data"
    }
   ],
   "source": [
    "i = 12077\n",
    "tokens_and_weights = explain(model, data.loc[i], \"Title\")\n",
    "draw_html([(tok, weight * 5) for tok, weight in tokens_and_weights], font_style='font-size:20px;');\n",
    "\n",
    "tokens_and_weights = explain(model, data.loc[i], \"FullDescription\")\n",
    "draw_html([(tok, weight * 10) for tok, weight in tokens_and_weights]);"
   ]
  },
  {
   "cell_type": "code",
   "execution_count": 55,
   "metadata": {},
   "outputs": [
    {
     "name": "stdout",
     "output_type": "stream",
     "text": [
      "Index: 171932\n",
      "Salary (gbp): 2374.9392\n"
     ]
    },
    {
     "data": {
      "text/html": [
       "<p style=\"font-size:20px;\"><span style=\"background-color: #FFD0D0\">interim</span> <span style=\"background-color: #FF8A8A\">finance</span> <span style=\"background-color: #FFC0C0\">projects</span> <span style=\"background-color: #FF4646\">manager</span></p>"
      ]
     },
     "metadata": {},
     "output_type": "display_data"
    },
    {
     "data": {
      "text/html": [
       "<p style=\"font-size:14px;\"><span style=\"background-color: #FFFEFE\">my</span> <span style=\"background-color: #FFEEEE\">client</span> <span style=\"background-color: #FFECEC\">is</span> <span style=\"background-color: #FFFCFC\">recruiting</span> <span style=\"background-color: #FCFCFF\">for</span> <span style=\"background-color: #FFFEFE\">an</span> <span style=\"background-color: #FFF0F0\">interim</span> <span style=\"background-color: #FFFCFC\">finance</span> <span style=\"background-color: #FFD8D8\">projects</span> <span style=\"background-color: #FFFCFC\">manager</span> <span style=\"background-color: #FFF8F8\">for</span> <span style=\"background-color: #FFF6F6\">approximately</span> <span style=\"background-color: #FFFEFE\">1</span> <span style=\"background-color: #FEFEFF\">****</span> <span style=\"background-color: #FFBCBC\">months</span> <span style=\"background-color: #E6E6FF\">to</span> <span style=\"background-color: #FFECEC\">cover</span> <span style=\"background-color: #FFFEFE\">maternity</span> <span style=\"background-color: #FFFAFA\">leave</span> <span style=\"background-color: #E6E6FF\">.</span> <span style=\"background-color: #FFFEFE\">the</span> <span style=\"background-color: #DADAFF\">role</span> <span style=\"background-color: #FFD6D6\">sits</span> <span style=\"background-color: #FFFEFE\">in</span> <span style=\"background-color: #FFECEC\">the</span> <span style=\"background-color: #FFFCFC\">finance</span> <span style=\"background-color: #FFEAEA\">team</span> <span style=\"background-color: #FFFAFA\">managing</span> <span style=\"background-color: #FFE8E8\">it</span> <span style=\"background-color: #FFFEFE\">requirements</span> <span style=\"background-color: #FFC6C6\">within</span> <span style=\"background-color: #FFFEFE\">finance</span> <span style=\"background-color: #FFFCFC\">.</span> <span style=\"background-color: #FFE4E4\">it</span> <span style=\"background-color: #FEFEFF\">is</span> <span style=\"background-color: #FFFAFA\">a</span> <span style=\"background-color: #FFCCCC\">reasonably</span> <span style=\"background-color: #D0D0FF\">senior</span> <span style=\"background-color: #FFEAEA\">,</span> <span style=\"background-color: #FFF6F6\">stand</span> <span style=\"background-color: #FFF8F8\">alone</span> <span style=\"background-color: #FFFCFC\">position</span> <span style=\"background-color: #FFFEFE\">.</span> <span style=\"background-color: #FFFEFE\">they</span> <span style=\"background-color: #FFF2F2\">are</span> <span style=\"background-color: #FFEEEE\">looking</span> <span style=\"background-color: #FFFEFE\">for</span> <span style=\"background-color: #FFFEFE\">a</span> <span style=\"background-color: #FFECEC\">fixer</span> <span style=\"background-color: #FFEAEA\">'</span> <span style=\"background-color: #FFEAEA\">with</span> <span style=\"background-color: #FFEEEE\">significant</span> <span style=\"background-color: #D6D6FF\">project</span> <span style=\"background-color: #FFE4E4\">management</span> <span style=\"background-color: #DADAFF\">experience</span> <span style=\"background-color: #FFECEC\">.'</span> <span style=\"background-color: #FFFAFA\">you</span> <span style=\"background-color: #FFFEFE\">will</span> <span style=\"background-color: #FFE4E4\">be</span> <span style=\"background-color: #FFFAFA\">a</span> <span style=\"background-color: #F2F2FF\">qualified</span> <span style=\"background-color: #F3F3FF\">accountant</span> <span style=\"background-color: #FFDEDE\">with</span> <span style=\"background-color: #FFF8F8\">significant</span> <span style=\"background-color: #FFE2E2\">experience</span> <span style=\"background-color: #FFF2F2\">in</span> <span style=\"background-color: #FFE4E4\">a</span> <span style=\"background-color: #FFF2F2\">financial</span> <span style=\"background-color: #FFF0F0\">environment</span> <span style=\"background-color: #FFFEFE\">ideally</span> <span style=\"background-color: #FFFEFE\">having</span> <span style=\"background-color: #FFFAFA\">managed</span> <span style=\"background-color: #FFF8F8\">different</span> <span style=\"background-color: #FFE6E6\">functions</span> <span style=\"background-color: #FFFEFE\">of</span> <span style=\"background-color: #FFE8E8\">a</span> <span style=\"background-color: #FFF8F8\">finance</span> <span style=\"background-color: #FFEAEA\">department</span> <span style=\"background-color: #D8D8FF\">(</span> <span style=\"background-color: #FFC8C8\">payroll</span> <span style=\"background-color: #D2D2FF\">,</span> <span style=\"background-color: #FFFEFE\">accounts</span> <span style=\"background-color: #FFF0F0\">payable</span> <span style=\"background-color: #FCFCFF\">,</span> <span style=\"background-color: #FEFEFF\">general</span> <span style=\"background-color: #FFD6D6\">ledger</span> <span style=\"background-color: #FFF6F6\">and</span> <span style=\"background-color: #FFF0F0\">credit</span> <span style=\"background-color: #FFFEFE\">control</span> <span style=\"background-color: #FFFEFE\">).</span> <span style=\"background-color: #FFF6F6\">ideally</span> <span style=\"background-color: #FFFCFC\">you</span> <span style=\"background-color: #FFFAFA\">will</span> <span style=\"background-color: #FFE4E4\">also</span> <span style=\"background-color: #FFF6F6\">be</span> <span style=\"background-color: #F2F2FF\">prince</span> <span style=\"background-color: #FFEEEE\">2</span> <span style=\"background-color: #FEFEFF\">qualified</span> <span style=\"background-color: #FCFCFF\">.</span> <span style=\"background-color: #FFFAFA\">my</span> <span style=\"background-color: #FFE4E4\">client</span> <span style=\"background-color: #FCFCFF\">is</span> <span style=\"background-color: #F2F2FF\">a</span> <span style=\"background-color: #FFEAEA\">national</span> <span style=\"background-color: #FFF8F8\">business</span> <span style=\"background-color: #FFFEFE\">offering</span> <span style=\"background-color: #FFFEFE\">a</span> <span style=\"background-color: #FFF8F8\">unique</span> <span style=\"background-color: #FFB8B8\">collection</span> <span style=\"background-color: #FFFCFC\">of</span> <span style=\"background-color: #FFDEDE\">specialises</span> <span style=\"background-color: #FFFEFE\">across</span> <span style=\"background-color: #FFFEFE\">various</span> <span style=\"background-color: #F6F6FF\">sectors</span> <span style=\"background-color: #E0E0FF\">.</span> <span style=\"background-color: #E0E0FF\">they</span> <span style=\"background-color: #FEFEFF\">have</span> <span style=\"background-color: #FFF4F4\">modern</span> <span style=\"background-color: #FFFCFC\">offices</span> <span style=\"background-color: #FFF2F2\">in</span> <span style=\"background-color: #FFDCDC\">nottingham</span> <span style=\"background-color: #FFF8F8\">with</span> <span style=\"background-color: #FEFEFF\">excellent</span> <span style=\"background-color: #FFF8F8\">facilities</span> <span style=\"background-color: #D8D8FF\">and</span> <span style=\"background-color: #FFFEFE\">other</span> <span style=\"background-color: #F8F8FF\">regional</span> <span style=\"background-color: #FFFEFE\">offices</span> <span style=\"background-color: #FFECEC\">across</span> <span style=\"background-color: #FFF8F8\">the</span> <span style=\"background-color: #FFFAFA\">uk</span> <span style=\"background-color: #FFF2F2\">.</span> <span style=\"background-color: #FFF8F8\">they</span> <span style=\"background-color: #FFFEFE\">are</span> <span style=\"background-color: #FFD0D0\">committed</span> <span style=\"background-color: #FFFEFE\">to</span> <span style=\"background-color: #FEFEFF\">being</span> <span style=\"background-color: #FFFEFE\">a</span> <span style=\"background-color: #FFF2F2\">quality</span> <span style=\"background-color: #FFDCDC\">,</span> <span style=\"background-color: #FFFEFE\">UNK</span> <span style=\"background-color: #FFECEC\">business</span> <span style=\"background-color: #FAFAFF\">.</span> <span style=\"background-color: #FFF2F2\">only</span> <span style=\"background-color: #FFE4E4\">applicants</span> <span style=\"background-color: #FFFEFE\">with</span> <span style=\"background-color: #FFF6F6\">a</span> <span style=\"background-color: #FFF4F4\">suitable</span> <span style=\"background-color: #FFC0C0\">amount</span> <span style=\"background-color: #D3D3FF\">of</span> <span style=\"background-color: #EAEAFF\">uk</span> <span style=\"background-color: #FFECEC\">based</span> <span style=\"background-color: #FFF6F6\">experience</span> <span style=\"background-color: #FFFAFA\">and</span> <span style=\"background-color: #FFFAFA\">who</span> <span style=\"background-color: #FFFCFC\">have</span> <span style=\"background-color: #FAFAFF\">a</span> <span style=\"background-color: #FEFEFF\">legal</span> <span style=\"background-color: #FFC6C6\">right</span> <span style=\"background-color: #E3E3FF\">to</span> <span style=\"background-color: #E6E6FF\">work</span> <span style=\"background-color: #FFF0F0\">within</span> <span style=\"background-color: #FFFEFE\">the</span> <span style=\"background-color: #FFFEFE\">uk</span> <span style=\"background-color: #FAFAFF\">will</span> <span style=\"background-color: #FFFCFC\">be</span> <span style=\"background-color: #FFDADA\">considered</span> <span style=\"background-color: #FFFEFE\">.</span></p>"
      ]
     },
     "metadata": {},
     "output_type": "display_data"
    }
   ],
   "source": [
    "i = np.random.randint(len(data))\n",
    "print(\"Index:\", i)\n",
    "print(\"Salary (gbp):\", np.expm1(model.predict(make_batch(data.iloc[i: i+1]))[0, 0]))\n",
    "\n",
    "tokens_and_weights = explain(model, data.loc[i], \"Title\")\n",
    "draw_html([(tok, weight * 5) for tok, weight in tokens_and_weights], font_style='font-size:20px;');\n",
    "\n",
    "tokens_and_weights = explain(model, data.loc[i], \"FullDescription\")\n",
    "draw_html([(tok, weight * 10) for tok, weight in tokens_and_weights]);"
   ]
  },
  {
   "cell_type": "markdown",
   "metadata": {},
   "source": [
    "__Terrible start-up idea #1962:__ make a tool that automaticaly rephrases your job description (or CV) to meet salary expectations :)"
   ]
  }
 ],
 "metadata": {
  "kernelspec": {
   "display_name": "Python 3",
   "language": "python",
   "name": "python3"
  },
  "language_info": {
   "codemirror_mode": {
    "name": "ipython",
    "version": 3
   },
   "file_extension": ".py",
   "mimetype": "text/x-python",
   "name": "python",
   "nbconvert_exporter": "python",
   "pygments_lexer": "ipython3",
   "version": "3.6.5"
  }
 },
 "nbformat": 4,
 "nbformat_minor": 2
}
