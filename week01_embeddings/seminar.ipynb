{
 "cells": [
  {
   "cell_type": "markdown",
   "metadata": {},
   "source": [
    "## Seminar 1: Fun with Word Embeddings (3 points)\n",
    "\n",
    "Today we gonna play with word embeddings: train our own little embedding, load one from   gensim model zoo and use it to visualize text corpora.\n",
    "\n",
    "This whole thing is gonna happen on top of embedding dataset.\n",
    "\n",
    "__Requirements:__  `pip install --upgrade nltk gensim bokeh` , but only if you're running locally."
   ]
  },
  {
   "cell_type": "code",
   "execution_count": null,
   "metadata": {
    "collapsed": true
   },
   "outputs": [],
   "source": [
    "# download the data:\n",
    "!wget https://www.dropbox.com/s/obaitrix9jyu84r/quora.txt?dl=1 -O ./quora.txt\n",
    "# alternative download link: https://yadi.sk/i/BPQrUu1NaTduEw"
   ]
  },
  {
   "cell_type": "code",
   "execution_count": 3,
   "metadata": {
    "scrolled": false
   },
   "outputs": [
    {
     "data": {
      "text/plain": [
       "\"What TV shows or books help you read people's body language?\\n\""
      ]
     },
     "execution_count": 3,
     "metadata": {},
     "output_type": "execute_result"
    }
   ],
   "source": [
    "import numpy as np\n",
    "\n",
    "data = list(open(\"./quora.txt\"))\n",
    "data[50]"
   ]
  },
  {
   "cell_type": "markdown",
   "metadata": {},
   "source": [
    "__Tokenization:__ a typical first step for an nlp task is to split raw data into words.\n",
    "The text we're working with is in raw format: with all the punctuation and smiles attached to some words, so a simple str.split won't do.\n",
    "\n",
    "Let's use __`nltk`__ - a library that handles many nlp tasks like tokenization, stemming or part-of-speech tagging."
   ]
  },
  {
   "cell_type": "code",
   "execution_count": 4,
   "metadata": {},
   "outputs": [
    {
     "name": "stdout",
     "output_type": "stream",
     "text": [
      "['What', 'TV', 'shows', 'or', 'books', 'help', 'you', 'read', 'people', \"'\", 's', 'body', 'language', '?']\n"
     ]
    }
   ],
   "source": [
    "from nltk.tokenize import WordPunctTokenizer\n",
    "tokenizer = WordPunctTokenizer()\n",
    "\n",
    "print(tokenizer.tokenize(data[50]))"
   ]
  },
  {
   "cell_type": "code",
   "execution_count": 8,
   "metadata": {},
   "outputs": [],
   "source": [
    "# TASK: lowercase everything and extract tokens with tokenizer. \n",
    "# data_tok should be a list of lists of tokens for each line in data.\n",
    "\n",
    "data_tok = [tokenizer.tokenize(item.lower()) for item in data]"
   ]
  },
  {
   "cell_type": "code",
   "execution_count": 9,
   "metadata": {},
   "outputs": [],
   "source": [
    "assert all(isinstance(row, (list, tuple)) for row in data_tok), \"please convert each line into a list of tokens (strings)\"\n",
    "assert all(all(isinstance(tok, str) for tok in row) for row in data_tok), \"please convert each line into a list of tokens (strings)\"\n",
    "is_latin = lambda tok: all('a' <= x.lower() <= 'z' for x in tok)\n",
    "assert all(map(lambda l: not is_latin(l) or l.islower(), map(' '.join, data_tok))), \"please make sure to lowercase the data\""
   ]
  },
  {
   "cell_type": "code",
   "execution_count": 10,
   "metadata": {},
   "outputs": [
    {
     "name": "stdout",
     "output_type": "stream",
     "text": [
      "[\"can i get back with my ex even though she is pregnant with another guy ' s baby ?\", 'what are some ways to overcome a fast food addiction ?']\n"
     ]
    }
   ],
   "source": [
    "print([' '.join(row) for row in data_tok[:2]])"
   ]
  },
  {
   "cell_type": "markdown",
   "metadata": {},
   "source": [
    "__Word vectors:__ as the saying goes, there's more than one way to train word embeddings. There's Word2Vec and GloVe with different objective functions. Then there's fasttext that uses character-level models to train word embeddings. \n",
    "\n",
    "The choice is huge, so let's start someplace small: __gensim__ is another nlp library that features many vector-based models incuding word2vec."
   ]
  },
  {
   "cell_type": "code",
   "execution_count": 11,
   "metadata": {},
   "outputs": [],
   "source": [
    "from gensim.models import Word2Vec\n",
    "model = Word2Vec(data_tok, \n",
    "                 size=32,      # embedding vector size\n",
    "                 min_count=5,  # consider words that occured at least 5 times\n",
    "                 window=5).wv  # define context as a 5-word window around the target word"
   ]
  },
  {
   "cell_type": "code",
   "execution_count": 12,
   "metadata": {},
   "outputs": [
    {
     "data": {
      "text/plain": [
       "array([-3.7673216e-03, -1.5937442e+00, -2.4193406e+00,  4.5361531e-01,\n",
       "       -5.2868289e-01,  3.6877525e+00,  2.8957591e+00, -1.5557580e+00,\n",
       "        4.1680333e-01,  5.2635485e-01,  1.6887327e+00, -1.3281564e+00,\n",
       "       -4.1559532e-01,  1.7467228e+00,  1.0465070e+00,  9.4670677e-01,\n",
       "       -1.7480704e+00,  1.3173860e+00,  1.0275148e+00, -1.9443834e+00,\n",
       "       -2.0688305e+00, -1.7325444e+00,  3.3632016e+00,  1.0379958e+00,\n",
       "        1.6810714e+00,  2.9253118e+00,  1.9285592e+00,  4.3927083e+00,\n",
       "       -3.8166046e+00,  1.0383790e+00, -2.0550513e+00, -1.1042044e+00],\n",
       "      dtype=float32)"
      ]
     },
     "execution_count": 12,
     "metadata": {},
     "output_type": "execute_result"
    }
   ],
   "source": [
    "# now you can get word vectors !\n",
    "model.get_vector('anything')"
   ]
  },
  {
   "cell_type": "code",
   "execution_count": 13,
   "metadata": {},
   "outputs": [
    {
     "name": "stderr",
     "output_type": "stream",
     "text": [
      "/home/fanshuai/1T/virtual-env/nlp_course/lib/python3.6/site-packages/gensim/matutils.py:737: FutureWarning: Conversion of the second argument of issubdtype from `int` to `np.signedinteger` is deprecated. In future, it will be treated as `np.int64 == np.dtype(int).type`.\n",
      "  if np.issubdtype(vec.dtype, np.int):\n"
     ]
    },
    {
     "data": {
      "text/plain": [
       "[('rice', 0.9461093544960022),\n",
       " ('sauce', 0.9274940490722656),\n",
       " ('butter', 0.9262375831604004),\n",
       " ('beans', 0.9183789491653442),\n",
       " ('cheese', 0.9139071702957153),\n",
       " ('cream', 0.9099642634391785),\n",
       " ('flour', 0.9084616899490356),\n",
       " ('garlic', 0.9024213552474976),\n",
       " ('pasta', 0.9017496109008789),\n",
       " ('fruit', 0.9011427164077759)]"
      ]
     },
     "execution_count": 13,
     "metadata": {},
     "output_type": "execute_result"
    }
   ],
   "source": [
    "# or query similar words directly. Go play with it!\n",
    "model.most_similar('bread')"
   ]
  },
  {
   "cell_type": "markdown",
   "metadata": {},
   "source": [
    "### Using pre-trained model\n",
    "\n",
    "Took it a while, huh? Now imagine training life-sized (100~300D) word embeddings on gigabytes of text: wikipedia articles or twitter posts. \n",
    "\n",
    "Thankfully, nowadays you can get a pre-trained word embedding model in 2 lines of code (no sms required, promise)."
   ]
  },
  {
   "cell_type": "code",
   "execution_count": 15,
   "metadata": {},
   "outputs": [
    {
     "name": "stdout",
     "output_type": "stream",
     "text": [
      "[==================================================] 100.0% 387.1/387.1MB downloaded\n"
     ]
    }
   ],
   "source": [
    "import gensim.downloader as api\n",
    "model = api.load('glove-twitter-100')"
   ]
  },
  {
   "cell_type": "code",
   "execution_count": 16,
   "metadata": {},
   "outputs": [
    {
     "data": {
      "text/plain": [
       "[('broker', 0.5820155739784241),\n",
       " ('bonuses', 0.5424473285675049),\n",
       " ('banker', 0.538511335849762),\n",
       " ('designer', 0.5197198390960693),\n",
       " ('merchandising', 0.4964233934879303),\n",
       " ('treet', 0.49220192432403564),\n",
       " ('shopper', 0.4920561909675598),\n",
       " ('part-time', 0.49128279089927673),\n",
       " ('freelance', 0.4843311905860901),\n",
       " ('aupair', 0.4796452522277832)]"
      ]
     },
     "execution_count": 16,
     "metadata": {},
     "output_type": "execute_result"
    }
   ],
   "source": [
    "model.most_similar(positive=[\"coder\", \"money\"], negative=[\"brain\"])"
   ]
  },
  {
   "cell_type": "markdown",
   "metadata": {},
   "source": [
    "### Visualizing word vectors\n",
    "\n",
    "One way to see if our vectors are any good is to plot them. Thing is, those vectors are in 30D+ space and we humans are more used to 2-3D.\n",
    "\n",
    "Luckily, we machine learners know about __dimensionality reduction__ methods.\n",
    "\n",
    "Let's use that to plot 1000 most frequent words"
   ]
  },
  {
   "cell_type": "code",
   "execution_count": 17,
   "metadata": {},
   "outputs": [
    {
     "name": "stdout",
     "output_type": "stream",
     "text": [
      "['<user>', '_', 'please', 'apa', 'justin', 'text', 'hari', 'playing', 'once', 'sei']\n"
     ]
    }
   ],
   "source": [
    "words = sorted(model.vocab.keys(), \n",
    "               key=lambda word: model.vocab[word].count,\n",
    "               reverse=True)[:1000]\n",
    "\n",
    "print(words[::100])"
   ]
  },
  {
   "cell_type": "code",
   "execution_count": 26,
   "metadata": {},
   "outputs": [],
   "source": [
    "# for each word, compute it's vector with model\n",
    "word_vectors = np.array([model.get_vector(item) for item in words])"
   ]
  },
  {
   "cell_type": "code",
   "execution_count": 29,
   "metadata": {},
   "outputs": [],
   "source": [
    "assert isinstance(word_vectors, np.ndarray)\n",
    "assert word_vectors.shape == (len(words), 100)\n",
    "assert np.isfinite(word_vectors).all()"
   ]
  },
  {
   "cell_type": "markdown",
   "metadata": {},
   "source": [
    "#### Linear projection: PCA\n",
    "\n",
    "The simplest linear dimensionality reduction method is __P__rincipial __C__omponent __A__nalysis.\n",
    "\n",
    "In geometric terms, PCA tries to find axes along which most of the variance occurs. The \"natural\" axes, if you wish.\n",
    "\n",
    "<img src=\"https://github.com/yandexdataschool/Practical_RL/raw/master/yet_another_week/_resource/pca_fish.png\" style=\"width:30%\">\n",
    "\n",
    "\n",
    "Under the hood, it attempts to decompose object-feature matrix $X$ into two smaller matrices: $W$ and $\\hat W$ minimizing _mean squared error_:\n",
    "\n",
    "$$\\|(X W) \\hat{W} - X\\|^2_2 \\to_{W, \\hat{W}} \\min$$\n",
    "- $X \\in \\mathbb{R}^{n \\times m}$ - object matrix (**centered**);\n",
    "- $W \\in \\mathbb{R}^{m \\times d}$ - matrix of direct transformation;\n",
    "- $\\hat{W} \\in \\mathbb{R}^{d \\times m}$ - matrix of reverse transformation;\n",
    "- $n$ samples, $m$ original dimensions and $d$ target dimensions;\n",
    "\n"
   ]
  },
  {
   "cell_type": "code",
   "execution_count": 43,
   "metadata": {},
   "outputs": [],
   "source": [
    "from sklearn.decomposition import PCA\n",
    "\n",
    "# map word vectors onto 2d plane with PCA. Use good old sklearn api (fit, transform)\n",
    "# after that, normalize vectors to make sure they have zero mean and unit variance\n",
    "word_vectors_pca = PCA(n_components=2).fit_transform(word_vectors)\n",
    "# word_vectors_pca = preprocessing.scale(word_vectors_pca)\n",
    "word_vectors_pca = (word_vectors_pca - word_vectors_pca.mean(axis=0)) / word_vectors_pca.std(axis=0)\n",
    "\n",
    "# and maybe MORE OF YOUR CODE here :)"
   ]
  },
  {
   "cell_type": "code",
   "execution_count": 44,
   "metadata": {},
   "outputs": [],
   "source": [
    "assert word_vectors_pca.shape == (len(word_vectors), 2), \"there must be a 2d vector for each word\"\n",
    "assert max(abs(word_vectors_pca.mean(0))) < 1e-5, \"points must be zero-centered\"\n",
    "assert max(abs(1.0 - word_vectors_pca.std(0))) < 1e-2, \"points must have unit variance\""
   ]
  },
  {
   "cell_type": "markdown",
   "metadata": {},
   "source": [
    "#### Let's draw it!"
   ]
  },
  {
   "cell_type": "code",
   "execution_count": 45,
   "metadata": {},
   "outputs": [
    {
     "data": {
      "text/html": [
       "\n",
       "    <div class=\"bk-root\">\n",
       "        <a href=\"https://bokeh.pydata.org\" target=\"_blank\" class=\"bk-logo bk-logo-small bk-logo-notebook\"></a>\n",
       "        <span id=\"1230\">Loading BokehJS ...</span>\n",
       "    </div>"
      ]
     },
     "metadata": {},
     "output_type": "display_data"
    },
    {
     "data": {
      "application/javascript": [
       "\n",
       "(function(root) {\n",
       "  function now() {\n",
       "    return new Date();\n",
       "  }\n",
       "\n",
       "  var force = true;\n",
       "\n",
       "  if (typeof (root._bokeh_onload_callbacks) === \"undefined\" || force === true) {\n",
       "    root._bokeh_onload_callbacks = [];\n",
       "    root._bokeh_is_loading = undefined;\n",
       "  }\n",
       "\n",
       "  var JS_MIME_TYPE = 'application/javascript';\n",
       "  var HTML_MIME_TYPE = 'text/html';\n",
       "  var EXEC_MIME_TYPE = 'application/vnd.bokehjs_exec.v0+json';\n",
       "  var CLASS_NAME = 'output_bokeh rendered_html';\n",
       "\n",
       "  /**\n",
       "   * Render data to the DOM node\n",
       "   */\n",
       "  function render(props, node) {\n",
       "    var script = document.createElement(\"script\");\n",
       "    node.appendChild(script);\n",
       "  }\n",
       "\n",
       "  /**\n",
       "   * Handle when an output is cleared or removed\n",
       "   */\n",
       "  function handleClearOutput(event, handle) {\n",
       "    var cell = handle.cell;\n",
       "\n",
       "    var id = cell.output_area._bokeh_element_id;\n",
       "    var server_id = cell.output_area._bokeh_server_id;\n",
       "    // Clean up Bokeh references\n",
       "    if (id != null && id in Bokeh.index) {\n",
       "      Bokeh.index[id].model.document.clear();\n",
       "      delete Bokeh.index[id];\n",
       "    }\n",
       "\n",
       "    if (server_id !== undefined) {\n",
       "      // Clean up Bokeh references\n",
       "      var cmd = \"from bokeh.io.state import curstate; print(curstate().uuid_to_server['\" + server_id + \"'].get_sessions()[0].document.roots[0]._id)\";\n",
       "      cell.notebook.kernel.execute(cmd, {\n",
       "        iopub: {\n",
       "          output: function(msg) {\n",
       "            var id = msg.content.text.trim();\n",
       "            if (id in Bokeh.index) {\n",
       "              Bokeh.index[id].model.document.clear();\n",
       "              delete Bokeh.index[id];\n",
       "            }\n",
       "          }\n",
       "        }\n",
       "      });\n",
       "      // Destroy server and session\n",
       "      var cmd = \"import bokeh.io.notebook as ion; ion.destroy_server('\" + server_id + \"')\";\n",
       "      cell.notebook.kernel.execute(cmd);\n",
       "    }\n",
       "  }\n",
       "\n",
       "  /**\n",
       "   * Handle when a new output is added\n",
       "   */\n",
       "  function handleAddOutput(event, handle) {\n",
       "    var output_area = handle.output_area;\n",
       "    var output = handle.output;\n",
       "\n",
       "    // limit handleAddOutput to display_data with EXEC_MIME_TYPE content only\n",
       "    if ((output.output_type != \"display_data\") || (!output.data.hasOwnProperty(EXEC_MIME_TYPE))) {\n",
       "      return\n",
       "    }\n",
       "\n",
       "    var toinsert = output_area.element.find(\".\" + CLASS_NAME.split(' ')[0]);\n",
       "\n",
       "    if (output.metadata[EXEC_MIME_TYPE][\"id\"] !== undefined) {\n",
       "      toinsert[toinsert.length - 1].firstChild.textContent = output.data[JS_MIME_TYPE];\n",
       "      // store reference to embed id on output_area\n",
       "      output_area._bokeh_element_id = output.metadata[EXEC_MIME_TYPE][\"id\"];\n",
       "    }\n",
       "    if (output.metadata[EXEC_MIME_TYPE][\"server_id\"] !== undefined) {\n",
       "      var bk_div = document.createElement(\"div\");\n",
       "      bk_div.innerHTML = output.data[HTML_MIME_TYPE];\n",
       "      var script_attrs = bk_div.children[0].attributes;\n",
       "      for (var i = 0; i < script_attrs.length; i++) {\n",
       "        toinsert[toinsert.length - 1].firstChild.setAttribute(script_attrs[i].name, script_attrs[i].value);\n",
       "      }\n",
       "      // store reference to server id on output_area\n",
       "      output_area._bokeh_server_id = output.metadata[EXEC_MIME_TYPE][\"server_id\"];\n",
       "    }\n",
       "  }\n",
       "\n",
       "  function register_renderer(events, OutputArea) {\n",
       "\n",
       "    function append_mime(data, metadata, element) {\n",
       "      // create a DOM node to render to\n",
       "      var toinsert = this.create_output_subarea(\n",
       "        metadata,\n",
       "        CLASS_NAME,\n",
       "        EXEC_MIME_TYPE\n",
       "      );\n",
       "      this.keyboard_manager.register_events(toinsert);\n",
       "      // Render to node\n",
       "      var props = {data: data, metadata: metadata[EXEC_MIME_TYPE]};\n",
       "      render(props, toinsert[toinsert.length - 1]);\n",
       "      element.append(toinsert);\n",
       "      return toinsert\n",
       "    }\n",
       "\n",
       "    /* Handle when an output is cleared or removed */\n",
       "    events.on('clear_output.CodeCell', handleClearOutput);\n",
       "    events.on('delete.Cell', handleClearOutput);\n",
       "\n",
       "    /* Handle when a new output is added */\n",
       "    events.on('output_added.OutputArea', handleAddOutput);\n",
       "\n",
       "    /**\n",
       "     * Register the mime type and append_mime function with output_area\n",
       "     */\n",
       "    OutputArea.prototype.register_mime_type(EXEC_MIME_TYPE, append_mime, {\n",
       "      /* Is output safe? */\n",
       "      safe: true,\n",
       "      /* Index of renderer in `output_area.display_order` */\n",
       "      index: 0\n",
       "    });\n",
       "  }\n",
       "\n",
       "  // register the mime type if in Jupyter Notebook environment and previously unregistered\n",
       "  if (root.Jupyter !== undefined) {\n",
       "    var events = require('base/js/events');\n",
       "    var OutputArea = require('notebook/js/outputarea').OutputArea;\n",
       "\n",
       "    if (OutputArea.prototype.mime_types().indexOf(EXEC_MIME_TYPE) == -1) {\n",
       "      register_renderer(events, OutputArea);\n",
       "    }\n",
       "  }\n",
       "\n",
       "  \n",
       "  if (typeof (root._bokeh_timeout) === \"undefined\" || force === true) {\n",
       "    root._bokeh_timeout = Date.now() + 5000;\n",
       "    root._bokeh_failed_load = false;\n",
       "  }\n",
       "\n",
       "  var NB_LOAD_WARNING = {'data': {'text/html':\n",
       "     \"<div style='background-color: #fdd'>\\n\"+\n",
       "     \"<p>\\n\"+\n",
       "     \"BokehJS does not appear to have successfully loaded. If loading BokehJS from CDN, this \\n\"+\n",
       "     \"may be due to a slow or bad network connection. Possible fixes:\\n\"+\n",
       "     \"</p>\\n\"+\n",
       "     \"<ul>\\n\"+\n",
       "     \"<li>re-rerun `output_notebook()` to attempt to load from CDN again, or</li>\\n\"+\n",
       "     \"<li>use INLINE resources instead, as so:</li>\\n\"+\n",
       "     \"</ul>\\n\"+\n",
       "     \"<code>\\n\"+\n",
       "     \"from bokeh.resources import INLINE\\n\"+\n",
       "     \"output_notebook(resources=INLINE)\\n\"+\n",
       "     \"</code>\\n\"+\n",
       "     \"</div>\"}};\n",
       "\n",
       "  function display_loaded() {\n",
       "    var el = document.getElementById(\"1230\");\n",
       "    if (el != null) {\n",
       "      el.textContent = \"BokehJS is loading...\";\n",
       "    }\n",
       "    if (root.Bokeh !== undefined) {\n",
       "      if (el != null) {\n",
       "        el.textContent = \"BokehJS \" + root.Bokeh.version + \" successfully loaded.\";\n",
       "      }\n",
       "    } else if (Date.now() < root._bokeh_timeout) {\n",
       "      setTimeout(display_loaded, 100)\n",
       "    }\n",
       "  }\n",
       "\n",
       "\n",
       "  function run_callbacks() {\n",
       "    try {\n",
       "      root._bokeh_onload_callbacks.forEach(function(callback) { callback() });\n",
       "    }\n",
       "    finally {\n",
       "      delete root._bokeh_onload_callbacks\n",
       "    }\n",
       "    console.info(\"Bokeh: all callbacks have finished\");\n",
       "  }\n",
       "\n",
       "  function load_libs(js_urls, callback) {\n",
       "    root._bokeh_onload_callbacks.push(callback);\n",
       "    if (root._bokeh_is_loading > 0) {\n",
       "      console.log(\"Bokeh: BokehJS is being loaded, scheduling callback at\", now());\n",
       "      return null;\n",
       "    }\n",
       "    if (js_urls == null || js_urls.length === 0) {\n",
       "      run_callbacks();\n",
       "      return null;\n",
       "    }\n",
       "    console.log(\"Bokeh: BokehJS not loaded, scheduling load and callback at\", now());\n",
       "    root._bokeh_is_loading = js_urls.length;\n",
       "    for (var i = 0; i < js_urls.length; i++) {\n",
       "      var url = js_urls[i];\n",
       "      var s = document.createElement('script');\n",
       "      s.src = url;\n",
       "      s.async = false;\n",
       "      s.onreadystatechange = s.onload = function() {\n",
       "        root._bokeh_is_loading--;\n",
       "        if (root._bokeh_is_loading === 0) {\n",
       "          console.log(\"Bokeh: all BokehJS libraries loaded\");\n",
       "          run_callbacks()\n",
       "        }\n",
       "      };\n",
       "      s.onerror = function() {\n",
       "        console.warn(\"failed to load library \" + url);\n",
       "      };\n",
       "      console.log(\"Bokeh: injecting script tag for BokehJS library: \", url);\n",
       "      document.getElementsByTagName(\"head\")[0].appendChild(s);\n",
       "    }\n",
       "  };var element = document.getElementById(\"1230\");\n",
       "  if (element == null) {\n",
       "    console.log(\"Bokeh: ERROR: autoload.js configured with elementid '1230' but no matching script tag was found. \")\n",
       "    return false;\n",
       "  }\n",
       "\n",
       "  var js_urls = [\"https://cdn.pydata.org/bokeh/release/bokeh-1.0.1.min.js\", \"https://cdn.pydata.org/bokeh/release/bokeh-widgets-1.0.1.min.js\", \"https://cdn.pydata.org/bokeh/release/bokeh-tables-1.0.1.min.js\", \"https://cdn.pydata.org/bokeh/release/bokeh-gl-1.0.1.min.js\"];\n",
       "\n",
       "  var inline_js = [\n",
       "    function(Bokeh) {\n",
       "      Bokeh.set_log_level(\"info\");\n",
       "    },\n",
       "    \n",
       "    function(Bokeh) {\n",
       "      \n",
       "    },\n",
       "    function(Bokeh) {\n",
       "      console.log(\"Bokeh: injecting CSS: https://cdn.pydata.org/bokeh/release/bokeh-1.0.1.min.css\");\n",
       "      Bokeh.embed.inject_css(\"https://cdn.pydata.org/bokeh/release/bokeh-1.0.1.min.css\");\n",
       "      console.log(\"Bokeh: injecting CSS: https://cdn.pydata.org/bokeh/release/bokeh-widgets-1.0.1.min.css\");\n",
       "      Bokeh.embed.inject_css(\"https://cdn.pydata.org/bokeh/release/bokeh-widgets-1.0.1.min.css\");\n",
       "      console.log(\"Bokeh: injecting CSS: https://cdn.pydata.org/bokeh/release/bokeh-tables-1.0.1.min.css\");\n",
       "      Bokeh.embed.inject_css(\"https://cdn.pydata.org/bokeh/release/bokeh-tables-1.0.1.min.css\");\n",
       "    }\n",
       "  ];\n",
       "\n",
       "  function run_inline_js() {\n",
       "    \n",
       "    if ((root.Bokeh !== undefined) || (force === true)) {\n",
       "      for (var i = 0; i < inline_js.length; i++) {\n",
       "        inline_js[i].call(root, root.Bokeh);\n",
       "      }if (force === true) {\n",
       "        display_loaded();\n",
       "      }} else if (Date.now() < root._bokeh_timeout) {\n",
       "      setTimeout(run_inline_js, 100);\n",
       "    } else if (!root._bokeh_failed_load) {\n",
       "      console.log(\"Bokeh: BokehJS failed to load within specified timeout.\");\n",
       "      root._bokeh_failed_load = true;\n",
       "    } else if (force !== true) {\n",
       "      var cell = $(document.getElementById(\"1230\")).parents('.cell').data().cell;\n",
       "      cell.output_area.append_execute_result(NB_LOAD_WARNING)\n",
       "    }\n",
       "\n",
       "  }\n",
       "\n",
       "  if (root._bokeh_is_loading === 0) {\n",
       "    console.log(\"Bokeh: BokehJS loaded, going straight to plotting\");\n",
       "    run_inline_js();\n",
       "  } else {\n",
       "    load_libs(js_urls, function() {\n",
       "      console.log(\"Bokeh: BokehJS plotting callback run at\", now());\n",
       "      run_inline_js();\n",
       "    });\n",
       "  }\n",
       "}(window));"
      ],
      "application/vnd.bokehjs_load.v0+json": "\n(function(root) {\n  function now() {\n    return new Date();\n  }\n\n  var force = true;\n\n  if (typeof (root._bokeh_onload_callbacks) === \"undefined\" || force === true) {\n    root._bokeh_onload_callbacks = [];\n    root._bokeh_is_loading = undefined;\n  }\n\n  \n\n  \n  if (typeof (root._bokeh_timeout) === \"undefined\" || force === true) {\n    root._bokeh_timeout = Date.now() + 5000;\n    root._bokeh_failed_load = false;\n  }\n\n  var NB_LOAD_WARNING = {'data': {'text/html':\n     \"<div style='background-color: #fdd'>\\n\"+\n     \"<p>\\n\"+\n     \"BokehJS does not appear to have successfully loaded. If loading BokehJS from CDN, this \\n\"+\n     \"may be due to a slow or bad network connection. Possible fixes:\\n\"+\n     \"</p>\\n\"+\n     \"<ul>\\n\"+\n     \"<li>re-rerun `output_notebook()` to attempt to load from CDN again, or</li>\\n\"+\n     \"<li>use INLINE resources instead, as so:</li>\\n\"+\n     \"</ul>\\n\"+\n     \"<code>\\n\"+\n     \"from bokeh.resources import INLINE\\n\"+\n     \"output_notebook(resources=INLINE)\\n\"+\n     \"</code>\\n\"+\n     \"</div>\"}};\n\n  function display_loaded() {\n    var el = document.getElementById(\"1230\");\n    if (el != null) {\n      el.textContent = \"BokehJS is loading...\";\n    }\n    if (root.Bokeh !== undefined) {\n      if (el != null) {\n        el.textContent = \"BokehJS \" + root.Bokeh.version + \" successfully loaded.\";\n      }\n    } else if (Date.now() < root._bokeh_timeout) {\n      setTimeout(display_loaded, 100)\n    }\n  }\n\n\n  function run_callbacks() {\n    try {\n      root._bokeh_onload_callbacks.forEach(function(callback) { callback() });\n    }\n    finally {\n      delete root._bokeh_onload_callbacks\n    }\n    console.info(\"Bokeh: all callbacks have finished\");\n  }\n\n  function load_libs(js_urls, callback) {\n    root._bokeh_onload_callbacks.push(callback);\n    if (root._bokeh_is_loading > 0) {\n      console.log(\"Bokeh: BokehJS is being loaded, scheduling callback at\", now());\n      return null;\n    }\n    if (js_urls == null || js_urls.length === 0) {\n      run_callbacks();\n      return null;\n    }\n    console.log(\"Bokeh: BokehJS not loaded, scheduling load and callback at\", now());\n    root._bokeh_is_loading = js_urls.length;\n    for (var i = 0; i < js_urls.length; i++) {\n      var url = js_urls[i];\n      var s = document.createElement('script');\n      s.src = url;\n      s.async = false;\n      s.onreadystatechange = s.onload = function() {\n        root._bokeh_is_loading--;\n        if (root._bokeh_is_loading === 0) {\n          console.log(\"Bokeh: all BokehJS libraries loaded\");\n          run_callbacks()\n        }\n      };\n      s.onerror = function() {\n        console.warn(\"failed to load library \" + url);\n      };\n      console.log(\"Bokeh: injecting script tag for BokehJS library: \", url);\n      document.getElementsByTagName(\"head\")[0].appendChild(s);\n    }\n  };var element = document.getElementById(\"1230\");\n  if (element == null) {\n    console.log(\"Bokeh: ERROR: autoload.js configured with elementid '1230' but no matching script tag was found. \")\n    return false;\n  }\n\n  var js_urls = [\"https://cdn.pydata.org/bokeh/release/bokeh-1.0.1.min.js\", \"https://cdn.pydata.org/bokeh/release/bokeh-widgets-1.0.1.min.js\", \"https://cdn.pydata.org/bokeh/release/bokeh-tables-1.0.1.min.js\", \"https://cdn.pydata.org/bokeh/release/bokeh-gl-1.0.1.min.js\"];\n\n  var inline_js = [\n    function(Bokeh) {\n      Bokeh.set_log_level(\"info\");\n    },\n    \n    function(Bokeh) {\n      \n    },\n    function(Bokeh) {\n      console.log(\"Bokeh: injecting CSS: https://cdn.pydata.org/bokeh/release/bokeh-1.0.1.min.css\");\n      Bokeh.embed.inject_css(\"https://cdn.pydata.org/bokeh/release/bokeh-1.0.1.min.css\");\n      console.log(\"Bokeh: injecting CSS: https://cdn.pydata.org/bokeh/release/bokeh-widgets-1.0.1.min.css\");\n      Bokeh.embed.inject_css(\"https://cdn.pydata.org/bokeh/release/bokeh-widgets-1.0.1.min.css\");\n      console.log(\"Bokeh: injecting CSS: https://cdn.pydata.org/bokeh/release/bokeh-tables-1.0.1.min.css\");\n      Bokeh.embed.inject_css(\"https://cdn.pydata.org/bokeh/release/bokeh-tables-1.0.1.min.css\");\n    }\n  ];\n\n  function run_inline_js() {\n    \n    if ((root.Bokeh !== undefined) || (force === true)) {\n      for (var i = 0; i < inline_js.length; i++) {\n        inline_js[i].call(root, root.Bokeh);\n      }if (force === true) {\n        display_loaded();\n      }} else if (Date.now() < root._bokeh_timeout) {\n      setTimeout(run_inline_js, 100);\n    } else if (!root._bokeh_failed_load) {\n      console.log(\"Bokeh: BokehJS failed to load within specified timeout.\");\n      root._bokeh_failed_load = true;\n    } else if (force !== true) {\n      var cell = $(document.getElementById(\"1230\")).parents('.cell').data().cell;\n      cell.output_area.append_execute_result(NB_LOAD_WARNING)\n    }\n\n  }\n\n  if (root._bokeh_is_loading === 0) {\n    console.log(\"Bokeh: BokehJS loaded, going straight to plotting\");\n    run_inline_js();\n  } else {\n    load_libs(js_urls, function() {\n      console.log(\"Bokeh: BokehJS plotting callback run at\", now());\n      run_inline_js();\n    });\n  }\n}(window));"
     },
     "metadata": {},
     "output_type": "display_data"
    }
   ],
   "source": [
    "import bokeh.models as bm, bokeh.plotting as pl\n",
    "from bokeh.io import output_notebook\n",
    "output_notebook()\n",
    "\n",
    "def draw_vectors(x, y, radius=10, alpha=0.25, color='blue',\n",
    "                 width=600, height=400, show=True, **kwargs):\n",
    "    \"\"\" draws an interactive plot for data points with auxilirary info on hover \"\"\"\n",
    "    if isinstance(color, str): color = [color] * len(x)\n",
    "    data_source = bm.ColumnDataSource({ 'x' : x, 'y' : y, 'color': color, **kwargs })\n",
    "\n",
    "    fig = pl.figure(active_scroll='wheel_zoom', width=width, height=height)\n",
    "    fig.scatter('x', 'y', size=radius, color='color', alpha=alpha, source=data_source)\n",
    "\n",
    "    fig.add_tools(bm.HoverTool(tooltips=[(key, \"@\" + key) for key in kwargs.keys()]))\n",
    "    if show: pl.show(fig)\n",
    "    return fig"
   ]
  },
  {
   "cell_type": "code",
   "execution_count": 46,
   "metadata": {},
   "outputs": [
    {
     "data": {
      "text/html": [
       "\n",
       "\n",
       "\n",
       "\n",
       "\n",
       "\n",
       "  <div class=\"bk-root\" id=\"581add15-b35b-4395-a051-3d272354ca7a\"></div>\n"
      ]
     },
     "metadata": {},
     "output_type": "display_data"
    },
    {
     "data": {
      "application/javascript": [
       "(function(root) {\n",
       "  function embed_document(root) {\n",
       "    \n",
       "  var docs_json = {\"0c43c24d-2de3-48e2-9099-c1defa238384\":{\"roots\":{\"references\":[{\"attributes\":{\"below\":[{\"id\":\"1241\",\"type\":\"LinearAxis\"}],\"left\":[{\"id\":\"1246\",\"type\":\"LinearAxis\"}],\"plot_height\":400,\"renderers\":[{\"id\":\"1241\",\"type\":\"LinearAxis\"},{\"id\":\"1245\",\"type\":\"Grid\"},{\"id\":\"1246\",\"type\":\"LinearAxis\"},{\"id\":\"1250\",\"type\":\"Grid\"},{\"id\":\"1259\",\"type\":\"BoxAnnotation\"},{\"id\":\"1269\",\"type\":\"GlyphRenderer\"}],\"title\":{\"id\":\"1292\",\"type\":\"Title\"},\"toolbar\":{\"id\":\"1257\",\"type\":\"Toolbar\"},\"x_range\":{\"id\":\"1233\",\"type\":\"DataRange1d\"},\"x_scale\":{\"id\":\"1237\",\"type\":\"LinearScale\"},\"y_range\":{\"id\":\"1235\",\"type\":\"DataRange1d\"},\"y_scale\":{\"id\":\"1239\",\"type\":\"LinearScale\"}},\"id\":\"1232\",\"subtype\":\"Figure\",\"type\":\"Plot\"},{\"attributes\":{},\"id\":\"1255\",\"type\":\"ResetTool\"},{\"attributes\":{},\"id\":\"1251\",\"type\":\"PanTool\"},{\"attributes\":{},\"id\":\"1256\",\"type\":\"HelpTool\"},{\"attributes\":{\"callback\":null},\"id\":\"1233\",\"type\":\"DataRange1d\"},{\"attributes\":{\"source\":{\"id\":\"1231\",\"type\":\"ColumnDataSource\"}},\"id\":\"1270\",\"type\":\"CDSView\"},{\"attributes\":{\"plot\":null,\"text\":\"\"},\"id\":\"1292\",\"type\":\"Title\"},{\"attributes\":{\"callback\":null,\"data\":{\"color\":[\"blue\",\"blue\",\"blue\",\"blue\",\"blue\",\"blue\",\"blue\",\"blue\",\"blue\",\"blue\",\"blue\",\"blue\",\"blue\",\"blue\",\"blue\",\"blue\",\"blue\",\"blue\",\"blue\",\"blue\",\"blue\",\"blue\",\"blue\",\"blue\",\"blue\",\"blue\",\"blue\",\"blue\",\"blue\",\"blue\",\"blue\",\"blue\",\"blue\",\"blue\",\"blue\",\"blue\",\"blue\",\"blue\",\"blue\",\"blue\",\"blue\",\"blue\",\"blue\",\"blue\",\"blue\",\"blue\",\"blue\",\"blue\",\"blue\",\"blue\",\"blue\",\"blue\",\"blue\",\"blue\",\"blue\",\"blue\",\"blue\",\"blue\",\"blue\",\"blue\",\"blue\",\"blue\",\"blue\",\"blue\",\"blue\",\"blue\",\"blue\",\"blue\",\"blue\",\"blue\",\"blue\",\"blue\",\"blue\",\"blue\",\"blue\",\"blue\",\"blue\",\"blue\",\"blue\",\"blue\",\"blue\",\"blue\",\"blue\",\"blue\",\"blue\",\"blue\",\"blue\",\"blue\",\"blue\",\"blue\",\"blue\",\"blue\",\"blue\",\"blue\",\"blue\",\"blue\",\"blue\",\"blue\",\"blue\",\"blue\",\"blue\",\"blue\",\"blue\",\"blue\",\"blue\",\"blue\",\"blue\",\"blue\",\"blue\",\"blue\",\"blue\",\"blue\",\"blue\",\"blue\",\"blue\",\"blue\",\"blue\",\"blue\",\"blue\",\"blue\",\"blue\",\"blue\",\"blue\",\"blue\",\"blue\",\"blue\",\"blue\",\"blue\",\"blue\",\"blue\",\"blue\",\"blue\",\"blue\",\"blue\",\"blue\",\"blue\",\"blue\",\"blue\",\"blue\",\"blue\",\"blue\",\"blue\",\"blue\",\"blue\",\"blue\",\"blue\",\"blue\",\"blue\",\"blue\",\"blue\",\"blue\",\"blue\",\"blue\",\"blue\",\"blue\",\"blue\",\"blue\",\"blue\",\"blue\",\"blue\",\"blue\",\"blue\",\"blue\",\"blue\",\"blue\",\"blue\",\"blue\",\"blue\",\"blue\",\"blue\",\"blue\",\"blue\",\"blue\",\"blue\",\"blue\",\"blue\",\"blue\",\"blue\",\"blue\",\"blue\",\"blue\",\"blue\",\"blue\",\"blue\",\"blue\",\"blue\",\"blue\",\"blue\",\"blue\",\"blue\",\"blue\",\"blue\",\"blue\",\"blue\",\"blue\",\"blue\",\"blue\",\"blue\",\"blue\",\"blue\",\"blue\",\"blue\",\"blue\",\"blue\",\"blue\",\"blue\",\"blue\",\"blue\",\"blue\",\"blue\",\"blue\",\"blue\",\"blue\",\"blue\",\"blue\",\"blue\",\"blue\",\"blue\",\"blue\",\"blue\",\"blue\",\"blue\",\"blue\",\"blue\",\"blue\",\"blue\",\"blue\",\"blue\",\"blue\",\"blue\",\"blue\",\"blue\",\"blue\",\"blue\",\"blue\",\"blue\",\"blue\",\"blue\",\"blue\",\"blue\",\"blue\",\"blue\",\"blue\",\"blue\",\"blue\",\"blue\",\"blue\",\"blue\",\"blue\",\"blue\",\"blue\",\"blue\",\"blue\",\"blue\",\"blue\",\"blue\",\"blue\",\"blue\",\"blue\",\"blue\",\"blue\",\"blue\",\"blue\",\"blue\",\"blue\",\"blue\",\"blue\",\"blue\",\"blue\",\"blue\",\"blue\",\"blue\",\"blue\",\"blue\",\"blue\",\"blue\",\"blue\",\"blue\",\"blue\",\"blue\",\"blue\",\"blue\",\"blue\",\"blue\",\"blue\",\"blue\",\"blue\",\"blue\",\"blue\",\"blue\",\"blue\",\"blue\",\"blue\",\"blue\",\"blue\",\"blue\",\"blue\",\"blue\",\"blue\",\"blue\",\"blue\",\"blue\",\"blue\",\"blue\",\"blue\",\"blue\",\"blue\",\"blue\",\"blue\",\"blue\",\"blue\",\"blue\",\"blue\",\"blue\",\"blue\",\"blue\",\"blue\",\"blue\",\"blue\",\"blue\",\"blue\",\"blue\",\"blue\",\"blue\",\"blue\",\"blue\",\"blue\",\"blue\",\"blue\",\"blue\",\"blue\",\"blue\",\"blue\",\"blue\",\"blue\",\"blue\",\"blue\",\"blue\",\"blue\",\"blue\",\"blue\",\"blue\",\"blue\",\"blue\",\"blue\",\"blue\",\"blue\",\"blue\",\"blue\",\"blue\",\"blue\",\"blue\",\"blue\",\"blue\",\"blue\",\"blue\",\"blue\",\"blue\",\"blue\",\"blue\",\"blue\",\"blue\",\"blue\",\"blue\",\"blue\",\"blue\",\"blue\",\"blue\",\"blue\",\"blue\",\"blue\",\"blue\",\"blue\",\"blue\",\"blue\",\"blue\",\"blue\",\"blue\",\"blue\",\"blue\",\"blue\",\"blue\",\"blue\",\"blue\",\"blue\",\"blue\",\"blue\",\"blue\",\"blue\",\"blue\",\"blue\",\"blue\",\"blue\",\"blue\",\"blue\",\"blue\",\"blue\",\"blue\",\"blue\",\"blue\",\"blue\",\"blue\",\"blue\",\"blue\",\"blue\",\"blue\",\"blue\",\"blue\",\"blue\",\"blue\",\"blue\",\"blue\",\"blue\",\"blue\",\"blue\",\"blue\",\"blue\",\"blue\",\"blue\",\"blue\",\"blue\",\"blue\",\"blue\",\"blue\",\"blue\",\"blue\",\"blue\",\"blue\",\"blue\",\"blue\",\"blue\",\"blue\",\"blue\",\"blue\",\"blue\",\"blue\",\"blue\",\"blue\",\"blue\",\"blue\",\"blue\",\"blue\",\"blue\",\"blue\",\"blue\",\"blue\",\"blue\",\"blue\",\"blue\",\"blue\",\"blue\",\"blue\",\"blue\",\"blue\",\"blue\",\"blue\",\"blue\",\"blue\",\"blue\",\"blue\",\"blue\",\"blue\",\"blue\",\"blue\",\"blue\",\"blue\",\"blue\",\"blue\",\"blue\",\"blue\",\"blue\",\"blue\",\"blue\",\"blue\",\"blue\",\"blue\",\"blue\",\"blue\",\"blue\",\"blue\",\"blue\",\"blue\",\"blue\",\"blue\",\"blue\",\"blue\",\"blue\",\"blue\",\"blue\",\"blue\",\"blue\",\"blue\",\"blue\",\"blue\",\"blue\",\"blue\",\"blue\",\"blue\",\"blue\",\"blue\",\"blue\",\"blue\",\"blue\",\"blue\",\"blue\",\"blue\",\"blue\",\"blue\",\"blue\",\"blue\",\"blue\",\"blue\",\"blue\",\"blue\",\"blue\",\"blue\",\"blue\",\"blue\",\"blue\",\"blue\",\"blue\",\"blue\",\"blue\",\"blue\",\"blue\",\"blue\",\"blue\",\"blue\",\"blue\",\"blue\",\"blue\",\"blue\",\"blue\",\"blue\",\"blue\",\"blue\",\"blue\",\"blue\",\"blue\",\"blue\",\"blue\",\"blue\",\"blue\",\"blue\",\"blue\",\"blue\",\"blue\",\"blue\",\"blue\",\"blue\",\"blue\",\"blue\",\"blue\",\"blue\",\"blue\",\"blue\",\"blue\",\"blue\",\"blue\",\"blue\",\"blue\",\"blue\",\"blue\",\"blue\",\"blue\",\"blue\",\"blue\",\"blue\",\"blue\",\"blue\",\"blue\",\"blue\",\"blue\",\"blue\",\"blue\",\"blue\",\"blue\",\"blue\",\"blue\",\"blue\",\"blue\",\"blue\",\"blue\",\"blue\",\"blue\",\"blue\",\"blue\",\"blue\",\"blue\",\"blue\",\"blue\",\"blue\",\"blue\",\"blue\",\"blue\",\"blue\",\"blue\",\"blue\",\"blue\",\"blue\",\"blue\",\"blue\",\"blue\",\"blue\",\"blue\",\"blue\",\"blue\",\"blue\",\"blue\",\"blue\",\"blue\",\"blue\",\"blue\",\"blue\",\"blue\",\"blue\",\"blue\",\"blue\",\"blue\",\"blue\",\"blue\",\"blue\",\"blue\",\"blue\",\"blue\",\"blue\",\"blue\",\"blue\",\"blue\",\"blue\",\"blue\",\"blue\",\"blue\",\"blue\",\"blue\",\"blue\",\"blue\",\"blue\",\"blue\",\"blue\",\"blue\",\"blue\",\"blue\",\"blue\",\"blue\",\"blue\",\"blue\",\"blue\",\"blue\",\"blue\",\"blue\",\"blue\",\"blue\",\"blue\",\"blue\",\"blue\",\"blue\",\"blue\",\"blue\",\"blue\",\"blue\",\"blue\",\"blue\",\"blue\",\"blue\",\"blue\",\"blue\",\"blue\",\"blue\",\"blue\",\"blue\",\"blue\",\"blue\",\"blue\",\"blue\",\"blue\",\"blue\",\"blue\",\"blue\",\"blue\",\"blue\",\"blue\",\"blue\",\"blue\",\"blue\",\"blue\",\"blue\",\"blue\",\"blue\",\"blue\",\"blue\",\"blue\",\"blue\",\"blue\",\"blue\",\"blue\",\"blue\",\"blue\",\"blue\",\"blue\",\"blue\",\"blue\",\"blue\",\"blue\",\"blue\",\"blue\",\"blue\",\"blue\",\"blue\",\"blue\",\"blue\",\"blue\",\"blue\",\"blue\",\"blue\",\"blue\",\"blue\",\"blue\",\"blue\",\"blue\",\"blue\",\"blue\",\"blue\",\"blue\",\"blue\",\"blue\",\"blue\",\"blue\",\"blue\",\"blue\",\"blue\",\"blue\",\"blue\",\"blue\",\"blue\",\"blue\",\"blue\",\"blue\",\"blue\",\"blue\",\"blue\",\"blue\",\"blue\",\"blue\",\"blue\",\"blue\",\"blue\",\"blue\",\"blue\",\"blue\",\"blue\",\"blue\",\"blue\",\"blue\",\"blue\",\"blue\",\"blue\",\"blue\",\"blue\",\"blue\",\"blue\",\"blue\",\"blue\",\"blue\",\"blue\",\"blue\",\"blue\",\"blue\",\"blue\",\"blue\",\"blue\",\"blue\",\"blue\",\"blue\",\"blue\",\"blue\",\"blue\",\"blue\",\"blue\",\"blue\",\"blue\",\"blue\",\"blue\",\"blue\",\"blue\",\"blue\",\"blue\",\"blue\",\"blue\",\"blue\",\"blue\",\"blue\",\"blue\",\"blue\",\"blue\",\"blue\",\"blue\",\"blue\",\"blue\",\"blue\",\"blue\",\"blue\",\"blue\",\"blue\",\"blue\",\"blue\",\"blue\",\"blue\",\"blue\",\"blue\",\"blue\",\"blue\",\"blue\",\"blue\",\"blue\",\"blue\",\"blue\",\"blue\",\"blue\",\"blue\",\"blue\",\"blue\",\"blue\",\"blue\",\"blue\",\"blue\",\"blue\",\"blue\",\"blue\",\"blue\",\"blue\",\"blue\",\"blue\",\"blue\",\"blue\",\"blue\",\"blue\",\"blue\",\"blue\",\"blue\",\"blue\",\"blue\",\"blue\",\"blue\",\"blue\",\"blue\",\"blue\",\"blue\",\"blue\",\"blue\",\"blue\",\"blue\",\"blue\",\"blue\",\"blue\",\"blue\",\"blue\",\"blue\",\"blue\",\"blue\",\"blue\",\"blue\",\"blue\",\"blue\",\"blue\",\"blue\",\"blue\",\"blue\",\"blue\",\"blue\",\"blue\",\"blue\",\"blue\",\"blue\",\"blue\",\"blue\",\"blue\",\"blue\",\"blue\",\"blue\",\"blue\",\"blue\",\"blue\",\"blue\",\"blue\",\"blue\",\"blue\",\"blue\",\"blue\",\"blue\",\"blue\",\"blue\",\"blue\",\"blue\",\"blue\",\"blue\",\"blue\",\"blue\",\"blue\",\"blue\",\"blue\",\"blue\",\"blue\",\"blue\",\"blue\",\"blue\",\"blue\",\"blue\",\"blue\",\"blue\",\"blue\",\"blue\",\"blue\",\"blue\",\"blue\",\"blue\",\"blue\",\"blue\",\"blue\",\"blue\",\"blue\",\"blue\",\"blue\",\"blue\",\"blue\",\"blue\",\"blue\",\"blue\",\"blue\",\"blue\",\"blue\",\"blue\",\"blue\",\"blue\",\"blue\",\"blue\",\"blue\",\"blue\",\"blue\",\"blue\",\"blue\",\"blue\",\"blue\",\"blue\",\"blue\",\"blue\",\"blue\",\"blue\",\"blue\",\"blue\",\"blue\",\"blue\",\"blue\",\"blue\",\"blue\",\"blue\",\"blue\",\"blue\",\"blue\",\"blue\",\"blue\",\"blue\",\"blue\",\"blue\",\"blue\",\"blue\",\"blue\",\"blue\",\"blue\",\"blue\",\"blue\",\"blue\",\"blue\",\"blue\",\"blue\",\"blue\",\"blue\",\"blue\",\"blue\",\"blue\",\"blue\",\"blue\",\"blue\",\"blue\",\"blue\",\"blue\",\"blue\",\"blue\",\"blue\",\"blue\",\"blue\",\"blue\",\"blue\",\"blue\",\"blue\",\"blue\",\"blue\",\"blue\",\"blue\",\"blue\"],\"token\":[\"<user>\",\".\",\":\",\"rt\",\",\",\"<repeat>\",\"<hashtag>\",\"<number>\",\"<url>\",\"!\",\"i\",\"a\",\"\\\"\",\"the\",\"?\",\"you\",\"to\",\"(\",\"<allcaps>\",\"<elong>\",\")\",\"me\",\"de\",\"<smile>\",\"\\uff01\",\"que\",\"and\",\"\\u3002\",\"-\",\"my\",\"no\",\"\\u3001\",\"is\",\"it\",\"\\u2026\",\"in\",\"n\",\"for\",\"/\",\"of\",\"la\",\"'s\",\"*\",\"do\",\"n't\",\"that\",\"on\",\"y\",\"'\",\"e\",\"o\",\"u\",\"en\",\"this\",\"el\",\"so\",\"be\",\"'m\",\"with\",\"just\",\">\",\"your\",\"^\",\"like\",\"have\",\"te\",\"at\",\"\\uff1f\",\"love\",\"se\",\"are\",\"<\",\"m\",\"r\",\"if\",\"all\",\"b\",\"\\u30fb\",\"not\",\"but\",\"we\",\"es\",\"ya\",\"&\",\"follow\",\"up\",\"what\",\"get\",\"lol\",\"un\",\"\\u2665\",\"lo\",\"when\",\"was\",\"\\u201c\",\"\\u201d\",\"one\",\"por\",\"si\",\"out\",\"_\",\"mi\",\"can\",\"<sadface>\",\"\\u0645\\u0646\",\"\\u2661\",\"\\u00b4\",\"he\",\"con\",\"they\",\"now\",\"go\",\"\\u060c\",\"para\",\"los\",\"know\",\"haha\",\"good\",\"tu\",\"back\",\"~\",\"about\",\"new\",\";\",\"as\",\"day\",\"how\",\"who\",\"will\",\"want\",\"people\",\"yo\",\"eu\",\"from\",\"di\",\"time\",\"<heart>\",\"s\",\"aku\",\"da\",\"'re\",\"<lolface>\",\"una\",\"got\",\"las\",\"more\",\"x\",\"she\",\"today\",\"\\uff08\",\">>\",\"k\",\"by\",\"or\",\"\\u0641\\u064a\",\"\\uff65\",\"too\",\"le\",\"\\u00e9\",\"|\",\"[\",\"\\uff09\",\"]\",\"see\",\"why\",\"yg\",\"ca\",\"como\",\"her\",\"\\u2014\",\"q\",\"need\",\"an\",\"na\",\"\\u7b11\",\"there\",\"\\u03c9\",\"happy\",\"im\",\"mas\",\"je\",\"life\",\"really\",\"make\",\"yang\",\"shit\",\"think\",\"t\",\"\\u2764\",\"n\\u00e3o\",\"never\",\"some\",\"\\uff5e\",\"oh\",\"\\u2605\",\"did\",\"would\",\"del\",\"`\",\"d\",\"please\",\"via\",\"much\",\"fuck\",\"al\",\"dia\",\"$\",\"\\u0648\",\"right\",\"best\",\"c\",\"going\",\"\\u0627\\u0644\\u0644\\u0647\",\"pero\",\"only\",\"has\",\"\\u266a\",\"'ll\",\"twitter\",\"=\",\"hahaha\",\"its\",\"nn\",\"\\uff40\",\"\\u00bf\",\"am\",\"say\",\"<neutralface>\",\"them\",\"here\",\"\\u0644\\u0627\",\"off\",\"still\",\"dan\",\"+\",\"night\",\"w\",\"ada\",\"someone\",\"even\",\"then\",\"\\u2606\",\"ni\",\"come\",\"com\",\"always\",\"man\",\"'ve\",\"been\",\"his\",\"itu\",\"\\u0639\\u0644\\u0649\",\"-_-\",\"\\u263a\",\"over\",\"um\",\"\\u0645\\u0627\",\"hate\",\"girl\",\"ai\",\"had\",\"pra\",\"todo\",\"mais\",\"feel\",\"let\",\"ini\",\"because\",\"\\uff9f\",\"thanks\",\"ah\",\"way\",\"ever\",\"look\",\"tweet\",\"followers\",\"should\",\"our\",\"xd\",\"aja\",\"esta\",\"school\",\"him\",\"ser\",\"take\",\"than\",\"video\",\"em\",\"last\",\"wanna\",\"does\",\"us\",\"miss\",\"l\",\"ga\",\"better\",\"well\",\"could\",\"\\u25bd\",\"%\",\"apa\",\"cuando\",\"team\",\"\\u2714\",\"@\",\"ok\",\"\\u061f\",\"\\u2022\",\"vida\",\"quiero\",\"les\",\"being\",\"real\",\"down\",\"kamu\",\"everyone\",\"gonna\",\"live\",\"tonight\",\"yes\",\"work\",\"ass\",\"retweet\",\"nada\",\"sama\",\"first\",\"<<\",\"photo\",\"tomorrow\",\"where\",\"god\",\"son\",\"ke\",\"ta\",\"f\",\"home\",\"lagi\",\"thank\",\"birthday\",\"\\u2588\",\"ha\",\"great\",\"lmao\",\"omg\",\"morning\",\"m\\u00e1s\",\"mau\",\"baby\",\"dont\",\"\\uff61\",\"their\",\"p\",\"things\",\"game\",\"pas\",\"bad\",\"year\",\"yeah\",\"su\",\"bitch\",\"\\u0432\",\"stop\",\"hoy\",\"something\",\"meu\",\"tak\",\"gak\",\"world\",\"amor\",\"h\",\"\\\\\",\"ver\",\"\\uff1b\",\"porque\",\"give\",\"these\",\"\\u0627\\u0644\\u0644\\u0647\\u0645\",\"were\",\"hay\",\"sleep\",\"gue\",\"every\",\"friends\",\"uma\",\"tell\",\"amo\",\"vou\",\"bien\",\"\\u00a1\",\"again\",\"\\uff3e\",\"\\uff0f\",\"done\",\"after\",\"todos\",\"girls\",\"guys\",\"getting\",\"big\",\"wait\",\"justin\",\"eh\",\"\\u2192\",\"kan\",\"kita\",\"jajaja\",\"wish\",\"said\",\"fucking\",\"show\",\"thing\",\"next\",\"voc\\u00ea\",\"nos\",\"little\",\"tengo\",\"keep\",\"person\",\"''\",\"\\u2200\",\"hope\",\"\\u0643\\u0644\",\"hey\",\"bisa\",\"free\",\"made\",\"foto\",\"va\",\"everything\",\"iya\",\"nigga\",\"eso\",\"et\",\"watch\",\"music\",\"week\",\"talk\",\"ne\",\"solo\",\"gente\",\"udah\",\"\\uff1a\",\"--\",\"\\uff3c\",\"mejor\",\"facebook\",\"ma\",\"v\",\"phone\",\"most\",\"same\",\"okay\",\"ik\",\"before\",\"minha\",\"days\",\"g\",\"ti\",\"damn\",\"nice\",\"voy\",\"vai\",\"call\",\"long\",\"tapi\",\"http\",\"sin\",\"nunca\",\"doing\",\"other\",\"find\",\"il\",\"sa\",\"sorry\",\"nya\",\"orang\",\"\\u00b0\",\"hard\",\"mean\",\"die\",\"\\u0627\\u0644\\u0644\\u064a\",\"tem\",\"soy\",\"este\",\"kalo\",\"s\\u00f3\",\"th\",\"win\",\"nothing\",\"into\",\"face\",\"cute\",\"'d\",\"gracias\",\"lah\",\"\\u0438\",\"any\",\"play\",\"\\u2190\",\"ko\",\"text\",\"\\u2323\",\"estoy\",\"tau\",\"ur\",\"buat\",\"#\",\"cause\",\"\\u044f\",\"put\",\"kau\",\"siempre\",\"juga\",\"casa\",\"\\u0623\\u0646\",\"help\",\"start\",\"feliz\",\"old\",\"ir\",\"very\",\"care\",\"bir\",\"makes\",\"song\",\"check\",\"watching\",\"ahora\",\"jadi\",\"os\",\"may\",\"friend\",\"beautiful\",\"heart\",\"ka\",\"vc\",\"mundo\",\"\\u043d\\u0430\",\"sure\",\"tan\",\"pretty\",\"aqui\",\"\\u043d\\u0435\",\"house\",\"\\u0631\\u062a\\u0648\\u064a\\u062a\",\"\\u064a\\u0627\",\"ja\",\"true\",\"muy\",\"away\",\"already\",\"actually\",\"believe\",\"try\",\"many\",\"ma\\u00f1ana\",\"mis\",\"lu\",\"those\",\"hot\",\"qu\\u00e9\",\"mal\",\"\\u0639\\u0646\",\"though\",\"ask\",\"amazing\",\"bed\",\"}\",\"two\",\"mom\",\"d\\u00eda\",\"ve\",\"dari\",\"gameinsight\",\"stay\",\"fun\",\"around\",\"van\",\"cont\",\"ready\",\"money\",\"bu\",\"funny\",\"cool\",\"hair\",\"\\u00e0\",\"tho\",\"{\",\"wo\",\"hi\",\"name\",\"tiene\",\"hahahaha\",\"pa\",\"algo\",\"gotta\",\"\\u0648\\u0644\\u0627\",\"boy\",\"another\",\"c'est\",\"hari\",\"jajajaja\",\"having\",\"cara\",\"jaja\",\"dm\",\"looking\",\"top\",\"android\",\"dah\",\"wow\",\"\\u2591\",\"eres\",\"ben\",\"must\",\"news\",\"met\",\"est\\u00e1\",\"nih\",\"family\",\"black\",\"thought\",\"nak\",\"super\",\"end\",\"hace\",\"remember\",\"ama\",\"party\",\"cant\",\"vamos\",\"anything\",\"anyone\",\"\\u0641\\u0648\\u0644\\u0648\",\"perfect\",\"guy\",\"vez\",\"christmas\",\"dos\",\"bueno\",\"nao\",\"years\",\"vote\",\"dormir\",\"bro\",\"else\",\"quien\",\"untuk\",\"jangan\",\"myself\",\"head\",\"mind\",\"gua\",\"talking\",\"while\",\"dat\",\"food\",\"\\u0434\",\"coming\",\"wkwk\",\"trying\",\"saya\",\"mucho\",\"without\",\"wrong\",\"\\u2019s\",\"baru\",\"__\",\"hehe\",\"hacer\",\"lot\",\"followed\",\"crazy\",\"hell\",\"feeling\",\"des\",\"kok\",\"j\",\"stats\",\"j'\",\"\\u0627\\u0646\",\"tweets\",\"non\",\"cosas\",\"era\",\"high\",\"niggas\",\"change\",\"movie\",\"xx\",\"mad\",\"sih\",\"sometimes\",\"deh\",\"allah\",\"through\",\"pour\",\"ela\",\"soon\",\"gone\",\"playing\",\"smile\",\"bukan\",\"tv\",\"fans\",\"hasta\",\"akan\",\"y'\",\"looks\",\"isso\",\"\\u270c\",\"tired\",\"boys\",\"might\",\"dong\",\"lg\",\"use\",\"maybe\",\"until\",\"menos\",\"own\",\"dengan\",\"eat\",\"ou\",\"weekend\",\"\\u02d8\",\"class\",\"ele\",\"harry\",\"iphone\",\"friday\",\"single\",\"ff\",\"awesome\",\"bout\",\"muito\",\"hoje\",\"\\u00ac\",\"dios\",\"such\",\"estar\",\"j\\u00e1\",\"quando\",\"esa\",\"making\",\"\\u2501\",\"times\",\"lmfao\",\"gw\",\"moment\",\"yet\",\"aw\",\"smh\",\"banget\",\"masih\",\"qui\",\"quem\",\"\\u2013\",\"leave\",\"du\",\"une\",\"guess\",\"hit\",\"\\u0441\",\"pm\",\"since\",\"pues\",\"est\",\"job\",\"\\uff89\",\"mana\",\"bom\",\"siapa\",\"suka\",\"bieber\",\"mention\",\"lebih\",\"favorite\",\"bitches\",\"forever\",\"\\u0644\\u064a\",\"final\",\"read\",\"alguien\",\"open\",\"yourself\",\"ese\",\"che\",\"sex\",\"yaa\",\"car\",\"direction\",\"tidak\",\"seu\",\"gets\",\"left\",\"re\",\"jam\",\"enough\",\"\\u0625\\u0644\\u0627\",\"once\",\"\\u2019\",\"part\",\"cada\",\"\\u5b9a\\u671f\",\"\\u0644\\u0643\",\"een\",\"seen\",\"kak\",\"as\\u00ed\",\"nem\",\"\\u0639\\u0645\\u0644\",\"white\",\"told\",\"says\",\"esto\",\"sad\",\"mo\",\"fue\",\"yah\",\"summer\",\"\\u0647\",\"\\u2b55\",\"\\u00bb\",\"thats\",\"\\u0645\\u0639\",\"posted\",\"wants\",\"agora\",\"together\",\"fan\",\"men\",\"hear\",\"full\",\"\\u2600\",\"sigo\",\"pq\",\"dulu\",\"plus\",\"foi\",\"tudo\",\"\\u0647\\u0648\",\"ill\",\"\\u3042\",\"thinking\",\"wtf\",\"pagi\",\"mama\",\"kalau\",\"hati\",\"sexy\",\"sayang\",\"baik\",\"semua\",\"hola\",\"went\",\"vos\",\"tanto\",\"finally\",\"fb\",\"sea\",\"stupid\",\"tus\",\"seriously\",\"hora\",\"min\",\"pic\",\"estas\",\"turn\",\"hours\",\"excited\",\"nah\",\"buy\",\"saying\",\"mah\",\"break\",\"needs\",\"ce\",\"room\",\"choice\",\"far\",\"dead\",\"quero\",\"saw\",\"kids\",\"lil\",\"whole\",\"puede\",\"fall\",\"sus\",\"lost\",\"asi\",\"word\",\"\\u2639\",\"also\",\"\\u0631\\u064a\\u062a\\u0648\\u064a\\u062a\",\"probably\",\"everybody\",\"tarde\",\"run\",\"sei\",\"follback\",\"forget\",\"sweet\",\"welcome\",\"selamat\",\"\\uff3f\",\"sur\",\"place\",\"gusta\",\"sabe\",\"androidgames\",\"tp\",\"tiempo\",\"\\u0628\\u0633\",\"sou\",\"tuh\",\"vs\",\"eyes\",\"\\u0627\\u0646\\u0627\",\"picture\",\"das\",\"meet\",\"anak\",\"persona\",\"essa\",\"bored\",\"following\",\"nadie\",\"nobody\",\"dice\",\"alone\",\"sick\",\"red\",\"city\",\"cinta\",\"\\u6708\",\"linda\",\"dream\",\"story\",\"km\",\"het\",\"waiting\",\"^_^\",\"mine\",\"\\u0447\\u0442\\u043e\",\"reason\",\"kk\",\"\\u0644\\u0648\",\"online\",\"fast\",\"udh\",\"wanted\",\"op\",\"others\",\"gay\",\"n\\u2019t\",\"used\",\"sem\",\"understand\",\"moi\",\"sm\",\"aint\",\"donde\",\"bem\",\"which\",\"ng\",\"followback\",\"punya\",\"late\",\"anda\",\"tidur\",\"puedo\",\"early\",\"nd\",\"personas\",\"banyak\",\"\\u2705\",\"\\u278a\",\"trust\",\"noche\",\"tl\",\"\\uff1e\",\"\\u00ab\",\"af\",\"move\",\"pro\",\"bring\",\"ku\",\"called\",\"relationship\",\"idk\",\"hurt\",\"st\",\"pernah\",\"pessoas\",\"hello\",\"uno\",\"unfollowers\",\"cry\"],\"x\":{\"__ndarray__\":\"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\",\"dtype\":\"float32\",\"shape\":[1000]},\"y\":{\"__ndarray__\":\"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\",\"dtype\":\"float32\",\"shape\":[1000]}},\"selected\":{\"id\":\"1299\",\"type\":\"Selection\"},\"selection_policy\":{\"id\":\"1298\",\"type\":\"UnionRenderers\"}},\"id\":\"1231\",\"type\":\"ColumnDataSource\"},{\"attributes\":{\"active_drag\":\"auto\",\"active_inspect\":\"auto\",\"active_multi\":null,\"active_scroll\":{\"id\":\"1252\",\"type\":\"WheelZoomTool\"},\"active_tap\":\"auto\",\"tools\":[{\"id\":\"1251\",\"type\":\"PanTool\"},{\"id\":\"1252\",\"type\":\"WheelZoomTool\"},{\"id\":\"1253\",\"type\":\"BoxZoomTool\"},{\"id\":\"1254\",\"type\":\"SaveTool\"},{\"id\":\"1255\",\"type\":\"ResetTool\"},{\"id\":\"1256\",\"type\":\"HelpTool\"},{\"id\":\"1271\",\"type\":\"HoverTool\"}]},\"id\":\"1257\",\"type\":\"Toolbar\"},{\"attributes\":{\"plot\":{\"id\":\"1232\",\"subtype\":\"Figure\",\"type\":\"Plot\"},\"ticker\":{\"id\":\"1242\",\"type\":\"BasicTicker\"}},\"id\":\"1245\",\"type\":\"Grid\"},{\"attributes\":{\"bottom_units\":\"screen\",\"fill_alpha\":{\"value\":0.5},\"fill_color\":{\"value\":\"lightgrey\"},\"left_units\":\"screen\",\"level\":\"overlay\",\"line_alpha\":{\"value\":1.0},\"line_color\":{\"value\":\"black\"},\"line_dash\":[4,4],\"line_width\":{\"value\":2},\"plot\":null,\"render_mode\":\"css\",\"right_units\":\"screen\",\"top_units\":\"screen\"},\"id\":\"1259\",\"type\":\"BoxAnnotation\"},{\"attributes\":{},\"id\":\"1242\",\"type\":\"BasicTicker\"},{\"attributes\":{\"data_source\":{\"id\":\"1231\",\"type\":\"ColumnDataSource\"},\"glyph\":{\"id\":\"1267\",\"type\":\"Scatter\"},\"hover_glyph\":null,\"muted_glyph\":null,\"nonselection_glyph\":{\"id\":\"1268\",\"type\":\"Scatter\"},\"selection_glyph\":null,\"view\":{\"id\":\"1270\",\"type\":\"CDSView\"}},\"id\":\"1269\",\"type\":\"GlyphRenderer\"},{\"attributes\":{},\"id\":\"1252\",\"type\":\"WheelZoomTool\"},{\"attributes\":{},\"id\":\"1298\",\"type\":\"UnionRenderers\"},{\"attributes\":{},\"id\":\"1299\",\"type\":\"Selection\"},{\"attributes\":{},\"id\":\"1254\",\"type\":\"SaveTool\"},{\"attributes\":{\"overlay\":{\"id\":\"1259\",\"type\":\"BoxAnnotation\"}},\"id\":\"1253\",\"type\":\"BoxZoomTool\"},{\"attributes\":{\"fill_alpha\":{\"value\":0.25},\"fill_color\":{\"field\":\"color\"},\"line_alpha\":{\"value\":0.25},\"line_color\":{\"field\":\"color\"},\"size\":{\"units\":\"screen\",\"value\":10},\"x\":{\"field\":\"x\"},\"y\":{\"field\":\"y\"}},\"id\":\"1267\",\"type\":\"Scatter\"},{\"attributes\":{\"callback\":null,\"renderers\":\"auto\",\"tooltips\":[[\"token\",\"@token\"]]},\"id\":\"1271\",\"type\":\"HoverTool\"},{\"attributes\":{\"callback\":null},\"id\":\"1235\",\"type\":\"DataRange1d\"},{\"attributes\":{},\"id\":\"1294\",\"type\":\"BasicTickFormatter\"},{\"attributes\":{},\"id\":\"1237\",\"type\":\"LinearScale\"},{\"attributes\":{},\"id\":\"1296\",\"type\":\"BasicTickFormatter\"},{\"attributes\":{\"dimension\":1,\"plot\":{\"id\":\"1232\",\"subtype\":\"Figure\",\"type\":\"Plot\"},\"ticker\":{\"id\":\"1247\",\"type\":\"BasicTicker\"}},\"id\":\"1250\",\"type\":\"Grid\"},{\"attributes\":{},\"id\":\"1247\",\"type\":\"BasicTicker\"},{\"attributes\":{\"fill_alpha\":{\"value\":0.1},\"fill_color\":{\"value\":\"#1f77b4\"},\"line_alpha\":{\"value\":0.1},\"line_color\":{\"value\":\"#1f77b4\"},\"size\":{\"units\":\"screen\",\"value\":10},\"x\":{\"field\":\"x\"},\"y\":{\"field\":\"y\"}},\"id\":\"1268\",\"type\":\"Scatter\"},{\"attributes\":{\"formatter\":{\"id\":\"1294\",\"type\":\"BasicTickFormatter\"},\"plot\":{\"id\":\"1232\",\"subtype\":\"Figure\",\"type\":\"Plot\"},\"ticker\":{\"id\":\"1242\",\"type\":\"BasicTicker\"}},\"id\":\"1241\",\"type\":\"LinearAxis\"},{\"attributes\":{\"formatter\":{\"id\":\"1296\",\"type\":\"BasicTickFormatter\"},\"plot\":{\"id\":\"1232\",\"subtype\":\"Figure\",\"type\":\"Plot\"},\"ticker\":{\"id\":\"1247\",\"type\":\"BasicTicker\"}},\"id\":\"1246\",\"type\":\"LinearAxis\"},{\"attributes\":{},\"id\":\"1239\",\"type\":\"LinearScale\"}],\"root_ids\":[\"1232\"]},\"title\":\"Bokeh Application\",\"version\":\"1.0.1\"}};\n",
       "  var render_items = [{\"docid\":\"0c43c24d-2de3-48e2-9099-c1defa238384\",\"roots\":{\"1232\":\"581add15-b35b-4395-a051-3d272354ca7a\"}}];\n",
       "  root.Bokeh.embed.embed_items_notebook(docs_json, render_items);\n",
       "\n",
       "  }\n",
       "  if (root.Bokeh !== undefined) {\n",
       "    embed_document(root);\n",
       "  } else {\n",
       "    var attempts = 0;\n",
       "    var timer = setInterval(function(root) {\n",
       "      if (root.Bokeh !== undefined) {\n",
       "        embed_document(root);\n",
       "        clearInterval(timer);\n",
       "      }\n",
       "      attempts++;\n",
       "      if (attempts > 100) {\n",
       "        console.log(\"Bokeh: ERROR: Unable to run BokehJS code because BokehJS library is missing\");\n",
       "        clearInterval(timer);\n",
       "      }\n",
       "    }, 10, root)\n",
       "  }\n",
       "})(window);"
      ],
      "application/vnd.bokehjs_exec.v0+json": ""
     },
     "metadata": {
      "application/vnd.bokehjs_exec.v0+json": {
       "id": "1232"
      }
     },
     "output_type": "display_data"
    },
    {
     "data": {
      "text/html": [
       "<div style=\"display: table;\"><div style=\"display: table-row;\"><div style=\"display: table-cell;\"><b title=\"bokeh.plotting.figure.Figure\">Figure</b>(</div><div style=\"display: table-cell;\">id&nbsp;=&nbsp;'1232', <span id=\"1355\" style=\"cursor: pointer;\">&hellip;)</span></div></div><div class=\"1354\" style=\"display: none;\"><div style=\"display: table-cell;\"></div><div style=\"display: table-cell;\">above&nbsp;=&nbsp;[],</div></div><div class=\"1354\" style=\"display: none;\"><div style=\"display: table-cell;\"></div><div style=\"display: table-cell;\">aspect_scale&nbsp;=&nbsp;1,</div></div><div class=\"1354\" style=\"display: none;\"><div style=\"display: table-cell;\"></div><div style=\"display: table-cell;\">background_fill_alpha&nbsp;=&nbsp;{'value': 1.0},</div></div><div class=\"1354\" style=\"display: none;\"><div style=\"display: table-cell;\"></div><div style=\"display: table-cell;\">background_fill_color&nbsp;=&nbsp;{'value': '#ffffff'},</div></div><div class=\"1354\" style=\"display: none;\"><div style=\"display: table-cell;\"></div><div style=\"display: table-cell;\">below&nbsp;=&nbsp;[LinearAxis(id='1241', ...)],</div></div><div class=\"1354\" style=\"display: none;\"><div style=\"display: table-cell;\"></div><div style=\"display: table-cell;\">border_fill_alpha&nbsp;=&nbsp;{'value': 1.0},</div></div><div class=\"1354\" style=\"display: none;\"><div style=\"display: table-cell;\"></div><div style=\"display: table-cell;\">border_fill_color&nbsp;=&nbsp;{'value': '#ffffff'},</div></div><div class=\"1354\" style=\"display: none;\"><div style=\"display: table-cell;\"></div><div style=\"display: table-cell;\">css_classes&nbsp;=&nbsp;[],</div></div><div class=\"1354\" style=\"display: none;\"><div style=\"display: table-cell;\"></div><div style=\"display: table-cell;\">disabled&nbsp;=&nbsp;False,</div></div><div class=\"1354\" style=\"display: none;\"><div style=\"display: table-cell;\"></div><div style=\"display: table-cell;\">extra_x_ranges&nbsp;=&nbsp;{},</div></div><div class=\"1354\" style=\"display: none;\"><div style=\"display: table-cell;\"></div><div style=\"display: table-cell;\">extra_y_ranges&nbsp;=&nbsp;{},</div></div><div class=\"1354\" style=\"display: none;\"><div style=\"display: table-cell;\"></div><div style=\"display: table-cell;\">h_symmetry&nbsp;=&nbsp;True,</div></div><div class=\"1354\" style=\"display: none;\"><div style=\"display: table-cell;\"></div><div style=\"display: table-cell;\">height&nbsp;=&nbsp;None,</div></div><div class=\"1354\" style=\"display: none;\"><div style=\"display: table-cell;\"></div><div style=\"display: table-cell;\">hidpi&nbsp;=&nbsp;True,</div></div><div class=\"1354\" style=\"display: none;\"><div style=\"display: table-cell;\"></div><div style=\"display: table-cell;\">js_event_callbacks&nbsp;=&nbsp;{},</div></div><div class=\"1354\" style=\"display: none;\"><div style=\"display: table-cell;\"></div><div style=\"display: table-cell;\">js_property_callbacks&nbsp;=&nbsp;{},</div></div><div class=\"1354\" style=\"display: none;\"><div style=\"display: table-cell;\"></div><div style=\"display: table-cell;\">left&nbsp;=&nbsp;[LinearAxis(id='1246', ...)],</div></div><div class=\"1354\" style=\"display: none;\"><div style=\"display: table-cell;\"></div><div style=\"display: table-cell;\">lod_factor&nbsp;=&nbsp;10,</div></div><div class=\"1354\" style=\"display: none;\"><div style=\"display: table-cell;\"></div><div style=\"display: table-cell;\">lod_interval&nbsp;=&nbsp;300,</div></div><div class=\"1354\" style=\"display: none;\"><div style=\"display: table-cell;\"></div><div style=\"display: table-cell;\">lod_threshold&nbsp;=&nbsp;2000,</div></div><div class=\"1354\" style=\"display: none;\"><div style=\"display: table-cell;\"></div><div style=\"display: table-cell;\">lod_timeout&nbsp;=&nbsp;500,</div></div><div class=\"1354\" style=\"display: none;\"><div style=\"display: table-cell;\"></div><div style=\"display: table-cell;\">match_aspect&nbsp;=&nbsp;False,</div></div><div class=\"1354\" style=\"display: none;\"><div style=\"display: table-cell;\"></div><div style=\"display: table-cell;\">min_border&nbsp;=&nbsp;5,</div></div><div class=\"1354\" style=\"display: none;\"><div style=\"display: table-cell;\"></div><div style=\"display: table-cell;\">min_border_bottom&nbsp;=&nbsp;None,</div></div><div class=\"1354\" style=\"display: none;\"><div style=\"display: table-cell;\"></div><div style=\"display: table-cell;\">min_border_left&nbsp;=&nbsp;None,</div></div><div class=\"1354\" style=\"display: none;\"><div style=\"display: table-cell;\"></div><div style=\"display: table-cell;\">min_border_right&nbsp;=&nbsp;None,</div></div><div class=\"1354\" style=\"display: none;\"><div style=\"display: table-cell;\"></div><div style=\"display: table-cell;\">min_border_top&nbsp;=&nbsp;None,</div></div><div class=\"1354\" style=\"display: none;\"><div style=\"display: table-cell;\"></div><div style=\"display: table-cell;\">name&nbsp;=&nbsp;None,</div></div><div class=\"1354\" style=\"display: none;\"><div style=\"display: table-cell;\"></div><div style=\"display: table-cell;\">outline_line_alpha&nbsp;=&nbsp;{'value': 1.0},</div></div><div class=\"1354\" style=\"display: none;\"><div style=\"display: table-cell;\"></div><div style=\"display: table-cell;\">outline_line_cap&nbsp;=&nbsp;'butt',</div></div><div class=\"1354\" style=\"display: none;\"><div style=\"display: table-cell;\"></div><div style=\"display: table-cell;\">outline_line_color&nbsp;=&nbsp;{'value': '#e5e5e5'},</div></div><div class=\"1354\" style=\"display: none;\"><div style=\"display: table-cell;\"></div><div style=\"display: table-cell;\">outline_line_dash&nbsp;=&nbsp;[],</div></div><div class=\"1354\" style=\"display: none;\"><div style=\"display: table-cell;\"></div><div style=\"display: table-cell;\">outline_line_dash_offset&nbsp;=&nbsp;0,</div></div><div class=\"1354\" style=\"display: none;\"><div style=\"display: table-cell;\"></div><div style=\"display: table-cell;\">outline_line_join&nbsp;=&nbsp;'bevel',</div></div><div class=\"1354\" style=\"display: none;\"><div style=\"display: table-cell;\"></div><div style=\"display: table-cell;\">outline_line_width&nbsp;=&nbsp;{'value': 1},</div></div><div class=\"1354\" style=\"display: none;\"><div style=\"display: table-cell;\"></div><div style=\"display: table-cell;\">output_backend&nbsp;=&nbsp;'canvas',</div></div><div class=\"1354\" style=\"display: none;\"><div style=\"display: table-cell;\"></div><div style=\"display: table-cell;\">plot_height&nbsp;=&nbsp;400,</div></div><div class=\"1354\" style=\"display: none;\"><div style=\"display: table-cell;\"></div><div style=\"display: table-cell;\">plot_width&nbsp;=&nbsp;600,</div></div><div class=\"1354\" style=\"display: none;\"><div style=\"display: table-cell;\"></div><div style=\"display: table-cell;\">renderers&nbsp;=&nbsp;[LinearAxis(id='1241', ...), Grid(id='1245', ...), LinearAxis(id='1246', ...), Grid(id='1250', ...), BoxAnnotation(id='1259', ...), GlyphRenderer(id='1269', ...)],</div></div><div class=\"1354\" style=\"display: none;\"><div style=\"display: table-cell;\"></div><div style=\"display: table-cell;\">right&nbsp;=&nbsp;[],</div></div><div class=\"1354\" style=\"display: none;\"><div style=\"display: table-cell;\"></div><div style=\"display: table-cell;\">sizing_mode&nbsp;=&nbsp;'fixed',</div></div><div class=\"1354\" style=\"display: none;\"><div style=\"display: table-cell;\"></div><div style=\"display: table-cell;\">subscribed_events&nbsp;=&nbsp;[],</div></div><div class=\"1354\" style=\"display: none;\"><div style=\"display: table-cell;\"></div><div style=\"display: table-cell;\">tags&nbsp;=&nbsp;[],</div></div><div class=\"1354\" style=\"display: none;\"><div style=\"display: table-cell;\"></div><div style=\"display: table-cell;\">title&nbsp;=&nbsp;Title(id='1292', ...),</div></div><div class=\"1354\" style=\"display: none;\"><div style=\"display: table-cell;\"></div><div style=\"display: table-cell;\">title_location&nbsp;=&nbsp;'above',</div></div><div class=\"1354\" style=\"display: none;\"><div style=\"display: table-cell;\"></div><div style=\"display: table-cell;\">toolbar&nbsp;=&nbsp;Toolbar(id='1257', ...),</div></div><div class=\"1354\" style=\"display: none;\"><div style=\"display: table-cell;\"></div><div style=\"display: table-cell;\">toolbar_location&nbsp;=&nbsp;'right',</div></div><div class=\"1354\" style=\"display: none;\"><div style=\"display: table-cell;\"></div><div style=\"display: table-cell;\">toolbar_sticky&nbsp;=&nbsp;True,</div></div><div class=\"1354\" style=\"display: none;\"><div style=\"display: table-cell;\"></div><div style=\"display: table-cell;\">v_symmetry&nbsp;=&nbsp;False,</div></div><div class=\"1354\" style=\"display: none;\"><div style=\"display: table-cell;\"></div><div style=\"display: table-cell;\">width&nbsp;=&nbsp;None,</div></div><div class=\"1354\" style=\"display: none;\"><div style=\"display: table-cell;\"></div><div style=\"display: table-cell;\">x_range&nbsp;=&nbsp;DataRange1d(id='1233', ...),</div></div><div class=\"1354\" style=\"display: none;\"><div style=\"display: table-cell;\"></div><div style=\"display: table-cell;\">x_scale&nbsp;=&nbsp;LinearScale(id='1237', ...),</div></div><div class=\"1354\" style=\"display: none;\"><div style=\"display: table-cell;\"></div><div style=\"display: table-cell;\">y_range&nbsp;=&nbsp;DataRange1d(id='1235', ...),</div></div><div class=\"1354\" style=\"display: none;\"><div style=\"display: table-cell;\"></div><div style=\"display: table-cell;\">y_scale&nbsp;=&nbsp;LinearScale(id='1239', ...))</div></div></div>\n",
       "<script>\n",
       "(function() {\n",
       "  var expanded = false;\n",
       "  var ellipsis = document.getElementById(\"1355\");\n",
       "  ellipsis.addEventListener(\"click\", function() {\n",
       "    var rows = document.getElementsByClassName(\"1354\");\n",
       "    for (var i = 0; i < rows.length; i++) {\n",
       "      var el = rows[i];\n",
       "      el.style.display = expanded ? \"none\" : \"table-row\";\n",
       "    }\n",
       "    ellipsis.innerHTML = expanded ? \"&hellip;)\" : \"&lsaquo;&lsaquo;&lsaquo;\";\n",
       "    expanded = !expanded;\n",
       "  });\n",
       "})();\n",
       "</script>\n"
      ],
      "text/plain": [
       "Figure(id='1232', ...)"
      ]
     },
     "execution_count": 46,
     "metadata": {},
     "output_type": "execute_result"
    }
   ],
   "source": [
    "draw_vectors(word_vectors_pca[:, 0], word_vectors_pca[:, 1], token=words)\n",
    "\n",
    "# hover a mouse over there and see if you can identify the clusters"
   ]
  },
  {
   "cell_type": "markdown",
   "metadata": {},
   "source": [
    "### Visualizing neighbors with t-SNE\n",
    "PCA is nice but it's strictly linear and thus only able to capture coarse high-level structure of the data.\n",
    "\n",
    "If we instead want to focus on keeping neighboring points near, we could use TSNE, which is itself an embedding method. Here you can read __[more on TSNE](https://distill.pub/2016/misread-tsne/)__."
   ]
  },
  {
   "cell_type": "code",
   "execution_count": 47,
   "metadata": {},
   "outputs": [],
   "source": [
    "from sklearn.manifold import TSNE\n",
    "\n",
    "# map word vectors onto 2d plane with TSNE. hint: use verbose=100 to see what it's doing.\n",
    "# normalize them as just lke with pca\n",
    "\n",
    "\n",
    "word_tsne = TSNE(n_components=2).fit_transform(word_vectors)\n",
    "# word_tsne = preprocessing.scale(word_tsne)\n",
    "word_tsne = (word_tsne - word_tsne.mean(axis=0)) / word_tsne.std(axis=0)"
   ]
  },
  {
   "cell_type": "code",
   "execution_count": 48,
   "metadata": {
    "scrolled": false
   },
   "outputs": [
    {
     "data": {
      "text/html": [
       "\n",
       "\n",
       "\n",
       "\n",
       "\n",
       "\n",
       "  <div class=\"bk-root\" id=\"ae1b761c-8b89-45d2-a8e5-46507a92efb6\"></div>\n"
      ]
     },
     "metadata": {},
     "output_type": "display_data"
    },
    {
     "data": {
      "application/javascript": [
       "(function(root) {\n",
       "  function embed_document(root) {\n",
       "    \n",
       "  var docs_json = {\"a0d025f0-d7f9-4360-b5bd-f8958d0b0176\":{\"roots\":{\"references\":[{\"attributes\":{\"below\":[{\"id\":\"1368\",\"type\":\"LinearAxis\"}],\"left\":[{\"id\":\"1373\",\"type\":\"LinearAxis\"}],\"plot_height\":400,\"renderers\":[{\"id\":\"1368\",\"type\":\"LinearAxis\"},{\"id\":\"1372\",\"type\":\"Grid\"},{\"id\":\"1373\",\"type\":\"LinearAxis\"},{\"id\":\"1377\",\"type\":\"Grid\"},{\"id\":\"1386\",\"type\":\"BoxAnnotation\"},{\"id\":\"1396\",\"type\":\"GlyphRenderer\"}],\"title\":{\"id\":\"1428\",\"type\":\"Title\"},\"toolbar\":{\"id\":\"1384\",\"type\":\"Toolbar\"},\"x_range\":{\"id\":\"1360\",\"type\":\"DataRange1d\"},\"x_scale\":{\"id\":\"1364\",\"type\":\"LinearScale\"},\"y_range\":{\"id\":\"1362\",\"type\":\"DataRange1d\"},\"y_scale\":{\"id\":\"1366\",\"type\":\"LinearScale\"}},\"id\":\"1359\",\"subtype\":\"Figure\",\"type\":\"Plot\"},{\"attributes\":{},\"id\":\"1374\",\"type\":\"BasicTicker\"},{\"attributes\":{},\"id\":\"1383\",\"type\":\"HelpTool\"},{\"attributes\":{\"active_drag\":\"auto\",\"active_inspect\":\"auto\",\"active_multi\":null,\"active_scroll\":{\"id\":\"1379\",\"type\":\"WheelZoomTool\"},\"active_tap\":\"auto\",\"tools\":[{\"id\":\"1378\",\"type\":\"PanTool\"},{\"id\":\"1379\",\"type\":\"WheelZoomTool\"},{\"id\":\"1380\",\"type\":\"BoxZoomTool\"},{\"id\":\"1381\",\"type\":\"SaveTool\"},{\"id\":\"1382\",\"type\":\"ResetTool\"},{\"id\":\"1383\",\"type\":\"HelpTool\"},{\"id\":\"1398\",\"type\":\"HoverTool\"}]},\"id\":\"1384\",\"type\":\"Toolbar\"},{\"attributes\":{\"formatter\":{\"id\":\"1432\",\"type\":\"BasicTickFormatter\"},\"plot\":{\"id\":\"1359\",\"subtype\":\"Figure\",\"type\":\"Plot\"},\"ticker\":{\"id\":\"1374\",\"type\":\"BasicTicker\"}},\"id\":\"1373\",\"type\":\"LinearAxis\"},{\"attributes\":{\"bottom_units\":\"screen\",\"fill_alpha\":{\"value\":0.5},\"fill_color\":{\"value\":\"lightgrey\"},\"left_units\":\"screen\",\"level\":\"overlay\",\"line_alpha\":{\"value\":1.0},\"line_color\":{\"value\":\"black\"},\"line_dash\":[4,4],\"line_width\":{\"value\":2},\"plot\":null,\"render_mode\":\"css\",\"right_units\":\"screen\",\"top_units\":\"screen\"},\"id\":\"1386\",\"type\":\"BoxAnnotation\"},{\"attributes\":{\"data_source\":{\"id\":\"1358\",\"type\":\"ColumnDataSource\"},\"glyph\":{\"id\":\"1394\",\"type\":\"Scatter\"},\"hover_glyph\":null,\"muted_glyph\":null,\"nonselection_glyph\":{\"id\":\"1395\",\"type\":\"Scatter\"},\"selection_glyph\":null,\"view\":{\"id\":\"1397\",\"type\":\"CDSView\"}},\"id\":\"1396\",\"type\":\"GlyphRenderer\"},{\"attributes\":{\"formatter\":{\"id\":\"1430\",\"type\":\"BasicTickFormatter\"},\"plot\":{\"id\":\"1359\",\"subtype\":\"Figure\",\"type\":\"Plot\"},\"ticker\":{\"id\":\"1369\",\"type\":\"BasicTicker\"}},\"id\":\"1368\",\"type\":\"LinearAxis\"},{\"attributes\":{},\"id\":\"1435\",\"type\":\"Selection\"},{\"attributes\":{\"plot\":{\"id\":\"1359\",\"subtype\":\"Figure\",\"type\":\"Plot\"},\"ticker\":{\"id\":\"1369\",\"type\":\"BasicTicker\"}},\"id\":\"1372\",\"type\":\"Grid\"},{\"attributes\":{},\"id\":\"1369\",\"type\":\"BasicTicker\"},{\"attributes\":{\"source\":{\"id\":\"1358\",\"type\":\"ColumnDataSource\"}},\"id\":\"1397\",\"type\":\"CDSView\"},{\"attributes\":{\"callback\":null},\"id\":\"1360\",\"type\":\"DataRange1d\"},{\"attributes\":{},\"id\":\"1366\",\"type\":\"LinearScale\"},{\"attributes\":{\"callback\":null,\"renderers\":\"auto\",\"tooltips\":[[\"token\",\"@token\"]]},\"id\":\"1398\",\"type\":\"HoverTool\"},{\"attributes\":{\"callback\":null},\"id\":\"1362\",\"type\":\"DataRange1d\"},{\"attributes\":{},\"id\":\"1382\",\"type\":\"ResetTool\"},{\"attributes\":{\"plot\":null,\"text\":\"\"},\"id\":\"1428\",\"type\":\"Title\"},{\"attributes\":{\"overlay\":{\"id\":\"1386\",\"type\":\"BoxAnnotation\"}},\"id\":\"1380\",\"type\":\"BoxZoomTool\"},{\"attributes\":{\"callback\":null,\"data\":{\"color\":[\"green\",\"green\",\"green\",\"green\",\"green\",\"green\",\"green\",\"green\",\"green\",\"green\",\"green\",\"green\",\"green\",\"green\",\"green\",\"green\",\"green\",\"green\",\"green\",\"green\",\"green\",\"green\",\"green\",\"green\",\"green\",\"green\",\"green\",\"green\",\"green\",\"green\",\"green\",\"green\",\"green\",\"green\",\"green\",\"green\",\"green\",\"green\",\"green\",\"green\",\"green\",\"green\",\"green\",\"green\",\"green\",\"green\",\"green\",\"green\",\"green\",\"green\",\"green\",\"green\",\"green\",\"green\",\"green\",\"green\",\"green\",\"green\",\"green\",\"green\",\"green\",\"green\",\"green\",\"green\",\"green\",\"green\",\"green\",\"green\",\"green\",\"green\",\"green\",\"green\",\"green\",\"green\",\"green\",\"green\",\"green\",\"green\",\"green\",\"green\",\"green\",\"green\",\"green\",\"green\",\"green\",\"green\",\"green\",\"green\",\"green\",\"green\",\"green\",\"green\",\"green\",\"green\",\"green\",\"green\",\"green\",\"green\",\"green\",\"green\",\"green\",\"green\",\"green\",\"green\",\"green\",\"green\",\"green\",\"green\",\"green\",\"green\",\"green\",\"green\",\"green\",\"green\",\"green\",\"green\",\"green\",\"green\",\"green\",\"green\",\"green\",\"green\",\"green\",\"green\",\"green\",\"green\",\"green\",\"green\",\"green\",\"green\",\"green\",\"green\",\"green\",\"green\",\"green\",\"green\",\"green\",\"green\",\"green\",\"green\",\"green\",\"green\",\"green\",\"green\",\"green\",\"green\",\"green\",\"green\",\"green\",\"green\",\"green\",\"green\",\"green\",\"green\",\"green\",\"green\",\"green\",\"green\",\"green\",\"green\",\"green\",\"green\",\"green\",\"green\",\"green\",\"green\",\"green\",\"green\",\"green\",\"green\",\"green\",\"green\",\"green\",\"green\",\"green\",\"green\",\"green\",\"green\",\"green\",\"green\",\"green\",\"green\",\"green\",\"green\",\"green\",\"green\",\"green\",\"green\",\"green\",\"green\",\"green\",\"green\",\"green\",\"green\",\"green\",\"green\",\"green\",\"green\",\"green\",\"green\",\"green\",\"green\",\"green\",\"green\",\"green\",\"green\",\"green\",\"green\",\"green\",\"green\",\"green\",\"green\",\"green\",\"green\",\"green\",\"green\",\"green\",\"green\",\"green\",\"green\",\"green\",\"green\",\"green\",\"green\",\"green\",\"green\",\"green\",\"green\",\"green\",\"green\",\"green\",\"green\",\"green\",\"green\",\"green\",\"green\",\"green\",\"green\",\"green\",\"green\",\"green\",\"green\",\"green\",\"green\",\"green\",\"green\",\"green\",\"green\",\"green\",\"green\",\"green\",\"green\",\"green\",\"green\",\"green\",\"green\",\"green\",\"green\",\"green\",\"green\",\"green\",\"green\",\"green\",\"green\",\"green\",\"green\",\"green\",\"green\",\"green\",\"green\",\"green\",\"green\",\"green\",\"green\",\"green\",\"green\",\"green\",\"green\",\"green\",\"green\",\"green\",\"green\",\"green\",\"green\",\"green\",\"green\",\"green\",\"green\",\"green\",\"green\",\"green\",\"green\",\"green\",\"green\",\"green\",\"green\",\"green\",\"green\",\"green\",\"green\",\"green\",\"green\",\"green\",\"green\",\"green\",\"green\",\"green\",\"green\",\"green\",\"green\",\"green\",\"green\",\"green\",\"green\",\"green\",\"green\",\"green\",\"green\",\"green\",\"green\",\"green\",\"green\",\"green\",\"green\",\"green\",\"green\",\"green\",\"green\",\"green\",\"green\",\"green\",\"green\",\"green\",\"green\",\"green\",\"green\",\"green\",\"green\",\"green\",\"green\",\"green\",\"green\",\"green\",\"green\",\"green\",\"green\",\"green\",\"green\",\"green\",\"green\",\"green\",\"green\",\"green\",\"green\",\"green\",\"green\",\"green\",\"green\",\"green\",\"green\",\"green\",\"green\",\"green\",\"green\",\"green\",\"green\",\"green\",\"green\",\"green\",\"green\",\"green\",\"green\",\"green\",\"green\",\"green\",\"green\",\"green\",\"green\",\"green\",\"green\",\"green\",\"green\",\"green\",\"green\",\"green\",\"green\",\"green\",\"green\",\"green\",\"green\",\"green\",\"green\",\"green\",\"green\",\"green\",\"green\",\"green\",\"green\",\"green\",\"green\",\"green\",\"green\",\"green\",\"green\",\"green\",\"green\",\"green\",\"green\",\"green\",\"green\",\"green\",\"green\",\"green\",\"green\",\"green\",\"green\",\"green\",\"green\",\"green\",\"green\",\"green\",\"green\",\"green\",\"green\",\"green\",\"green\",\"green\",\"green\",\"green\",\"green\",\"green\",\"green\",\"green\",\"green\",\"green\",\"green\",\"green\",\"green\",\"green\",\"green\",\"green\",\"green\",\"green\",\"green\",\"green\",\"green\",\"green\",\"green\",\"green\",\"green\",\"green\",\"green\",\"green\",\"green\",\"green\",\"green\",\"green\",\"green\",\"green\",\"green\",\"green\",\"green\",\"green\",\"green\",\"green\",\"green\",\"green\",\"green\",\"green\",\"green\",\"green\",\"green\",\"green\",\"green\",\"green\",\"green\",\"green\",\"green\",\"green\",\"green\",\"green\",\"green\",\"green\",\"green\",\"green\",\"green\",\"green\",\"green\",\"green\",\"green\",\"green\",\"green\",\"green\",\"green\",\"green\",\"green\",\"green\",\"green\",\"green\",\"green\",\"green\",\"green\",\"green\",\"green\",\"green\",\"green\",\"green\",\"green\",\"green\",\"green\",\"green\",\"green\",\"green\",\"green\",\"green\",\"green\",\"green\",\"green\",\"green\",\"green\",\"green\",\"green\",\"green\",\"green\",\"green\",\"green\",\"green\",\"green\",\"green\",\"green\",\"green\",\"green\",\"green\",\"green\",\"green\",\"green\",\"green\",\"green\",\"green\",\"green\",\"green\",\"green\",\"green\",\"green\",\"green\",\"green\",\"green\",\"green\",\"green\",\"green\",\"green\",\"green\",\"green\",\"green\",\"green\",\"green\",\"green\",\"green\",\"green\",\"green\",\"green\",\"green\",\"green\",\"green\",\"green\",\"green\",\"green\",\"green\",\"green\",\"green\",\"green\",\"green\",\"green\",\"green\",\"green\",\"green\",\"green\",\"green\",\"green\",\"green\",\"green\",\"green\",\"green\",\"green\",\"green\",\"green\",\"green\",\"green\",\"green\",\"green\",\"green\",\"green\",\"green\",\"green\",\"green\",\"green\",\"green\",\"green\",\"green\",\"green\",\"green\",\"green\",\"green\",\"green\",\"green\",\"green\",\"green\",\"green\",\"green\",\"green\",\"green\",\"green\",\"green\",\"green\",\"green\",\"green\",\"green\",\"green\",\"green\",\"green\",\"green\",\"green\",\"green\",\"green\",\"green\",\"green\",\"green\",\"green\",\"green\",\"green\",\"green\",\"green\",\"green\",\"green\",\"green\",\"green\",\"green\",\"green\",\"green\",\"green\",\"green\",\"green\",\"green\",\"green\",\"green\",\"green\",\"green\",\"green\",\"green\",\"green\",\"green\",\"green\",\"green\",\"green\",\"green\",\"green\",\"green\",\"green\",\"green\",\"green\",\"green\",\"green\",\"green\",\"green\",\"green\",\"green\",\"green\",\"green\",\"green\",\"green\",\"green\",\"green\",\"green\",\"green\",\"green\",\"green\",\"green\",\"green\",\"green\",\"green\",\"green\",\"green\",\"green\",\"green\",\"green\",\"green\",\"green\",\"green\",\"green\",\"green\",\"green\",\"green\",\"green\",\"green\",\"green\",\"green\",\"green\",\"green\",\"green\",\"green\",\"green\",\"green\",\"green\",\"green\",\"green\",\"green\",\"green\",\"green\",\"green\",\"green\",\"green\",\"green\",\"green\",\"green\",\"green\",\"green\",\"green\",\"green\",\"green\",\"green\",\"green\",\"green\",\"green\",\"green\",\"green\",\"green\",\"green\",\"green\",\"green\",\"green\",\"green\",\"green\",\"green\",\"green\",\"green\",\"green\",\"green\",\"green\",\"green\",\"green\",\"green\",\"green\",\"green\",\"green\",\"green\",\"green\",\"green\",\"green\",\"green\",\"green\",\"green\",\"green\",\"green\",\"green\",\"green\",\"green\",\"green\",\"green\",\"green\",\"green\",\"green\",\"green\",\"green\",\"green\",\"green\",\"green\",\"green\",\"green\",\"green\",\"green\",\"green\",\"green\",\"green\",\"green\",\"green\",\"green\",\"green\",\"green\",\"green\",\"green\",\"green\",\"green\",\"green\",\"green\",\"green\",\"green\",\"green\",\"green\",\"green\",\"green\",\"green\",\"green\",\"green\",\"green\",\"green\",\"green\",\"green\",\"green\",\"green\",\"green\",\"green\",\"green\",\"green\",\"green\",\"green\",\"green\",\"green\",\"green\",\"green\",\"green\",\"green\",\"green\",\"green\",\"green\",\"green\",\"green\",\"green\",\"green\",\"green\",\"green\",\"green\",\"green\",\"green\",\"green\",\"green\",\"green\",\"green\",\"green\",\"green\",\"green\",\"green\",\"green\",\"green\",\"green\",\"green\",\"green\",\"green\",\"green\",\"green\",\"green\",\"green\",\"green\",\"green\",\"green\",\"green\",\"green\",\"green\",\"green\",\"green\",\"green\",\"green\",\"green\",\"green\",\"green\",\"green\",\"green\",\"green\",\"green\",\"green\",\"green\",\"green\",\"green\",\"green\",\"green\",\"green\",\"green\",\"green\",\"green\",\"green\",\"green\",\"green\",\"green\",\"green\",\"green\",\"green\",\"green\",\"green\",\"green\",\"green\",\"green\",\"green\",\"green\",\"green\",\"green\",\"green\",\"green\",\"green\",\"green\",\"green\",\"green\",\"green\",\"green\",\"green\",\"green\",\"green\",\"green\",\"green\",\"green\",\"green\",\"green\",\"green\",\"green\",\"green\",\"green\",\"green\",\"green\",\"green\",\"green\",\"green\",\"green\",\"green\",\"green\",\"green\",\"green\",\"green\",\"green\",\"green\",\"green\",\"green\",\"green\",\"green\",\"green\",\"green\",\"green\",\"green\",\"green\",\"green\",\"green\",\"green\",\"green\",\"green\",\"green\",\"green\",\"green\",\"green\",\"green\",\"green\",\"green\",\"green\",\"green\",\"green\",\"green\",\"green\",\"green\",\"green\",\"green\",\"green\",\"green\",\"green\",\"green\",\"green\",\"green\",\"green\",\"green\",\"green\",\"green\",\"green\",\"green\",\"green\",\"green\",\"green\",\"green\",\"green\",\"green\",\"green\",\"green\",\"green\",\"green\",\"green\",\"green\",\"green\",\"green\",\"green\",\"green\",\"green\",\"green\",\"green\",\"green\",\"green\",\"green\",\"green\",\"green\",\"green\",\"green\",\"green\",\"green\",\"green\",\"green\",\"green\",\"green\",\"green\",\"green\",\"green\",\"green\",\"green\",\"green\",\"green\",\"green\",\"green\",\"green\"],\"token\":[\"<user>\",\".\",\":\",\"rt\",\",\",\"<repeat>\",\"<hashtag>\",\"<number>\",\"<url>\",\"!\",\"i\",\"a\",\"\\\"\",\"the\",\"?\",\"you\",\"to\",\"(\",\"<allcaps>\",\"<elong>\",\")\",\"me\",\"de\",\"<smile>\",\"\\uff01\",\"que\",\"and\",\"\\u3002\",\"-\",\"my\",\"no\",\"\\u3001\",\"is\",\"it\",\"\\u2026\",\"in\",\"n\",\"for\",\"/\",\"of\",\"la\",\"'s\",\"*\",\"do\",\"n't\",\"that\",\"on\",\"y\",\"'\",\"e\",\"o\",\"u\",\"en\",\"this\",\"el\",\"so\",\"be\",\"'m\",\"with\",\"just\",\">\",\"your\",\"^\",\"like\",\"have\",\"te\",\"at\",\"\\uff1f\",\"love\",\"se\",\"are\",\"<\",\"m\",\"r\",\"if\",\"all\",\"b\",\"\\u30fb\",\"not\",\"but\",\"we\",\"es\",\"ya\",\"&\",\"follow\",\"up\",\"what\",\"get\",\"lol\",\"un\",\"\\u2665\",\"lo\",\"when\",\"was\",\"\\u201c\",\"\\u201d\",\"one\",\"por\",\"si\",\"out\",\"_\",\"mi\",\"can\",\"<sadface>\",\"\\u0645\\u0646\",\"\\u2661\",\"\\u00b4\",\"he\",\"con\",\"they\",\"now\",\"go\",\"\\u060c\",\"para\",\"los\",\"know\",\"haha\",\"good\",\"tu\",\"back\",\"~\",\"about\",\"new\",\";\",\"as\",\"day\",\"how\",\"who\",\"will\",\"want\",\"people\",\"yo\",\"eu\",\"from\",\"di\",\"time\",\"<heart>\",\"s\",\"aku\",\"da\",\"'re\",\"<lolface>\",\"una\",\"got\",\"las\",\"more\",\"x\",\"she\",\"today\",\"\\uff08\",\">>\",\"k\",\"by\",\"or\",\"\\u0641\\u064a\",\"\\uff65\",\"too\",\"le\",\"\\u00e9\",\"|\",\"[\",\"\\uff09\",\"]\",\"see\",\"why\",\"yg\",\"ca\",\"como\",\"her\",\"\\u2014\",\"q\",\"need\",\"an\",\"na\",\"\\u7b11\",\"there\",\"\\u03c9\",\"happy\",\"im\",\"mas\",\"je\",\"life\",\"really\",\"make\",\"yang\",\"shit\",\"think\",\"t\",\"\\u2764\",\"n\\u00e3o\",\"never\",\"some\",\"\\uff5e\",\"oh\",\"\\u2605\",\"did\",\"would\",\"del\",\"`\",\"d\",\"please\",\"via\",\"much\",\"fuck\",\"al\",\"dia\",\"$\",\"\\u0648\",\"right\",\"best\",\"c\",\"going\",\"\\u0627\\u0644\\u0644\\u0647\",\"pero\",\"only\",\"has\",\"\\u266a\",\"'ll\",\"twitter\",\"=\",\"hahaha\",\"its\",\"nn\",\"\\uff40\",\"\\u00bf\",\"am\",\"say\",\"<neutralface>\",\"them\",\"here\",\"\\u0644\\u0627\",\"off\",\"still\",\"dan\",\"+\",\"night\",\"w\",\"ada\",\"someone\",\"even\",\"then\",\"\\u2606\",\"ni\",\"come\",\"com\",\"always\",\"man\",\"'ve\",\"been\",\"his\",\"itu\",\"\\u0639\\u0644\\u0649\",\"-_-\",\"\\u263a\",\"over\",\"um\",\"\\u0645\\u0627\",\"hate\",\"girl\",\"ai\",\"had\",\"pra\",\"todo\",\"mais\",\"feel\",\"let\",\"ini\",\"because\",\"\\uff9f\",\"thanks\",\"ah\",\"way\",\"ever\",\"look\",\"tweet\",\"followers\",\"should\",\"our\",\"xd\",\"aja\",\"esta\",\"school\",\"him\",\"ser\",\"take\",\"than\",\"video\",\"em\",\"last\",\"wanna\",\"does\",\"us\",\"miss\",\"l\",\"ga\",\"better\",\"well\",\"could\",\"\\u25bd\",\"%\",\"apa\",\"cuando\",\"team\",\"\\u2714\",\"@\",\"ok\",\"\\u061f\",\"\\u2022\",\"vida\",\"quiero\",\"les\",\"being\",\"real\",\"down\",\"kamu\",\"everyone\",\"gonna\",\"live\",\"tonight\",\"yes\",\"work\",\"ass\",\"retweet\",\"nada\",\"sama\",\"first\",\"<<\",\"photo\",\"tomorrow\",\"where\",\"god\",\"son\",\"ke\",\"ta\",\"f\",\"home\",\"lagi\",\"thank\",\"birthday\",\"\\u2588\",\"ha\",\"great\",\"lmao\",\"omg\",\"morning\",\"m\\u00e1s\",\"mau\",\"baby\",\"dont\",\"\\uff61\",\"their\",\"p\",\"things\",\"game\",\"pas\",\"bad\",\"year\",\"yeah\",\"su\",\"bitch\",\"\\u0432\",\"stop\",\"hoy\",\"something\",\"meu\",\"tak\",\"gak\",\"world\",\"amor\",\"h\",\"\\\\\",\"ver\",\"\\uff1b\",\"porque\",\"give\",\"these\",\"\\u0627\\u0644\\u0644\\u0647\\u0645\",\"were\",\"hay\",\"sleep\",\"gue\",\"every\",\"friends\",\"uma\",\"tell\",\"amo\",\"vou\",\"bien\",\"\\u00a1\",\"again\",\"\\uff3e\",\"\\uff0f\",\"done\",\"after\",\"todos\",\"girls\",\"guys\",\"getting\",\"big\",\"wait\",\"justin\",\"eh\",\"\\u2192\",\"kan\",\"kita\",\"jajaja\",\"wish\",\"said\",\"fucking\",\"show\",\"thing\",\"next\",\"voc\\u00ea\",\"nos\",\"little\",\"tengo\",\"keep\",\"person\",\"''\",\"\\u2200\",\"hope\",\"\\u0643\\u0644\",\"hey\",\"bisa\",\"free\",\"made\",\"foto\",\"va\",\"everything\",\"iya\",\"nigga\",\"eso\",\"et\",\"watch\",\"music\",\"week\",\"talk\",\"ne\",\"solo\",\"gente\",\"udah\",\"\\uff1a\",\"--\",\"\\uff3c\",\"mejor\",\"facebook\",\"ma\",\"v\",\"phone\",\"most\",\"same\",\"okay\",\"ik\",\"before\",\"minha\",\"days\",\"g\",\"ti\",\"damn\",\"nice\",\"voy\",\"vai\",\"call\",\"long\",\"tapi\",\"http\",\"sin\",\"nunca\",\"doing\",\"other\",\"find\",\"il\",\"sa\",\"sorry\",\"nya\",\"orang\",\"\\u00b0\",\"hard\",\"mean\",\"die\",\"\\u0627\\u0644\\u0644\\u064a\",\"tem\",\"soy\",\"este\",\"kalo\",\"s\\u00f3\",\"th\",\"win\",\"nothing\",\"into\",\"face\",\"cute\",\"'d\",\"gracias\",\"lah\",\"\\u0438\",\"any\",\"play\",\"\\u2190\",\"ko\",\"text\",\"\\u2323\",\"estoy\",\"tau\",\"ur\",\"buat\",\"#\",\"cause\",\"\\u044f\",\"put\",\"kau\",\"siempre\",\"juga\",\"casa\",\"\\u0623\\u0646\",\"help\",\"start\",\"feliz\",\"old\",\"ir\",\"very\",\"care\",\"bir\",\"makes\",\"song\",\"check\",\"watching\",\"ahora\",\"jadi\",\"os\",\"may\",\"friend\",\"beautiful\",\"heart\",\"ka\",\"vc\",\"mundo\",\"\\u043d\\u0430\",\"sure\",\"tan\",\"pretty\",\"aqui\",\"\\u043d\\u0435\",\"house\",\"\\u0631\\u062a\\u0648\\u064a\\u062a\",\"\\u064a\\u0627\",\"ja\",\"true\",\"muy\",\"away\",\"already\",\"actually\",\"believe\",\"try\",\"many\",\"ma\\u00f1ana\",\"mis\",\"lu\",\"those\",\"hot\",\"qu\\u00e9\",\"mal\",\"\\u0639\\u0646\",\"though\",\"ask\",\"amazing\",\"bed\",\"}\",\"two\",\"mom\",\"d\\u00eda\",\"ve\",\"dari\",\"gameinsight\",\"stay\",\"fun\",\"around\",\"van\",\"cont\",\"ready\",\"money\",\"bu\",\"funny\",\"cool\",\"hair\",\"\\u00e0\",\"tho\",\"{\",\"wo\",\"hi\",\"name\",\"tiene\",\"hahahaha\",\"pa\",\"algo\",\"gotta\",\"\\u0648\\u0644\\u0627\",\"boy\",\"another\",\"c'est\",\"hari\",\"jajajaja\",\"having\",\"cara\",\"jaja\",\"dm\",\"looking\",\"top\",\"android\",\"dah\",\"wow\",\"\\u2591\",\"eres\",\"ben\",\"must\",\"news\",\"met\",\"est\\u00e1\",\"nih\",\"family\",\"black\",\"thought\",\"nak\",\"super\",\"end\",\"hace\",\"remember\",\"ama\",\"party\",\"cant\",\"vamos\",\"anything\",\"anyone\",\"\\u0641\\u0648\\u0644\\u0648\",\"perfect\",\"guy\",\"vez\",\"christmas\",\"dos\",\"bueno\",\"nao\",\"years\",\"vote\",\"dormir\",\"bro\",\"else\",\"quien\",\"untuk\",\"jangan\",\"myself\",\"head\",\"mind\",\"gua\",\"talking\",\"while\",\"dat\",\"food\",\"\\u0434\",\"coming\",\"wkwk\",\"trying\",\"saya\",\"mucho\",\"without\",\"wrong\",\"\\u2019s\",\"baru\",\"__\",\"hehe\",\"hacer\",\"lot\",\"followed\",\"crazy\",\"hell\",\"feeling\",\"des\",\"kok\",\"j\",\"stats\",\"j'\",\"\\u0627\\u0646\",\"tweets\",\"non\",\"cosas\",\"era\",\"high\",\"niggas\",\"change\",\"movie\",\"xx\",\"mad\",\"sih\",\"sometimes\",\"deh\",\"allah\",\"through\",\"pour\",\"ela\",\"soon\",\"gone\",\"playing\",\"smile\",\"bukan\",\"tv\",\"fans\",\"hasta\",\"akan\",\"y'\",\"looks\",\"isso\",\"\\u270c\",\"tired\",\"boys\",\"might\",\"dong\",\"lg\",\"use\",\"maybe\",\"until\",\"menos\",\"own\",\"dengan\",\"eat\",\"ou\",\"weekend\",\"\\u02d8\",\"class\",\"ele\",\"harry\",\"iphone\",\"friday\",\"single\",\"ff\",\"awesome\",\"bout\",\"muito\",\"hoje\",\"\\u00ac\",\"dios\",\"such\",\"estar\",\"j\\u00e1\",\"quando\",\"esa\",\"making\",\"\\u2501\",\"times\",\"lmfao\",\"gw\",\"moment\",\"yet\",\"aw\",\"smh\",\"banget\",\"masih\",\"qui\",\"quem\",\"\\u2013\",\"leave\",\"du\",\"une\",\"guess\",\"hit\",\"\\u0441\",\"pm\",\"since\",\"pues\",\"est\",\"job\",\"\\uff89\",\"mana\",\"bom\",\"siapa\",\"suka\",\"bieber\",\"mention\",\"lebih\",\"favorite\",\"bitches\",\"forever\",\"\\u0644\\u064a\",\"final\",\"read\",\"alguien\",\"open\",\"yourself\",\"ese\",\"che\",\"sex\",\"yaa\",\"car\",\"direction\",\"tidak\",\"seu\",\"gets\",\"left\",\"re\",\"jam\",\"enough\",\"\\u0625\\u0644\\u0627\",\"once\",\"\\u2019\",\"part\",\"cada\",\"\\u5b9a\\u671f\",\"\\u0644\\u0643\",\"een\",\"seen\",\"kak\",\"as\\u00ed\",\"nem\",\"\\u0639\\u0645\\u0644\",\"white\",\"told\",\"says\",\"esto\",\"sad\",\"mo\",\"fue\",\"yah\",\"summer\",\"\\u0647\",\"\\u2b55\",\"\\u00bb\",\"thats\",\"\\u0645\\u0639\",\"posted\",\"wants\",\"agora\",\"together\",\"fan\",\"men\",\"hear\",\"full\",\"\\u2600\",\"sigo\",\"pq\",\"dulu\",\"plus\",\"foi\",\"tudo\",\"\\u0647\\u0648\",\"ill\",\"\\u3042\",\"thinking\",\"wtf\",\"pagi\",\"mama\",\"kalau\",\"hati\",\"sexy\",\"sayang\",\"baik\",\"semua\",\"hola\",\"went\",\"vos\",\"tanto\",\"finally\",\"fb\",\"sea\",\"stupid\",\"tus\",\"seriously\",\"hora\",\"min\",\"pic\",\"estas\",\"turn\",\"hours\",\"excited\",\"nah\",\"buy\",\"saying\",\"mah\",\"break\",\"needs\",\"ce\",\"room\",\"choice\",\"far\",\"dead\",\"quero\",\"saw\",\"kids\",\"lil\",\"whole\",\"puede\",\"fall\",\"sus\",\"lost\",\"asi\",\"word\",\"\\u2639\",\"also\",\"\\u0631\\u064a\\u062a\\u0648\\u064a\\u062a\",\"probably\",\"everybody\",\"tarde\",\"run\",\"sei\",\"follback\",\"forget\",\"sweet\",\"welcome\",\"selamat\",\"\\uff3f\",\"sur\",\"place\",\"gusta\",\"sabe\",\"androidgames\",\"tp\",\"tiempo\",\"\\u0628\\u0633\",\"sou\",\"tuh\",\"vs\",\"eyes\",\"\\u0627\\u0646\\u0627\",\"picture\",\"das\",\"meet\",\"anak\",\"persona\",\"essa\",\"bored\",\"following\",\"nadie\",\"nobody\",\"dice\",\"alone\",\"sick\",\"red\",\"city\",\"cinta\",\"\\u6708\",\"linda\",\"dream\",\"story\",\"km\",\"het\",\"waiting\",\"^_^\",\"mine\",\"\\u0447\\u0442\\u043e\",\"reason\",\"kk\",\"\\u0644\\u0648\",\"online\",\"fast\",\"udh\",\"wanted\",\"op\",\"others\",\"gay\",\"n\\u2019t\",\"used\",\"sem\",\"understand\",\"moi\",\"sm\",\"aint\",\"donde\",\"bem\",\"which\",\"ng\",\"followback\",\"punya\",\"late\",\"anda\",\"tidur\",\"puedo\",\"early\",\"nd\",\"personas\",\"banyak\",\"\\u2705\",\"\\u278a\",\"trust\",\"noche\",\"tl\",\"\\uff1e\",\"\\u00ab\",\"af\",\"move\",\"pro\",\"bring\",\"ku\",\"called\",\"relationship\",\"idk\",\"hurt\",\"st\",\"pernah\",\"pessoas\",\"hello\",\"uno\",\"unfollowers\",\"cry\"],\"x\":{\"__ndarray__\":\"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\",\"dtype\":\"float32\",\"shape\":[1000]},\"y\":{\"__ndarray__\":\"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\",\"dtype\":\"float32\",\"shape\":[1000]}},\"selected\":{\"id\":\"1435\",\"type\":\"Selection\"},\"selection_policy\":{\"id\":\"1434\",\"type\":\"UnionRenderers\"}},\"id\":\"1358\",\"type\":\"ColumnDataSource\"},{\"attributes\":{\"dimension\":1,\"plot\":{\"id\":\"1359\",\"subtype\":\"Figure\",\"type\":\"Plot\"},\"ticker\":{\"id\":\"1374\",\"type\":\"BasicTicker\"}},\"id\":\"1377\",\"type\":\"Grid\"},{\"attributes\":{},\"id\":\"1430\",\"type\":\"BasicTickFormatter\"},{\"attributes\":{},\"id\":\"1432\",\"type\":\"BasicTickFormatter\"},{\"attributes\":{},\"id\":\"1434\",\"type\":\"UnionRenderers\"},{\"attributes\":{\"fill_alpha\":{\"value\":0.25},\"fill_color\":{\"field\":\"color\"},\"line_alpha\":{\"value\":0.25},\"line_color\":{\"field\":\"color\"},\"size\":{\"units\":\"screen\",\"value\":10},\"x\":{\"field\":\"x\"},\"y\":{\"field\":\"y\"}},\"id\":\"1394\",\"type\":\"Scatter\"},{\"attributes\":{},\"id\":\"1381\",\"type\":\"SaveTool\"},{\"attributes\":{\"fill_alpha\":{\"value\":0.1},\"fill_color\":{\"value\":\"#1f77b4\"},\"line_alpha\":{\"value\":0.1},\"line_color\":{\"value\":\"#1f77b4\"},\"size\":{\"units\":\"screen\",\"value\":10},\"x\":{\"field\":\"x\"},\"y\":{\"field\":\"y\"}},\"id\":\"1395\",\"type\":\"Scatter\"},{\"attributes\":{},\"id\":\"1364\",\"type\":\"LinearScale\"},{\"attributes\":{},\"id\":\"1379\",\"type\":\"WheelZoomTool\"},{\"attributes\":{},\"id\":\"1378\",\"type\":\"PanTool\"}],\"root_ids\":[\"1359\"]},\"title\":\"Bokeh Application\",\"version\":\"1.0.1\"}};\n",
       "  var render_items = [{\"docid\":\"a0d025f0-d7f9-4360-b5bd-f8958d0b0176\",\"roots\":{\"1359\":\"ae1b761c-8b89-45d2-a8e5-46507a92efb6\"}}];\n",
       "  root.Bokeh.embed.embed_items_notebook(docs_json, render_items);\n",
       "\n",
       "  }\n",
       "  if (root.Bokeh !== undefined) {\n",
       "    embed_document(root);\n",
       "  } else {\n",
       "    var attempts = 0;\n",
       "    var timer = setInterval(function(root) {\n",
       "      if (root.Bokeh !== undefined) {\n",
       "        embed_document(root);\n",
       "        clearInterval(timer);\n",
       "      }\n",
       "      attempts++;\n",
       "      if (attempts > 100) {\n",
       "        console.log(\"Bokeh: ERROR: Unable to run BokehJS code because BokehJS library is missing\");\n",
       "        clearInterval(timer);\n",
       "      }\n",
       "    }, 10, root)\n",
       "  }\n",
       "})(window);"
      ],
      "application/vnd.bokehjs_exec.v0+json": ""
     },
     "metadata": {
      "application/vnd.bokehjs_exec.v0+json": {
       "id": "1359"
      }
     },
     "output_type": "display_data"
    },
    {
     "data": {
      "text/html": [
       "<div style=\"display: table;\"><div style=\"display: table-row;\"><div style=\"display: table-cell;\"><b title=\"bokeh.plotting.figure.Figure\">Figure</b>(</div><div style=\"display: table-cell;\">id&nbsp;=&nbsp;'1359', <span id=\"1491\" style=\"cursor: pointer;\">&hellip;)</span></div></div><div class=\"1490\" style=\"display: none;\"><div style=\"display: table-cell;\"></div><div style=\"display: table-cell;\">above&nbsp;=&nbsp;[],</div></div><div class=\"1490\" style=\"display: none;\"><div style=\"display: table-cell;\"></div><div style=\"display: table-cell;\">aspect_scale&nbsp;=&nbsp;1,</div></div><div class=\"1490\" style=\"display: none;\"><div style=\"display: table-cell;\"></div><div style=\"display: table-cell;\">background_fill_alpha&nbsp;=&nbsp;{'value': 1.0},</div></div><div class=\"1490\" style=\"display: none;\"><div style=\"display: table-cell;\"></div><div style=\"display: table-cell;\">background_fill_color&nbsp;=&nbsp;{'value': '#ffffff'},</div></div><div class=\"1490\" style=\"display: none;\"><div style=\"display: table-cell;\"></div><div style=\"display: table-cell;\">below&nbsp;=&nbsp;[LinearAxis(id='1368', ...)],</div></div><div class=\"1490\" style=\"display: none;\"><div style=\"display: table-cell;\"></div><div style=\"display: table-cell;\">border_fill_alpha&nbsp;=&nbsp;{'value': 1.0},</div></div><div class=\"1490\" style=\"display: none;\"><div style=\"display: table-cell;\"></div><div style=\"display: table-cell;\">border_fill_color&nbsp;=&nbsp;{'value': '#ffffff'},</div></div><div class=\"1490\" style=\"display: none;\"><div style=\"display: table-cell;\"></div><div style=\"display: table-cell;\">css_classes&nbsp;=&nbsp;[],</div></div><div class=\"1490\" style=\"display: none;\"><div style=\"display: table-cell;\"></div><div style=\"display: table-cell;\">disabled&nbsp;=&nbsp;False,</div></div><div class=\"1490\" style=\"display: none;\"><div style=\"display: table-cell;\"></div><div style=\"display: table-cell;\">extra_x_ranges&nbsp;=&nbsp;{},</div></div><div class=\"1490\" style=\"display: none;\"><div style=\"display: table-cell;\"></div><div style=\"display: table-cell;\">extra_y_ranges&nbsp;=&nbsp;{},</div></div><div class=\"1490\" style=\"display: none;\"><div style=\"display: table-cell;\"></div><div style=\"display: table-cell;\">h_symmetry&nbsp;=&nbsp;True,</div></div><div class=\"1490\" style=\"display: none;\"><div style=\"display: table-cell;\"></div><div style=\"display: table-cell;\">height&nbsp;=&nbsp;None,</div></div><div class=\"1490\" style=\"display: none;\"><div style=\"display: table-cell;\"></div><div style=\"display: table-cell;\">hidpi&nbsp;=&nbsp;True,</div></div><div class=\"1490\" style=\"display: none;\"><div style=\"display: table-cell;\"></div><div style=\"display: table-cell;\">js_event_callbacks&nbsp;=&nbsp;{},</div></div><div class=\"1490\" style=\"display: none;\"><div style=\"display: table-cell;\"></div><div style=\"display: table-cell;\">js_property_callbacks&nbsp;=&nbsp;{},</div></div><div class=\"1490\" style=\"display: none;\"><div style=\"display: table-cell;\"></div><div style=\"display: table-cell;\">left&nbsp;=&nbsp;[LinearAxis(id='1373', ...)],</div></div><div class=\"1490\" style=\"display: none;\"><div style=\"display: table-cell;\"></div><div style=\"display: table-cell;\">lod_factor&nbsp;=&nbsp;10,</div></div><div class=\"1490\" style=\"display: none;\"><div style=\"display: table-cell;\"></div><div style=\"display: table-cell;\">lod_interval&nbsp;=&nbsp;300,</div></div><div class=\"1490\" style=\"display: none;\"><div style=\"display: table-cell;\"></div><div style=\"display: table-cell;\">lod_threshold&nbsp;=&nbsp;2000,</div></div><div class=\"1490\" style=\"display: none;\"><div style=\"display: table-cell;\"></div><div style=\"display: table-cell;\">lod_timeout&nbsp;=&nbsp;500,</div></div><div class=\"1490\" style=\"display: none;\"><div style=\"display: table-cell;\"></div><div style=\"display: table-cell;\">match_aspect&nbsp;=&nbsp;False,</div></div><div class=\"1490\" style=\"display: none;\"><div style=\"display: table-cell;\"></div><div style=\"display: table-cell;\">min_border&nbsp;=&nbsp;5,</div></div><div class=\"1490\" style=\"display: none;\"><div style=\"display: table-cell;\"></div><div style=\"display: table-cell;\">min_border_bottom&nbsp;=&nbsp;None,</div></div><div class=\"1490\" style=\"display: none;\"><div style=\"display: table-cell;\"></div><div style=\"display: table-cell;\">min_border_left&nbsp;=&nbsp;None,</div></div><div class=\"1490\" style=\"display: none;\"><div style=\"display: table-cell;\"></div><div style=\"display: table-cell;\">min_border_right&nbsp;=&nbsp;None,</div></div><div class=\"1490\" style=\"display: none;\"><div style=\"display: table-cell;\"></div><div style=\"display: table-cell;\">min_border_top&nbsp;=&nbsp;None,</div></div><div class=\"1490\" style=\"display: none;\"><div style=\"display: table-cell;\"></div><div style=\"display: table-cell;\">name&nbsp;=&nbsp;None,</div></div><div class=\"1490\" style=\"display: none;\"><div style=\"display: table-cell;\"></div><div style=\"display: table-cell;\">outline_line_alpha&nbsp;=&nbsp;{'value': 1.0},</div></div><div class=\"1490\" style=\"display: none;\"><div style=\"display: table-cell;\"></div><div style=\"display: table-cell;\">outline_line_cap&nbsp;=&nbsp;'butt',</div></div><div class=\"1490\" style=\"display: none;\"><div style=\"display: table-cell;\"></div><div style=\"display: table-cell;\">outline_line_color&nbsp;=&nbsp;{'value': '#e5e5e5'},</div></div><div class=\"1490\" style=\"display: none;\"><div style=\"display: table-cell;\"></div><div style=\"display: table-cell;\">outline_line_dash&nbsp;=&nbsp;[],</div></div><div class=\"1490\" style=\"display: none;\"><div style=\"display: table-cell;\"></div><div style=\"display: table-cell;\">outline_line_dash_offset&nbsp;=&nbsp;0,</div></div><div class=\"1490\" style=\"display: none;\"><div style=\"display: table-cell;\"></div><div style=\"display: table-cell;\">outline_line_join&nbsp;=&nbsp;'bevel',</div></div><div class=\"1490\" style=\"display: none;\"><div style=\"display: table-cell;\"></div><div style=\"display: table-cell;\">outline_line_width&nbsp;=&nbsp;{'value': 1},</div></div><div class=\"1490\" style=\"display: none;\"><div style=\"display: table-cell;\"></div><div style=\"display: table-cell;\">output_backend&nbsp;=&nbsp;'canvas',</div></div><div class=\"1490\" style=\"display: none;\"><div style=\"display: table-cell;\"></div><div style=\"display: table-cell;\">plot_height&nbsp;=&nbsp;400,</div></div><div class=\"1490\" style=\"display: none;\"><div style=\"display: table-cell;\"></div><div style=\"display: table-cell;\">plot_width&nbsp;=&nbsp;600,</div></div><div class=\"1490\" style=\"display: none;\"><div style=\"display: table-cell;\"></div><div style=\"display: table-cell;\">renderers&nbsp;=&nbsp;[LinearAxis(id='1368', ...), Grid(id='1372', ...), LinearAxis(id='1373', ...), Grid(id='1377', ...), BoxAnnotation(id='1386', ...), GlyphRenderer(id='1396', ...)],</div></div><div class=\"1490\" style=\"display: none;\"><div style=\"display: table-cell;\"></div><div style=\"display: table-cell;\">right&nbsp;=&nbsp;[],</div></div><div class=\"1490\" style=\"display: none;\"><div style=\"display: table-cell;\"></div><div style=\"display: table-cell;\">sizing_mode&nbsp;=&nbsp;'fixed',</div></div><div class=\"1490\" style=\"display: none;\"><div style=\"display: table-cell;\"></div><div style=\"display: table-cell;\">subscribed_events&nbsp;=&nbsp;[],</div></div><div class=\"1490\" style=\"display: none;\"><div style=\"display: table-cell;\"></div><div style=\"display: table-cell;\">tags&nbsp;=&nbsp;[],</div></div><div class=\"1490\" style=\"display: none;\"><div style=\"display: table-cell;\"></div><div style=\"display: table-cell;\">title&nbsp;=&nbsp;Title(id='1428', ...),</div></div><div class=\"1490\" style=\"display: none;\"><div style=\"display: table-cell;\"></div><div style=\"display: table-cell;\">title_location&nbsp;=&nbsp;'above',</div></div><div class=\"1490\" style=\"display: none;\"><div style=\"display: table-cell;\"></div><div style=\"display: table-cell;\">toolbar&nbsp;=&nbsp;Toolbar(id='1384', ...),</div></div><div class=\"1490\" style=\"display: none;\"><div style=\"display: table-cell;\"></div><div style=\"display: table-cell;\">toolbar_location&nbsp;=&nbsp;'right',</div></div><div class=\"1490\" style=\"display: none;\"><div style=\"display: table-cell;\"></div><div style=\"display: table-cell;\">toolbar_sticky&nbsp;=&nbsp;True,</div></div><div class=\"1490\" style=\"display: none;\"><div style=\"display: table-cell;\"></div><div style=\"display: table-cell;\">v_symmetry&nbsp;=&nbsp;False,</div></div><div class=\"1490\" style=\"display: none;\"><div style=\"display: table-cell;\"></div><div style=\"display: table-cell;\">width&nbsp;=&nbsp;None,</div></div><div class=\"1490\" style=\"display: none;\"><div style=\"display: table-cell;\"></div><div style=\"display: table-cell;\">x_range&nbsp;=&nbsp;DataRange1d(id='1360', ...),</div></div><div class=\"1490\" style=\"display: none;\"><div style=\"display: table-cell;\"></div><div style=\"display: table-cell;\">x_scale&nbsp;=&nbsp;LinearScale(id='1364', ...),</div></div><div class=\"1490\" style=\"display: none;\"><div style=\"display: table-cell;\"></div><div style=\"display: table-cell;\">y_range&nbsp;=&nbsp;DataRange1d(id='1362', ...),</div></div><div class=\"1490\" style=\"display: none;\"><div style=\"display: table-cell;\"></div><div style=\"display: table-cell;\">y_scale&nbsp;=&nbsp;LinearScale(id='1366', ...))</div></div></div>\n",
       "<script>\n",
       "(function() {\n",
       "  var expanded = false;\n",
       "  var ellipsis = document.getElementById(\"1491\");\n",
       "  ellipsis.addEventListener(\"click\", function() {\n",
       "    var rows = document.getElementsByClassName(\"1490\");\n",
       "    for (var i = 0; i < rows.length; i++) {\n",
       "      var el = rows[i];\n",
       "      el.style.display = expanded ? \"none\" : \"table-row\";\n",
       "    }\n",
       "    ellipsis.innerHTML = expanded ? \"&hellip;)\" : \"&lsaquo;&lsaquo;&lsaquo;\";\n",
       "    expanded = !expanded;\n",
       "  });\n",
       "})();\n",
       "</script>\n"
      ],
      "text/plain": [
       "Figure(id='1359', ...)"
      ]
     },
     "execution_count": 48,
     "metadata": {},
     "output_type": "execute_result"
    }
   ],
   "source": [
    "draw_vectors(word_tsne[:, 0], word_tsne[:, 1], color='green', token=words)"
   ]
  },
  {
   "cell_type": "markdown",
   "metadata": {},
   "source": [
    "### Visualizing phrases\n",
    "\n",
    "Word embeddings can also be used to represent short phrases. The simplest way is to take __an average__ of vectors for all tokens in the phrase with some weights.\n",
    "\n",
    "This trick is useful to identify what data are you working with: find if there are any outliers, clusters or other artefacts.\n",
    "\n",
    "Let's try this new hammer on our data!\n"
   ]
  },
  {
   "cell_type": "code",
   "execution_count": 111,
   "metadata": {},
   "outputs": [],
   "source": [
    "def get_phrase_embedding(phrase):\n",
    "    \"\"\"\n",
    "    Convert phrase to a vector by aggregating it's word embeddings. See description above.\n",
    "    \"\"\"\n",
    "    # 1. lowercase phrase\n",
    "    # 2. tokenize phrase\n",
    "    # 3. average word vectors for all words in tokenized phrase\n",
    "    # skip words that are not in model's vocabulary\n",
    "    # if all words are missing from vocabulary, return zeros\n",
    "    \n",
    "    vector = np.zeros([model.vector_size], dtype='float32')\n",
    "    \n",
    "    # YOUR CODE\n",
    "    tokens = tokenizer.tokenize(phrase.lower())\n",
    "    vocab = list(model.vocab.keys())\n",
    "    i = 0\n",
    "    for word in tokens:\n",
    "        if word in vocab:\n",
    "            vector += model.get_vector(word)\n",
    "            i += 1\n",
    "    vector = vector / i\n",
    "    \n",
    "    return vector\n",
    "        \n",
    "    "
   ]
  },
  {
   "cell_type": "code",
   "execution_count": 114,
   "metadata": {},
   "outputs": [],
   "source": [
    "vector = get_phrase_embedding(\"I'm very sure. This never happened to me before...\")\n",
    "assert np.allclose(vector[::10],\n",
    "                   np.array([ 0.31807372, -0.02558171,  0.0933293 , -0.1002182 , -1.0278689 ,\n",
    "                             -0.16621883,  0.05083408,  0.17989802,  1.3701859 ,  0.08655966],\n",
    "                              dtype=np.float32))"
   ]
  },
  {
   "cell_type": "code",
   "execution_count": 118,
   "metadata": {},
   "outputs": [],
   "source": [
    "# let's only consider ~5k phrases for a first run.\n",
    "chosen_phrases = data[::len(data) // 1000]\n",
    "\n",
    "# compute vectors for chosen phrases\n",
    "phrase_vectors = np.array([get_phrase_embedding(sent) for sent in chosen_phrases])"
   ]
  },
  {
   "cell_type": "code",
   "execution_count": 119,
   "metadata": {},
   "outputs": [],
   "source": [
    "assert isinstance(phrase_vectors, np.ndarray) and np.isfinite(phrase_vectors).all()\n",
    "assert phrase_vectors.shape == (len(chosen_phrases), model.vector_size)"
   ]
  },
  {
   "cell_type": "code",
   "execution_count": 120,
   "metadata": {},
   "outputs": [
    {
     "name": "stdout",
     "output_type": "stream",
     "text": [
      "[t-SNE] Computing 91 nearest neighbors...\n",
      "[t-SNE] Indexed 1001 samples in 0.003s...\n",
      "[t-SNE] Computed neighbors for 1001 samples in 0.169s...\n",
      "[t-SNE] Computed conditional probabilities for sample 1000 / 1001\n",
      "[t-SNE] Computed conditional probabilities for sample 1001 / 1001\n",
      "[t-SNE] Mean sigma: 0.477874\n",
      "[t-SNE] Computed conditional probabilities in 0.042s\n",
      "[t-SNE] Iteration 50: error = 78.5249023, gradient norm = 0.3402425 (50 iterations in 8.813s)\n",
      "[t-SNE] Iteration 100: error = 79.5934830, gradient norm = 0.3098271 (50 iterations in 9.434s)\n",
      "[t-SNE] Iteration 150: error = 80.7250214, gradient norm = 0.3027463 (50 iterations in 9.427s)\n",
      "[t-SNE] Iteration 200: error = 82.3671951, gradient norm = 0.2768484 (50 iterations in 9.474s)\n",
      "[t-SNE] Iteration 250: error = 82.0750732, gradient norm = 0.3120292 (50 iterations in 9.397s)\n",
      "[t-SNE] KL divergence after 250 iterations with early exaggeration: 82.075073\n",
      "[t-SNE] Iteration 300: error = 2.2271430, gradient norm = 0.0029245 (50 iterations in 6.182s)\n",
      "[t-SNE] Iteration 350: error = 2.1023214, gradient norm = 0.0011734 (50 iterations in 5.145s)\n",
      "[t-SNE] Iteration 400: error = 2.0465195, gradient norm = 0.0007702 (50 iterations in 5.085s)\n",
      "[t-SNE] Iteration 450: error = 2.0095174, gradient norm = 0.0004827 (50 iterations in 5.036s)\n",
      "[t-SNE] Iteration 500: error = 1.9814596, gradient norm = 0.0005766 (50 iterations in 5.029s)\n",
      "[t-SNE] Iteration 550: error = 1.9620979, gradient norm = 0.0003657 (50 iterations in 4.950s)\n",
      "[t-SNE] Iteration 600: error = 1.9504753, gradient norm = 0.0004254 (50 iterations in 4.933s)\n",
      "[t-SNE] Iteration 650: error = 1.9430134, gradient norm = 0.0002005 (50 iterations in 4.948s)\n",
      "[t-SNE] Iteration 700: error = 1.9381315, gradient norm = 0.0001777 (50 iterations in 4.944s)\n",
      "[t-SNE] Iteration 750: error = 1.9355096, gradient norm = 0.0001045 (50 iterations in 5.059s)\n",
      "[t-SNE] Iteration 800: error = 1.9331727, gradient norm = 0.0001367 (50 iterations in 4.990s)\n",
      "[t-SNE] Iteration 850: error = 1.9290605, gradient norm = 0.0002484 (50 iterations in 5.052s)\n",
      "[t-SNE] Iteration 900: error = 1.9268074, gradient norm = 0.0000961 (50 iterations in 5.211s)\n",
      "[t-SNE] Iteration 950: error = 1.9243459, gradient norm = 0.0001307 (50 iterations in 5.037s)\n",
      "[t-SNE] Iteration 1000: error = 1.9232668, gradient norm = 0.0000904 (50 iterations in 4.796s)\n",
      "[t-SNE] KL divergence after 1000 iterations: 1.923267\n"
     ]
    }
   ],
   "source": [
    "# map vectors into 2d space with pca, tsne or your other method of choice\n",
    "# don't forget to normalize\n",
    "\n",
    "phrase_vectors_2d = TSNE(verbose=1000).fit_transform(phrase_vectors)\n",
    "\n",
    "phrase_vectors_2d = (phrase_vectors_2d - phrase_vectors_2d.mean(axis=0)) / phrase_vectors_2d.std(axis=0)"
   ]
  },
  {
   "cell_type": "code",
   "execution_count": 121,
   "metadata": {},
   "outputs": [
    {
     "data": {
      "text/html": [
       "\n",
       "\n",
       "\n",
       "\n",
       "\n",
       "\n",
       "  <div class=\"bk-root\" id=\"e775a9ee-3de2-4c21-b10c-8ae0ee458b5d\"></div>\n"
      ]
     },
     "metadata": {},
     "output_type": "display_data"
    },
    {
     "data": {
      "application/javascript": [
       "(function(root) {\n",
       "  function embed_document(root) {\n",
       "    \n",
       "  var docs_json = {\"14f7ce26-6731-4c68-8c12-69415e10af48\":{\"roots\":{\"references\":[{\"attributes\":{\"below\":[{\"id\":\"1504\",\"type\":\"LinearAxis\"}],\"left\":[{\"id\":\"1509\",\"type\":\"LinearAxis\"}],\"plot_height\":400,\"renderers\":[{\"id\":\"1504\",\"type\":\"LinearAxis\"},{\"id\":\"1508\",\"type\":\"Grid\"},{\"id\":\"1509\",\"type\":\"LinearAxis\"},{\"id\":\"1513\",\"type\":\"Grid\"},{\"id\":\"1522\",\"type\":\"BoxAnnotation\"},{\"id\":\"1532\",\"type\":\"GlyphRenderer\"}],\"title\":{\"id\":\"1573\",\"type\":\"Title\"},\"toolbar\":{\"id\":\"1520\",\"type\":\"Toolbar\"},\"x_range\":{\"id\":\"1496\",\"type\":\"DataRange1d\"},\"x_scale\":{\"id\":\"1500\",\"type\":\"LinearScale\"},\"y_range\":{\"id\":\"1498\",\"type\":\"DataRange1d\"},\"y_scale\":{\"id\":\"1502\",\"type\":\"LinearScale\"}},\"id\":\"1495\",\"subtype\":\"Figure\",\"type\":\"Plot\"},{\"attributes\":{},\"id\":\"1517\",\"type\":\"SaveTool\"},{\"attributes\":{},\"id\":\"1510\",\"type\":\"BasicTicker\"},{\"attributes\":{\"formatter\":{\"id\":\"1575\",\"type\":\"BasicTickFormatter\"},\"plot\":{\"id\":\"1495\",\"subtype\":\"Figure\",\"type\":\"Plot\"},\"ticker\":{\"id\":\"1505\",\"type\":\"BasicTicker\"}},\"id\":\"1504\",\"type\":\"LinearAxis\"},{\"attributes\":{\"fill_alpha\":{\"value\":0.25},\"fill_color\":{\"field\":\"color\"},\"line_alpha\":{\"value\":0.25},\"line_color\":{\"field\":\"color\"},\"size\":{\"units\":\"screen\",\"value\":20},\"x\":{\"field\":\"x\"},\"y\":{\"field\":\"y\"}},\"id\":\"1530\",\"type\":\"Scatter\"},{\"attributes\":{\"fill_alpha\":{\"value\":0.1},\"fill_color\":{\"value\":\"#1f77b4\"},\"line_alpha\":{\"value\":0.1},\"line_color\":{\"value\":\"#1f77b4\"},\"size\":{\"units\":\"screen\",\"value\":20},\"x\":{\"field\":\"x\"},\"y\":{\"field\":\"y\"}},\"id\":\"1531\",\"type\":\"Scatter\"},{\"attributes\":{},\"id\":\"1518\",\"type\":\"ResetTool\"},{\"attributes\":{\"callback\":null},\"id\":\"1498\",\"type\":\"DataRange1d\"},{\"attributes\":{},\"id\":\"1519\",\"type\":\"HelpTool\"},{\"attributes\":{},\"id\":\"1500\",\"type\":\"LinearScale\"},{\"attributes\":{\"plot\":null,\"text\":\"\"},\"id\":\"1573\",\"type\":\"Title\"},{\"attributes\":{\"bottom_units\":\"screen\",\"fill_alpha\":{\"value\":0.5},\"fill_color\":{\"value\":\"lightgrey\"},\"left_units\":\"screen\",\"level\":\"overlay\",\"line_alpha\":{\"value\":1.0},\"line_color\":{\"value\":\"black\"},\"line_dash\":[4,4],\"line_width\":{\"value\":2},\"plot\":null,\"render_mode\":\"css\",\"right_units\":\"screen\",\"top_units\":\"screen\"},\"id\":\"1522\",\"type\":\"BoxAnnotation\"},{\"attributes\":{\"plot\":{\"id\":\"1495\",\"subtype\":\"Figure\",\"type\":\"Plot\"},\"ticker\":{\"id\":\"1505\",\"type\":\"BasicTicker\"}},\"id\":\"1508\",\"type\":\"Grid\"},{\"attributes\":{\"formatter\":{\"id\":\"1577\",\"type\":\"BasicTickFormatter\"},\"plot\":{\"id\":\"1495\",\"subtype\":\"Figure\",\"type\":\"Plot\"},\"ticker\":{\"id\":\"1510\",\"type\":\"BasicTicker\"}},\"id\":\"1509\",\"type\":\"LinearAxis\"},{\"attributes\":{\"data_source\":{\"id\":\"1494\",\"type\":\"ColumnDataSource\"},\"glyph\":{\"id\":\"1530\",\"type\":\"Scatter\"},\"hover_glyph\":null,\"muted_glyph\":null,\"nonselection_glyph\":{\"id\":\"1531\",\"type\":\"Scatter\"},\"selection_glyph\":null,\"view\":{\"id\":\"1533\",\"type\":\"CDSView\"}},\"id\":\"1532\",\"type\":\"GlyphRenderer\"},{\"attributes\":{\"callback\":null,\"data\":{\"color\":[\"blue\",\"blue\",\"blue\",\"blue\",\"blue\",\"blue\",\"blue\",\"blue\",\"blue\",\"blue\",\"blue\",\"blue\",\"blue\",\"blue\",\"blue\",\"blue\",\"blue\",\"blue\",\"blue\",\"blue\",\"blue\",\"blue\",\"blue\",\"blue\",\"blue\",\"blue\",\"blue\",\"blue\",\"blue\",\"blue\",\"blue\",\"blue\",\"blue\",\"blue\",\"blue\",\"blue\",\"blue\",\"blue\",\"blue\",\"blue\",\"blue\",\"blue\",\"blue\",\"blue\",\"blue\",\"blue\",\"blue\",\"blue\",\"blue\",\"blue\",\"blue\",\"blue\",\"blue\",\"blue\",\"blue\",\"blue\",\"blue\",\"blue\",\"blue\",\"blue\",\"blue\",\"blue\",\"blue\",\"blue\",\"blue\",\"blue\",\"blue\",\"blue\",\"blue\",\"blue\",\"blue\",\"blue\",\"blue\",\"blue\",\"blue\",\"blue\",\"blue\",\"blue\",\"blue\",\"blue\",\"blue\",\"blue\",\"blue\",\"blue\",\"blue\",\"blue\",\"blue\",\"blue\",\"blue\",\"blue\",\"blue\",\"blue\",\"blue\",\"blue\",\"blue\",\"blue\",\"blue\",\"blue\",\"blue\",\"blue\",\"blue\",\"blue\",\"blue\",\"blue\",\"blue\",\"blue\",\"blue\",\"blue\",\"blue\",\"blue\",\"blue\",\"blue\",\"blue\",\"blue\",\"blue\",\"blue\",\"blue\",\"blue\",\"blue\",\"blue\",\"blue\",\"blue\",\"blue\",\"blue\",\"blue\",\"blue\",\"blue\",\"blue\",\"blue\",\"blue\",\"blue\",\"blue\",\"blue\",\"blue\",\"blue\",\"blue\",\"blue\",\"blue\",\"blue\",\"blue\",\"blue\",\"blue\",\"blue\",\"blue\",\"blue\",\"blue\",\"blue\",\"blue\",\"blue\",\"blue\",\"blue\",\"blue\",\"blue\",\"blue\",\"blue\",\"blue\",\"blue\",\"blue\",\"blue\",\"blue\",\"blue\",\"blue\",\"blue\",\"blue\",\"blue\",\"blue\",\"blue\",\"blue\",\"blue\",\"blue\",\"blue\",\"blue\",\"blue\",\"blue\",\"blue\",\"blue\",\"blue\",\"blue\",\"blue\",\"blue\",\"blue\",\"blue\",\"blue\",\"blue\",\"blue\",\"blue\",\"blue\",\"blue\",\"blue\",\"blue\",\"blue\",\"blue\",\"blue\",\"blue\",\"blue\",\"blue\",\"blue\",\"blue\",\"blue\",\"blue\",\"blue\",\"blue\",\"blue\",\"blue\",\"blue\",\"blue\",\"blue\",\"blue\",\"blue\",\"blue\",\"blue\",\"blue\",\"blue\",\"blue\",\"blue\",\"blue\",\"blue\",\"blue\",\"blue\",\"blue\",\"blue\",\"blue\",\"blue\",\"blue\",\"blue\",\"blue\",\"blue\",\"blue\",\"blue\",\"blue\",\"blue\",\"blue\",\"blue\",\"blue\",\"blue\",\"blue\",\"blue\",\"blue\",\"blue\",\"blue\",\"blue\",\"blue\",\"blue\",\"blue\",\"blue\",\"blue\",\"blue\",\"blue\",\"blue\",\"blue\",\"blue\",\"blue\",\"blue\",\"blue\",\"blue\",\"blue\",\"blue\",\"blue\",\"blue\",\"blue\",\"blue\",\"blue\",\"blue\",\"blue\",\"blue\",\"blue\",\"blue\",\"blue\",\"blue\",\"blue\",\"blue\",\"blue\",\"blue\",\"blue\",\"blue\",\"blue\",\"blue\",\"blue\",\"blue\",\"blue\",\"blue\",\"blue\",\"blue\",\"blue\",\"blue\",\"blue\",\"blue\",\"blue\",\"blue\",\"blue\",\"blue\",\"blue\",\"blue\",\"blue\",\"blue\",\"blue\",\"blue\",\"blue\",\"blue\",\"blue\",\"blue\",\"blue\",\"blue\",\"blue\",\"blue\",\"blue\",\"blue\",\"blue\",\"blue\",\"blue\",\"blue\",\"blue\",\"blue\",\"blue\",\"blue\",\"blue\",\"blue\",\"blue\",\"blue\",\"blue\",\"blue\",\"blue\",\"blue\",\"blue\",\"blue\",\"blue\",\"blue\",\"blue\",\"blue\",\"blue\",\"blue\",\"blue\",\"blue\",\"blue\",\"blue\",\"blue\",\"blue\",\"blue\",\"blue\",\"blue\",\"blue\",\"blue\",\"blue\",\"blue\",\"blue\",\"blue\",\"blue\",\"blue\",\"blue\",\"blue\",\"blue\",\"blue\",\"blue\",\"blue\",\"blue\",\"blue\",\"blue\",\"blue\",\"blue\",\"blue\",\"blue\",\"blue\",\"blue\",\"blue\",\"blue\",\"blue\",\"blue\",\"blue\",\"blue\",\"blue\",\"blue\",\"blue\",\"blue\",\"blue\",\"blue\",\"blue\",\"blue\",\"blue\",\"blue\",\"blue\",\"blue\",\"blue\",\"blue\",\"blue\",\"blue\",\"blue\",\"blue\",\"blue\",\"blue\",\"blue\",\"blue\",\"blue\",\"blue\",\"blue\",\"blue\",\"blue\",\"blue\",\"blue\",\"blue\",\"blue\",\"blue\",\"blue\",\"blue\",\"blue\",\"blue\",\"blue\",\"blue\",\"blue\",\"blue\",\"blue\",\"blue\",\"blue\",\"blue\",\"blue\",\"blue\",\"blue\",\"blue\",\"blue\",\"blue\",\"blue\",\"blue\",\"blue\",\"blue\",\"blue\",\"blue\",\"blue\",\"blue\",\"blue\",\"blue\",\"blue\",\"blue\",\"blue\",\"blue\",\"blue\",\"blue\",\"blue\",\"blue\",\"blue\",\"blue\",\"blue\",\"blue\",\"blue\",\"blue\",\"blue\",\"blue\",\"blue\",\"blue\",\"blue\",\"blue\",\"blue\",\"blue\",\"blue\",\"blue\",\"blue\",\"blue\",\"blue\",\"blue\",\"blue\",\"blue\",\"blue\",\"blue\",\"blue\",\"blue\",\"blue\",\"blue\",\"blue\",\"blue\",\"blue\",\"blue\",\"blue\",\"blue\",\"blue\",\"blue\",\"blue\",\"blue\",\"blue\",\"blue\",\"blue\",\"blue\",\"blue\",\"blue\",\"blue\",\"blue\",\"blue\",\"blue\",\"blue\",\"blue\",\"blue\",\"blue\",\"blue\",\"blue\",\"blue\",\"blue\",\"blue\",\"blue\",\"blue\",\"blue\",\"blue\",\"blue\",\"blue\",\"blue\",\"blue\",\"blue\",\"blue\",\"blue\",\"blue\",\"blue\",\"blue\",\"blue\",\"blue\",\"blue\",\"blue\",\"blue\",\"blue\",\"blue\",\"blue\",\"blue\",\"blue\",\"blue\",\"blue\",\"blue\",\"blue\",\"blue\",\"blue\",\"blue\",\"blue\",\"blue\",\"blue\",\"blue\",\"blue\",\"blue\",\"blue\",\"blue\",\"blue\",\"blue\",\"blue\",\"blue\",\"blue\",\"blue\",\"blue\",\"blue\",\"blue\",\"blue\",\"blue\",\"blue\",\"blue\",\"blue\",\"blue\",\"blue\",\"blue\",\"blue\",\"blue\",\"blue\",\"blue\",\"blue\",\"blue\",\"blue\",\"blue\",\"blue\",\"blue\",\"blue\",\"blue\",\"blue\",\"blue\",\"blue\",\"blue\",\"blue\",\"blue\",\"blue\",\"blue\",\"blue\",\"blue\",\"blue\",\"blue\",\"blue\",\"blue\",\"blue\",\"blue\",\"blue\",\"blue\",\"blue\",\"blue\",\"blue\",\"blue\",\"blue\",\"blue\",\"blue\",\"blue\",\"blue\",\"blue\",\"blue\",\"blue\",\"blue\",\"blue\",\"blue\",\"blue\",\"blue\",\"blue\",\"blue\",\"blue\",\"blue\",\"blue\",\"blue\",\"blue\",\"blue\",\"blue\",\"blue\",\"blue\",\"blue\",\"blue\",\"blue\",\"blue\",\"blue\",\"blue\",\"blue\",\"blue\",\"blue\",\"blue\",\"blue\",\"blue\",\"blue\",\"blue\",\"blue\",\"blue\",\"blue\",\"blue\",\"blue\",\"blue\",\"blue\",\"blue\",\"blue\",\"blue\",\"blue\",\"blue\",\"blue\",\"blue\",\"blue\",\"blue\",\"blue\",\"blue\",\"blue\",\"blue\",\"blue\",\"blue\",\"blue\",\"blue\",\"blue\",\"blue\",\"blue\",\"blue\",\"blue\",\"blue\",\"blue\",\"blue\",\"blue\",\"blue\",\"blue\",\"blue\",\"blue\",\"blue\",\"blue\",\"blue\",\"blue\",\"blue\",\"blue\",\"blue\",\"blue\",\"blue\",\"blue\",\"blue\",\"blue\",\"blue\",\"blue\",\"blue\",\"blue\",\"blue\",\"blue\",\"blue\",\"blue\",\"blue\",\"blue\",\"blue\",\"blue\",\"blue\",\"blue\",\"blue\",\"blue\",\"blue\",\"blue\",\"blue\",\"blue\",\"blue\",\"blue\",\"blue\",\"blue\",\"blue\",\"blue\",\"blue\",\"blue\",\"blue\",\"blue\",\"blue\",\"blue\",\"blue\",\"blue\",\"blue\",\"blue\",\"blue\",\"blue\",\"blue\",\"blue\",\"blue\",\"blue\",\"blue\",\"blue\",\"blue\",\"blue\",\"blue\",\"blue\",\"blue\",\"blue\",\"blue\",\"blue\",\"blue\",\"blue\",\"blue\",\"blue\",\"blue\",\"blue\",\"blue\",\"blue\",\"blue\",\"blue\",\"blue\",\"blue\",\"blue\",\"blue\",\"blue\",\"blue\",\"blue\",\"blue\",\"blue\",\"blue\",\"blue\",\"blue\",\"blue\",\"blue\",\"blue\",\"blue\",\"blue\",\"blue\",\"blue\",\"blue\",\"blue\",\"blue\",\"blue\",\"blue\",\"blue\",\"blue\",\"blue\",\"blue\",\"blue\",\"blue\",\"blue\",\"blue\",\"blue\",\"blue\",\"blue\",\"blue\",\"blue\",\"blue\",\"blue\",\"blue\",\"blue\",\"blue\",\"blue\",\"blue\",\"blue\",\"blue\",\"blue\",\"blue\",\"blue\",\"blue\",\"blue\",\"blue\",\"blue\",\"blue\",\"blue\",\"blue\",\"blue\",\"blue\",\"blue\",\"blue\",\"blue\",\"blue\",\"blue\",\"blue\",\"blue\",\"blue\",\"blue\",\"blue\",\"blue\",\"blue\",\"blue\",\"blue\",\"blue\",\"blue\",\"blue\",\"blue\",\"blue\",\"blue\",\"blue\",\"blue\",\"blue\",\"blue\",\"blue\",\"blue\",\"blue\",\"blue\",\"blue\",\"blue\",\"blue\",\"blue\",\"blue\",\"blue\",\"blue\",\"blue\",\"blue\",\"blue\",\"blue\",\"blue\",\"blue\",\"blue\",\"blue\",\"blue\",\"blue\",\"blue\",\"blue\",\"blue\",\"blue\",\"blue\",\"blue\",\"blue\",\"blue\",\"blue\",\"blue\",\"blue\",\"blue\",\"blue\",\"blue\",\"blue\",\"blue\",\"blue\",\"blue\",\"blue\",\"blue\",\"blue\",\"blue\",\"blue\",\"blue\",\"blue\",\"blue\",\"blue\",\"blue\",\"blue\",\"blue\",\"blue\",\"blue\",\"blue\",\"blue\",\"blue\",\"blue\",\"blue\",\"blue\",\"blue\",\"blue\",\"blue\",\"blue\",\"blue\",\"blue\",\"blue\",\"blue\",\"blue\",\"blue\",\"blue\",\"blue\",\"blue\",\"blue\",\"blue\",\"blue\",\"blue\",\"blue\",\"blue\",\"blue\",\"blue\",\"blue\",\"blue\",\"blue\",\"blue\",\"blue\",\"blue\",\"blue\",\"blue\",\"blue\",\"blue\",\"blue\",\"blue\",\"blue\",\"blue\",\"blue\",\"blue\",\"blue\",\"blue\",\"blue\",\"blue\",\"blue\",\"blue\",\"blue\",\"blue\",\"blue\",\"blue\",\"blue\",\"blue\",\"blue\",\"blue\",\"blue\",\"blue\",\"blue\",\"blue\",\"blue\",\"blue\",\"blue\",\"blue\",\"blue\",\"blue\",\"blue\",\"blue\",\"blue\",\"blue\",\"blue\",\"blue\",\"blue\",\"blue\",\"blue\",\"blue\",\"blue\",\"blue\",\"blue\",\"blue\",\"blue\",\"blue\",\"blue\",\"blue\",\"blue\",\"blue\",\"blue\",\"blue\",\"blue\",\"blue\",\"blue\",\"blue\",\"blue\",\"blue\",\"blue\",\"blue\",\"blue\",\"blue\",\"blue\",\"blue\",\"blue\",\"blue\",\"blue\",\"blue\",\"blue\",\"blue\",\"blue\",\"blue\",\"blue\",\"blue\",\"blue\",\"blue\",\"blue\",\"blue\",\"blue\",\"blue\",\"blue\",\"blue\",\"blue\",\"blue\",\"blue\",\"blue\",\"blue\",\"blue\",\"blue\",\"blue\",\"blue\",\"blue\",\"blue\",\"blue\",\"blue\",\"blue\"],\"phrase\":[\"Can I get back with my ex even though she is pregn\",\"What is the best way to become an arms dealer in t\",\"Why doesn't Japan contribute to peace and prosperi\",\"Which is the best Panasonic air conditioner servic\",\"What did ancient Egyptians believe about the after\",\"How does one prepare for the RBI grade B officers \",\"Which institutions in Kolkata give coaching for en\",\"Will omar bravo be in fifa 17?\\n\",\"What are the pros and cons of arranged marriages?\\n\",\"What will happen if all the vegetable dies?\\n\",\"Why do people hate hypocrites?\\n\",\"What do you consider poor, middle class, wealthy a\",\"How do I concentrate on my studies?\\n\",\"What is new age psychobabble?\\n\",\"How can you tell if your man is cheating even if h\",\"Can you see yourself during lucid dreaming?\\n\",\"Which browser is most safe in terms of privacy and\",\"Can Google Assistant run on OnePlus 3T?\\n\",\"Apart from the VW Vento / Polo and Skoda Rapid, ar\",\"What is Panera Bread?\\n\",\"Do athletes live longer and healthier? If not, why\",\"Could a pitbull take on a wolf in a fight?\\n\",\"What has Obama done for Latinos/Hispanics?\\n\",\"How much is |x|^2?\\n\",\"How does operator.com work?\\n\",\"Why do people not make movies/talk about the Romas\",\"What were the major contributions of the political\",\"Company Secretaries (CS): How do I prepare for CS \",\"What are the job prospects of chemical engineers a\",\"I have never gone to a bank. How do I put money in\",\"What is the best strategy to prepare for the GATE \",\"Who is this porn star?\\n\",\"Why are specs & sunglasses so expensive?\\n\",\"I installed the movie torrent with Ultra XVid Code\",\"Can we ride scootry with learning lisence age of 1\",\"Two cards were drawn, without replacement, from a \",\"How much money is needed per month to live in indi\",\"Why do companies issue bonus shares?\\n\",\"Why are Iranians and Afghans considered white Amer\",\"Could mumps cause deafness?\\n\",\"What is meaning of sadaka?\\n\",\"What should I know before starting a YouTube caree\",\"Is the ITI College Principal is gazetted officer?\\n\",\"How do you feel now that Donald Trump is now the P\",\"What is the difference between imperial units and \",\"What is the easiest way to do effective self hypno\",\"Why has China increased its involvement in the Syr\",\"From which year CBSE class 10th exam be reintroduc\",\"Is 1080p a Blu-ray?\\n\",\"Does using mirrors to concentrate thermal energy d\",\"How do I avoid attractions by phones?\\n\",\"What are some of the effects of education can you \",\"What are the characteristics of a Pisces Sun/Libra\",\"What is the most cost-effective option to ship pac\",\"Are red and blue complementary colors?\\n\",\"Is it possible to make a material that is a superc\",\"What is the best Shonen Jump manga?\\n\",\"Are Oracle and Cisco good companies for a new grad\",\"If lighting a match is considered a chemical chang\",\"Why is Hillary so afraid of Putin?\\n\",\"Which is the best book to study electronics basics\",\"What are the basics I should know before learning \",\"Can I use Cph4 on a day to day basis?\\n\",\"Is it safe when I buy things from China?\\n\",\"Why did some ethnic minorities support Brexit?\\n\",\"How much money has tinder made?\\n\",\"What is the limit?\\n\",\"Will browsing Facebook while connected to Tor reve\",\"If I get 68.4 percent in ftre 2016 class 10 then w\",\"No product market fit: change product or market fi\",\"What makes you sad about India?\\n\",\"How do I know if someone has read my messages on w\",\"Why there is a sound when we crack our knuckles?\\n\",\"Why do I only make friends with guys?\\n\",\"What is 'open-mindedness'?\\n\",\"What is the cause of carpal tunnel syndrome?\\n\",\"What is the difference between a \\\"slow cooker\\\" and\",\"What is Hillary Clinton's stance on nuclear energy\",\"Do IIT colleges require a caste validity for an ST\",\"How do I listen a song from you?\\n\",\"Why do so many Iranians immigrate to Canada?\\n\",\"What will happen to India-U.S. relations after Tru\",\"A program that stored five words in the memory the\",\"What are ways of joining to ISRO as engineer other\",\"Can Magneto defeat Hulk?\\n\",\"What time of year is it best to visit Singapore?\\n\",\"How do I study for ib?\\n\",\"What should I do if someone doesn't reply to my em\",\"How much does Manveer Singh Phogat gets for Dangal\",\"What is it like to be cannibal?\\n\",\"How can the Android app development companies help\",\"Who would you say is the most fun person in Israel\",\"How can one improve her figure and butt size witho\",\"As a company that provides travel agencies and tou\",\"What is the most beautiful thing you saw today?\\n\",\"Is gay flirting good?\\n\",\"Can I use Stripe in Europe?\\n\",\"Will Britain leaving the European Union lead to th\",\"Why are so many East Asian immigrants so averse to\",\"Why do we need computer networking?\\n\",\"What is retina detachment?\\n\",\"Why don't more bars have mechanical bulls?\\n\",\"How do I get better understanding of C++?\\n\",\"Which is the most profitable Porsche US dealer?\\n\",\"What are the best over the ear headphones for abou\",\"Is it true that the first kill is the hardest?\\n\",\"Which is best 32 inch led tv to buy below 20,000 I\",\"I am scoring 130/506 in FiitJEE aits part test adv\",\"What kind of websites are missing from the Interne\",\"What is the best way to use free time at IITB?\\n\",\"Is it possible for me to buy my first company usin\",\"What should I do to have sex with as many women as\",\"What is the scope of Executive MBA in India?\\n\",\"Which BMW models do not have a Hofmeister Kink?\\n\",\"What is yellow journalism?\\n\",\"Why do doctors charge uninsured patients 10 times \",\"Which one is the best public sector job or private\",\"Will social media ever help to spur on the US youn\",\"How should I know a video is 360 degree?\\n\",\"Is a practice manual sufficient for the CA Final I\",\"Career Advice: Being an Indian college student, ho\",\"What are the advantages and disadvantages of Li-Fi\",\"On Snapchat, I deleted someone. Can they re-add me\",\"Are there any cereals that taste good with water?\\n\",\"Why does a woman's vagina push a mans penis out?\\n\",\"What is the British word for bullpen?\\n\",\"How hard is it for international students to get a\",\"How did Revan build his foundation of his army in \",\"What is the best way to read a fictional book? Do \",\"How do you replace a ignition lock cylinder?\\n\",\"How can I prevent business failure?\\n\",\"How often do tides occur? What causes it?\\n\",\"How do I learn Calculus on my own?\\n\",\"What is the reason for Priyanka Gandhi not changin\",\"What should I eat when I'm sick with a cold or flu\",\"What is a Business Intelligence Analyst?\\n\",\"Which sports should I start to play to paticipate \",\"How should I prepare for Java fresher interview?\\n\",\"How different are cuisines of Arab countries?\\n\",\"What is the meaning of the phrase, all is fair in \",\"Why does Quora send me a notification that my ques\",\"What are the hardest obstacles to breaking into a \",\"What makes a falling snowflake large (or not)?\\n\",\"What is the compensation for Partners/Principals a\",\"What is the difference between an array and a vect\",\"If you kiss the NC State wolf do you become an NC \",\"Is it boring (from a social perspective) to live i\",\"What would have happened if in 1971 war all 93000 \",\"What are the easiest things to do while being abro\",\"Does getting root canal cause problem in speaking \",\"What is the definition of a truncated sentence and\",\"Would I look good with a nose ring? if yes which n\",\"What are the perks of working in Amazon?\\n\",\"How can we say that climate change does not bring \",\"What it is like to meet \\\"Shahid Kapoor\\\"?\\n\",\"How does it feel when you are dead?\\n\",\"Which is the best juicer, grinder or mixer in Indi\",\"How do I learn to think more logically?\\n\",\"Which movie has the best beginning ever?\\n\",\"Which laws been enacted to prevent family members \",\"What is iPhone 6s plus cost present?\\n\",\"What is Ohm's law and amperage I?\\n\",\"What is the nicest thing a stranger has done for y\",\"Why do some heroic people who do good things choos\",\"How will Hindus react if Babri Masjid is reconstru\",\"R2I - How did you plan R2I from US if you own the \",\"How can I master C programming in 7 days?\\n\",\"What is the right way to clean ear wax?\\n\",\"What are some good games to play during class?\\n\",\"Is it possible to hack WhatsApp messenger?\\n\",\"Why do airplanes carry more weight than helicopter\",\"Shaving: Do electric shavers work better than manu\",\"Has anyone benefited, health-wise, from essential \",\"Can Students at Hogwarts have sex while there? Doe\",\"How can we enhance our efficiency with Yoga?\\n\",\"What are the best app review sites and blogs?\\n\",\"Can two companies be registered on the same addres\",\"Is it true that as per Indian law, one can't be ha\",\"Who would win in a war between Bangladesh and Myan\",\"How do you reply when someone thanks you for forgi\",\"Who would win a fight between wolverine and Batman\",\"What is one thing you wish for yourself in the fut\",\"Can you cry underwater?\\n\",\"What's the difference between SSL, TLS, and HTTPS?\",\"Why are antigravity muscles more affected in Upper\",\"In order to buy a house, does one have to rent fir\",\"What is the probability of choosing a pink ball fr\",\"Which is the best car to get under 8 lakhs?\\n\",\"Why isn't China's role in the Korean and Vietnam w\",\"What is the Laplace transform of t^(1/2) * e^ (-1/\",\"To those who told a big lie to their parents and t\",\"What is runtime polymorphism or dynamic method dis\",\"I had sex 5 days after my period, what are the cha\",\"How would you describe yourself in one tweet?\\n\",\"How do fairy tales influence creativity in humans?\",\"How do I add delay() and sound() in Dev-C++?\\n\",\"What is the pathophysiology of ADHD?\\n\",\"What are the top benefits of life insurance polici\",\"Can I get a TV from Bang & Olufsen for under $2500\",\"How is the life of an ece student at dayananda sag\",\"What is meditation?\\n\",\"Were the Ancient Greeks scientists, or just philos\",\"How does Google authenticator work?\\n\",\"Wouldn't it be better if kids were allowed to focu\",\"Can you apply for a certificate on Coursera/edX af\",\"Why do Quora engineers use large monitors?\\n\",\"How do I start an online clothing business?\\n\",\"How will the government meet the challenges of acc\",\"I saw a charge on my credit card under from a comp\",\"What is the difference between socialization and r\",\"How would the world be different if everyone spoke\",\"Who receives the fares in a cab service?\\n\",\"As a non-resident alien doing a summer internship \",\"Which is the best camera smartphone under 20k?\\n\",\"What does it mean to dream about someone before th\",\"What are the subjects in which I can apply for my \",\"What are the basics of Jainism?\\n\",\"What is the Difference between existential nihilis\",\"How can I see my girlfriend's WhatsApp chat messag\",\"What are some ways to enjoy sex with my newly marr\",\"How can I study the Bible?\\n\",\"How can someone be a friend, girlfriend, wife and \",\"What are the Snapchat usernames of punjabi celebri\",\"What is 1/2 times 1/2?\\n\",\"Where does the word restaurant come from and what \",\"What can I do with a computational linguistics deg\",\"Will trump win as president?\\n\",\"What impact will AI eventually have on how we plan\",\"Why is eating too unhealthy?\\n\",\"What if the Syrian civil war never happened?\\n\",\"How do the teachings, learning, followership and/o\",\"Did you ever been in a group of stupid people?\\n\",\"What are the multiple types of social issues?\\n\",\"Where can I find beginner NodeJS tutorials that us\",\"If I got a 7.4 CGPA in the SA1 10 class, then can \",\"Which the best time table for 10th class exams pre\",\"Elite Escorts in DHA Lahore?\\n\",\"My ex bf says he doesn't have feelings for me righ\",\"What are the questions in the interview for a fres\",\"What do you think are some of benefits to humans f\",\"Which one is the best medical college hostel in in\",\"Have you lived in a tiny house?\\n\",\"What are some things new employees should know goi\",\"Where can I hire high pressure cleaning service in\",\"How many Bollywood Actresses consume alcohol in re\",\"How does PayU earn money?\\n\",\"Is it possible to change your personality as a chi\",\"How do I apply to London School of Economics as an\",\"How do I build a profile to get accepted into a st\",\"How can I get real ghost stories?\\n\",\"Is it possible to hack NASA's New Horizons satelli\",\"What is the best way of getting good at answering \",\"How would you deal with jerks?\\n\",\"How can I do internship in Accenture India?\\n\",\"Why would an Indian girl not want to get married?\\n\",\"My WhatsApp chat backup got deleted from Google, I\",\"Is going to college really worth it or just a wast\",\"How many prophets did God send to the Jews?\\n\",\"What is the relation and difference between Artifi\",\"If you don\\u2019t have a good network, what would be th\",\"What are the best place to visit in Rio de Janeiro\",\"Which is the best college for PG in Cyber Security\",\"Which are the best English serials?\\n\",\"How do you say \\u201cWhat\\u2019s up?\\u201d in Chinese?\\n\",\"Is it bad to take expired fish oil pills because t\",\"Will there ever be a genuine Authoritarian candida\",\"Is World War III on its way right now?\\n\",\"How can you use time formats in Excel?\\n\",\"What is the best antivirus for Windows 8?\\n\",\"Why do people like Metal/Hard rock so much?\\n\",\"What are the worst smelling things in the world?\\n\",\"Could someone explain the following electives at N\",\"What's a funny thing?\\n\",\"What are the main reason of cracks?\\n\",\"How do I hitchhike in Europe?\\n\",\"What is the physical significance of quantum mecha\",\"How do we get dead people off business junk mail l\",\"Who among the four in the picture given in descrip\",\"How do I know if I authentically, genuinely, hones\",\"On average, how long does it take a letter mail fr\",\"When will One Piece have episode 517 dubbed?\\n\",\"What should I do if I fell in love with my best fr\",\"How do criminal lawyers sleep at night even when t\",\"Can I get refund for Tatkal e-ticket because train\",\"How can I buy the new Macbook 12\\\" M7 512GB model i\",\"What are the different e-governance methods used b\",\"How do I run smoother GTA V? I have intel core i3 \",\"What is the use of tanpura?\\n\",\"What are the Snapchat usernames of celebrities?\\n\",\"Which is better- cracking gate and going for IIT/i\",\"Can you lose weight without exercising?\\n\",\"What is the best way to make life more interesting\",\"Is Delhi a must for UPSC coaching?\\n\",\"Which are the best colleges for electronics and in\",\"I have been a .Net developer for over 2 years and \",\"Has a smartphone ever been taken to space? If yes \",\"What questions should I ask my boyfriend, we are b\",\"How do I delete a contact blocked in WhatsApp?\\n\",\"Is it a good time to buy real estate in Cyprus?\\n\",\"South India: Why is South India much more develope\",\"What is the formula for a hydrocarbon?\\n\",\"What if an alien comes and tells us that the physi\",\"What are the pros & cons of democracy?\\n\",\"I'm 16 years old and wanted to lose weight and bod\",\"Can I add more peers to the torrent for max speed \",\"What are the best neighborhoods to Airbnb in Chica\",\"What we will get in mahabalipuram beach sunrise or\",\"How fast can you accelerate to the speed of light?\",\"What is the difference between R-squared and Adjus\",\"How many times can women reach orgasm in a hour an\",\"Why didn't Johor, Batam & Singapore integrate more\",\"Which products are more profitable in online sell?\",\"How do I get rid of muscle?\\n\",\"What is the process of directing and casting child\",\"Is the 7th pay commission needed?\\n\",\"What are the best games that are compatible on a C\",\"What was the significance of the battle of Somme, \",\"How do you see Pakistan PM Nawaz Sharif's speech a\",\"Where can I publish my apps?\\n\",\"What was your darkest moment?\\n\",\"Why does the UK have an unwritten Constitution?\\n\",\"What are the necessary steps in documenting a mobi\",\"Why was life created? Why was life so painful?\\n\",\"How can I use explainer video to review products o\",\"What is difference between residue and error?\\n\",\"If 6.5 to 8.5 will be the safe level of pH value i\",\"I am 23 and don't know what I want. My life is ver\",\"What are your three favorite websites for reading?\",\"Why do people choose to be a GAY?\\n\",\"What is the process of death?\\n\",\"Why does light red deserve the special name \\\"pink\\\"\",\"Who are millennials?\\n\",\"What it's like doing CA articleship from Big 4s?\\n\",\"What is the most important right or freedom guaran\",\"Why do some porn stars have unprotected sex?\\n\",\"What are my reasons to live?\\n\",\"How small would a planet need to be to plainly see\",\"Some religion speaks of burning in hell after deat\",\"What does it feel like to be an IITian?\\n\",\"How does cognitive behavioural therapy work?\\n\",\"Why should you visit India?\\n\",\"I lost my Google account information. How can I re\",\"What if I port a number from Airtel to Vodafone in\",\"What are the reasons why time travel is impossible\",\"Will my iPhone alarm still go off if \\\"Do Not Distu\",\"Did South Korea cheat during the 2014 Asian Games?\",\"Take the minimum lethal volume of a gaz, put it in\",\"\\\"How to improve Project Management skills?\\\"\\n\",\"When you were small, did you ever think that your \",\"Where did the pointy \\\"S\\\" symbol come from?\\n\",\"How does it feels like to have a rich boyfriend?\\n\",\"What have you used your intelligence for?\\n\",\"What is a freewheeling diode?\\n\",\"How do we derive pi?\\n\",\"What is the importance of communication skills in \",\"How can I put icons on YouTube video titles? Also \",\"What does the phrase \\\"resonate with me\\\" mean?\\n\",\"How many types do we have of Manual testing?\\n\",\"What are IBAN numbers?\\n\",\"What is regret?\\n\",\"As a student specializing in English language, lit\",\"What is the corporate culture like at Corning? How\",\"How can I convert jazz standards to jazz guitar so\",\"How good was the surgical strike by Indian Army on\",\"What recipes are most conducive to romance?\\n\",\"What are the unknown facts about Tamil people whic\",\"Where do I find the most beautiful woman in the wo\",\"What does the grey phone icon mean on the messenge\",\"How do I share 360\\u00b0 photos on WhatsApp?\\n\",\"What is the difference between working stress meth\",\"What are the opportunities for an MBA in finance?\\n\",\"Can you patent clothing or fashion designs?\\n\",\"My in laws are apologists for Nazi war criminals a\",\"Which is the safest city in India for women?\\n\",\"What horse breed were commonly used during the \\\"Wi\",\"Is it weird to sometimes feel almost overwhelmed b\",\"Can anyone please list all the SAP SD topics a per\",\"In the filling of ibps application I put martial s\",\"In a restaurant, what are the different types of t\",\"Why does amir khan never go to any filmy awards fu\",\"What is a good inpatient drug and alcohol rehab ce\",\"Why does UV light cause contamination on optics, b\",\"How do I invest in mutual funds in India?\\n\",\"How comfortable are you with failure?\\n\",\"What skills are required to become a quant?\\n\",\"Why do startups announce fundraising?\\n\",\"What is your review of Amazon Video?\\n\",\"Why there is no team from Tamil nadu in pro kabbad\",\"How do I auto forward texts from my Verizon phone \",\"How do the Chinese people view Americans?\\n\",\"What is virgin or virginity?\\n\",\"What are the different ways of submitting a Reques\",\"Can a high school teacher legally force students t\",\"Why does water droplets form on the outer surface \",\"Which mammals have dark circles around eyes beside\",\"How do each components of a printer work?\\n\",\"What are some foods beginning with the letter W?\\n\",\"What are symptoms of a bad transmission control mo\",\"How do astronauts in ISS vote for Presidential ele\",\"What is the difference between Aim and Goal?\\n\",\"What is AT & C?\\n\",\"Who was Jackson Pollock? Was he mentally ill?\\n\",\"How do I make good vine edits?\\n\",\"How can I cut my penis?\\n\",\"How can I change my Quora profile photo?\\n\",\"My husband was here seeking asylum before we got m\",\"Is it good to use Laravel to develop a web app wit\",\"I have a mild sore throat an headache. What is tha\",\"When will a working nintendo 3DS emulator release \",\"What do we know about the health effects of vaping\",\"INSEAD: Worth the investment?\\n\",\"How is long rides in royal Enfield classic 350?\\n\",\"What famous boxers have participated on Dancing wi\",\"Will season 10 of Big Bang Theory be the final sea\",\"Can I crack KVPY (SX) with only three months left \",\"What are some little-known facts from World War II\",\"What is the most unique way of exam cheating you'v\",\"When was the last time a slam dunk broke a basketb\",\"What should I do for my excessive hair loss?\\n\",\"How do I find people's psychological weakness?\\n\",\"What is the difference between Awareness and Consc\",\"I hate everything that people around me like. Is i\",\"I think I am pretty good at thinking of a business\",\"How do you determine the thickness of a footing ba\",\"Why does vapours are formed when we pressurize alc\",\"Is it easy to adjust in German Universities withou\",\"What is UNIX and UNIX-like?\\n\",\"What is the best way to promote www.dorkyard.com?\\n\",\"What's up in Addis Abeba tonight?\\n\",\"Is there any point to going to college if you have\",\"How much would it cost to construct 800 sqft area \",\"What is an ideal wife? What is an ideal husband? W\",\"What information does port scanning provide?\\n\",\"What are the application of quasicrystals?\\n\",\"What is the determinant of the inverse of a matrix\",\"How is Brad Pitt in \\\"real Life\\\"?\\n\",\"I have a 3 yr bachelor's degree in Computer Scienc\",\"Demonetisation is good for county like India or no\",\"My parents think I am rude for being so introverte\",\"How many people have jumped off the Golden Gate br\",\"What are Osho's views on Islam?\\n\",\"Why does the government regulate health care?\\n\",\"Which phone has the best sound recording quality?\\n\",\"What is the best part of your life, and why is it \",\"Which is better hair wax or hair clay?\\n\",\"How do I charge my motorcycle battery?\\n\",\"What are the updates we get after miui 8.0.6.0?\\n\",\"Why does Robinhood need to bypass the App Store?\\n\",\"Which is a better route, Alipiri or Sri Vaari?\\n\",\"How much extra would it cost if Apple manufactured\",\"When will the next recession be?\\n\",\"What are some arguments in support of electing Don\",\"What does Russia want with Ukraine?\\n\",\"What is the difference between a recorder (block f\",\"What is the meaning of random number?\\n\",\"Which one is good for health: tea or coffee?\\n\",\"Is Texas good state for non-resident to register a\",\"What is kirchoff's law?\\n\",\"Is it wrong for a family member to keep making com\",\"My parents are forcing to marry a girl of their ch\",\"Which is better, Windows+Linux or OSX?\\n\",\"Why aren\\u2019t Christians that pray to/have a relation\",\"How much TDS will I have to pay for an RD account \",\"What is the meaning of thematic connection?\\n\",\"How should you prepare to take your maneuverabilit\",\"What are the best materials/videos/resources to ge\",\"Can a \\\"dirty\\\" finish be added back to jeans?\\n\",\"Why does my dog keep whining at night?\\n\",\"Is it bad to turn off my PC using the power button\",\"What is image processing?\\n\",\"I went to school with mostly black kids, they bull\",\"Does Donald Trump actually think he can become Pre\",\"Which are the 5 best movies you have ever seen?\\n\",\"How do I get traffic to excursions travel website?\",\"Where can I download the Android game Leo's Fortun\",\"How do I get more followers and upvotes on Quora?\\n\",\"What is a factory reset on a phone?\\n\",\"Which phone should I buy if my budget is 12000?\\n\",\"I have GPU implementation as a graduation project.\",\"What are the libertarian views on the Antarctic Tr\",\"What would the world be like if it were ruled by a\",\"How do you choose your first bank?\\n\",\"Who runs berkuliah.com?\\n\",\"What does Godel's incompleteness theorem mean for \",\"How do I delete a Gmail account?\\n\",\"If my ultimate goal is to become a vegan, should I\",\"Did the US win the war in Afghanistan?\\n\",\"How can I become a good engineering student?\\n\",\"What are some ways to increase intuition?\\n\",\"What causes depression in humans?\\n\",\"How can I control my anxiety and worries?\\n\",\"How can we jump in between the working regions of \",\"How do I stop loving someone who loves me?\\n\",\"Can personality and insecurity create a liar?\\n\",\"What is the best country and university to do a Ph\",\"How do I edit a video offline?\\n\",\"What is the rent of kiosk in an upscale mall?\\n\",\"What should I start reading if I want to attempt t\",\"Which is the best anti-virus for computers?\\n\",\"Does food unite people?\\n\",\"What do you like most about Internet?\\n\",\"What is a good model of federalism in the Philippi\",\"How do you know if a girl secretly loves you?\\n\",\"Who is the most annoying fictional character you h\",\"How do you feel when your question is unanswered o\",\"Did early humans know how babies were made?\\n\",\"If I cancel xfinity, how can I sign up as a new cu\",\"Are there any TV series similar to House MD?\\n\",\"What you need to know before buying furniture for \",\"Have you ever had a dream happen in reality?\\n\",\"Is dark matter just a scientific theory or has its\",\"How can you increase your tolerance for pain?\\n\",\"How many logical fallacies are there?\\n\",\"How do buttercream icing frosting separate?\\n\",\"Which is the cheapest cinema hall of India?\\n\",\"What do you think would be a good gre score?\\n\",\"What is the best way to update Xiaomi redmi 3 to M\",\"What does toe jam cheese taste like?\\n\",\"How do I know if a YouTube video is copyrighted?\\n\",\"How should I start a business reselling shoes?\\n\",\"How do I hire a mobile app development company?\\n\",\"What is paras pathar?\\n\",\"How is the word \\\"colony\\\" used in a sentence?\\n\",\"What is Rebecca Fugate known for?\\n\",\"What should I consider before starting my consulta\",\"Do you feel that many attractive women get away wi\",\"Why do I feel so much guilt for kissing a girl?\\n\",\"What are some good tutorials for learning Blender?\",\"Is it deceitful to befriend someone in the hopes t\",\"Who do you think BJP will put as a candidate for t\",\"Which protein supplement is best for gym to gain w\",\"What is your review of KVPY SX/SB 2016?\\n\",\"How do I get people's attention for my work?\\n\",\"What are some of your own personal stories and exp\",\"If salt concentration of the sea(3%) were differen\",\"What is the chemical name for mothballs? How was i\",\"Vitamin D receptors in the Testes?\\n\",\"How do I lose weight without working out?\\n\",\"Where can I watch anime?\\n\",\"What is BusyBox used for?\\n\",\"What would be a good desktop computer for software\",\"What are your top five favorite books and why?\\n\",\"What are some good Harry/Ginny fanfiction?\\n\",\"What are the pros and cons of having sex during pe\",\"Which device will you enjoy watching movies in: a \",\"Will there be \\\"faithless\\\" electors this election?\\n\",\"Is Donald Trump an undercover democrat?\\n\",\"Why am I the way I am?\\n\",\"Why do some women get their nipples pierced?\\n\",\"What do Delhi University girls (especially North C\",\"What is the name of this TV series?\\n\",\"My salary is below the Basic Exemption Limit, yet \",\"What is a foliated rock?\\n\",\"What are some of the best books to start learning \",\"How should I prepare for IIT-JEE 2018?\\n\",\"How do unions work?\\n\",\"Can we give neet coaching in class 11?\\n\",\"Which is the best dish TV connection in Hyderabad?\",\"How can you train a Doberman/Lab mix?\\n\",\"How do you reduce stress at work?\\n\",\"What is the best algorithm for finding the number \",\"How can I earn $250 in 2 months?\\n\",\"Why did GE buy NBC?\\n\",\"What is the highest level of c?\\n\",\"How do you mash potatoes without a masher? What el\",\"How difficult is it to learn Python?\\n\",\"How do you convert years into seconds?\\n\",\"How do you view bisexuality?\\n\",\"What is information technology? What are some exam\",\"Why are Altoids so strong?\\n\",\"How effective is email marketing?\\n\",\"Why does my tutor keep winding me up. He says he i\",\"How can I start my Tok essay which is about accura\",\"How do I repair my corrupt memory card?\\n\",\"I have 3 years to prepare for IIT JAM Physics. How\",\"What are the best Instagram hack tools that have n\",\"I am studing interior design. What are some good i\",\"What are some stupid jokes that make you laugh?\\n\",\"What are the factors affecting Real estate investm\",\"How can I get rid of white dry spot on my face? It\",\"What is it like to have an ugly wife/partner?\\n\",\"What do you love most about your life and why?\\n\",\"In the unlikely event that the Electoral College t\",\"How is life as an Engineer?\\n\",\"Where and why are the imaginary numbers used?\\n\",\"What are some good hypo-allergenic lipsticks?\\n\",\"Did the United Nations play a part in the divide o\",\"When and Why did America become a world power?\\n\",\"What are some recipes using Hormel Black Label Ham\",\"Which is the best company to invest shares on Nove\",\"The man I'm about 2 marry says when I have my peri\",\"What can be the best answer for why finance?\\n\",\"What are the best facts about the universe?\\n\",\"What's the sweetest thing you did for a bestfriend\",\"What is the difference between techno and trance m\",\"TV Sitcoms: Why do English comedy shows have peopl\",\"Does percentile system would affect neet 1 student\",\"Is there Uber in Valencia, Madrid and Barcelona?\\n\",\"Have real-life siblings ever shot intimate scenes \",\"How should I improve my writing skill for blogging\",\"Can cold weather affect a menstrual cycle?\\n\",\"How can we earn money online while studying?\\n\",\"Can a tablet keyboard be used on any kind of table\",\"What are the Upcoming development projects in Chha\",\"Where can I buy cheap Twitter followers?\\n\",\"Why do passengers from aircraft are not given a bu\",\"When should I tell my crush I like her?\\n\",\"Why does Pakistan have a better image and reputati\",\"What are Andrea Pirlo's strengths as a midfielder?\",\"From a point in space billions of light years away\",\"Will Medicaid pay for electrologist to do the shav\",\"Why do technical employees despise sales people so\",\"What are the best freelance websites for C#?\\n\",\"Will I be successful without educations?\\n\",\"How can I learn about cars?\\n\",\"What is the best question asked in an interview?\\n\",\"Why there is so much hatred against Brahmins in In\",\"How do I learn to enter journal entries online in \",\"Will CS be issuing a PR message for Boston?\\n\",\"Why do some people 'hate' drugs or people who ever\",\"How do I know my passion? What is my talent and wh\",\"How do pessimists and optimists differ?\\n\",\"How many pulleys did it take for Archimedes to lif\",\"What is the best course after 12th for a medical s\",\"What are the steps that I should follow to get in \",\"Where was the boston marathon?\\n\",\"What is it like to be in or around a bomb blast?\\n\",\"Will Trump destroy international US-companies thro\",\"Should celebrities have the right to voice their o\",\"Can I say that: \\\"A battery can be seem as a capaci\",\"What is it like to be an ENTP?\\n\",\"How do I start designing on glass?\\n\",\"What is the market risk premium formula?\\n\",\"How can I pay the parking meter if I have no coins\",\"Is it true that Obama has a secret son named \\\"Luth\",\"Which is the best coaching for IAS in up?\\n\",\"How big is the equity funding market in North Amer\",\"Which are the good government medical colleges in \",\"How do I control my hair fall?\\n\",\"Is it really worth creating Shopify themes?\\n\",\"What can cause knee pain? It only hurts when I sta\",\"Where can you find a list of common 9 letter words\",\"NSFW: Is this penis color normal or should I see a\",\"Why do most women remove the hair from their arm p\",\"Which processor is better (faster/more efficient),\",\"Which two statements are true regarding views in s\",\"What is the easiest and quickest Indian food recip\",\"What are the best local SEO companies in India?\\n\",\"How do I get rid of adult content on my Quora feed\",\"Can the zombie fungi attack humans as well?\\n\",\"If I wanted to learn about the Roman Empire,what w\",\"What are the key differences between LXDE and XFCE\",\"Can people see the sellers real name, e-mail addre\",\"Should I still watch The Matrix movie?\\n\",\"Is there any truth to the rumor that the youngest \",\"Is it ok that I don't want to hang out with my fam\",\"I am in class 9. If i want to crack IIT JEE, then \",\"Will Obama's gang stalking/surveillance program be\",\"What are some good songs to lyric text prank a fri\",\"Where can I get best quality video DJ for party in\",\"How long does it take for your hair to grow?\\n\",\"Should I update my Redmi 3s from MIUI 7 to MIUI 8?\",\"How do muscles work?\\n\",\"WHAT IS THE BEST ROUT FOR NEPAL PASUPATI NATH TEMP\",\"How to make a website similar to feedwiser.com in \",\"Why does India so scared of CPEC?\\n\",\"What did your first sex feel like as a girl?\\n\",\"In International ODI/T20 cricket matches, if a bat\",\"Why can humans feel acceleration, but not constant\",\"Can the Microsoft Surface Pro 4 run AutoCAD?\\n\",\"What are the differences between stock Crown Victo\",\"What are the good ways to download Lynda.com's tut\",\"How much is the average salary package for a 1.5 y\",\"How can you reduce the barriers of communication?\\n\",\"Why would someone use Instagram Stories over Snapc\",\"Whiskey: How many 'shots' are in a fifth of Jack D\",\"What might happen now that President-elect Donald \",\"How do I write a waiver letter for school?\\n\",\"I am interested in persuing ma industrial psycholo\",\"Does modafinil shows up on a drug test? Because my\",\"Is it possible to get high off Vyvanse?\\n\",\"Is an agnostic necessarily a skeptic, and how?\\n\",\"Where can I get best support in Sydney for buying \",\"What are the duties of a lieutenant in Indian army\",\"Why is smileys not used on Quora?\\n\",\"What does it feel like for a man when someone who \",\"How does post graduation permit impact .lets say I\",\"Online Payment Gateways and Processing: What is th\",\"What are the best books to learn c programing lang\",\"Solid State Physics: What is The Theory of Alloys?\",\"How do I fill in my first name in a PAN card dupli\",\"Why is egg yolk not good for you?\\n\",\"Anatomy of Female Pelvis: Do women really have an \",\"How much does it cost to develop mobile applicatio\",\"Who is the most honest Game of Thrones character?\\n\",\"What is a high quality Apple MacBook Air charger?\\n\",\"Where and how is the WWE championship belt made?\\n\",\"What is green communication?\\n\",\"I have been a good student since chiild hood but j\",\"I'm solving exercises of artificial neural network\",\"Compared to your own compensation, and in consider\",\"How can I keep browsing Quora forever?\\n\",\"Having built web stuff the old way (PHP/MySQL) bac\",\"Is our new currency note of Rs.2000 equipped with \",\"What's the best way to join a startup in DC?\\n\",\"What would happen if we added a second Earth of eq\",\"When will piracy on Android stop?\\n\",\"What do you mean by executive consultant and suppo\",\"Why do I always feel like I am missing something?\\n\",\"What does a user see when he/she gets a new messag\",\"How can I become a web developer?\\n\",\"Is there any good alternative softwares to Tally?\\n\",\"Would you have sex during period?\\n\",\"Are there prominent Bangladeshi Hindus?\\n\",\"I have registered for PhD (no NET) (phy) in 2013, \",\"I changed my name, but the person did a mistake. M\",\"At what age do your breasts stop growing?\\n\",\"How do I get a girl's phone number in a library?\\n\",\"I am into a habit of over thinking things. How do \",\"What is the average salary of a civil engineer?\\n\",\"What is the difference between rote learning vs me\",\"What are the ways to compete in the Olympics in 20\",\"What trivia (and/or little-known facts) do you fin\",\"Xiaomi Redmi note 3: Which is the best colour to b\",\"What does \\\" the Hadamard Perron theorem\\\" means?\\n\",\"Is there a way to see the viewing history and chat\",\"What is the best place for trekking in Goa?\\n\",\"How does an instant messenger work?\\n\",\"What are the disadvantages of the World Trade Orga\",\"Why does the US military not use AK series rifles?\",\"Does Moto m have gorilla glass?\\n\",\"What is the hierarchy of an associate consultant a\",\"What are some major landforms in Texas, and how do\",\"What other jobs can a medical degree holder do mea\",\"MY HP DEXTOP DOESNOT CONNECT WIFI WHY?\\n\",\"How can I get motivated to workout?\\n\",\"What should I gift it to my mom on her birthday?\\n\",\"Which is the best video you have ever seen?\\n\",\"I was selected in campus and was issued a joining \",\"What makes a poem a good way to express emotions? \",\"What would happen if I cut down a tree outside my \",\"Can you make money in Amway?\\n\",\"Body Weight: How many pounds can I gain every week\",\"What are the impacts (both positive & negative) of\",\"I forgot the password which I used to login n n lo\",\"What are the best websites for career?\\n\",\"What is your favourite episode of the office (USA)\",\"Why is time slower down near heavy objects?\\n\",\"How do l update any version after rooting the mobi\",\"Why is 3 am called the witching hour?\\n\",\"How do I run a shell script from Java code?\\n\",\"What are the advertising campaigns of 2011?\\n\",\"Should I opt for computer science if I don't take \",\"What are the polymers of protein?\\n\",\"How much better will the JWST be than Hubble?\\n\",\"What are the greatest examples of absence of mind?\",\"How can I understand the STOCK market from the bas\",\"How do I make Gazpacho?\\n\",\"What is the typical role of a brand manager?\\n\",\"Who are the top 5 hottest women ever?\\n\",\"What is the name of the game that Aamir Khan was r\",\"How long does it take to learn dance?\\n\",\"What's the funniest thing that's happened to you a\",\"Why are metals malleable and ductile?\\n\",\"List of national daily in India?\\n\",\"Are Volvos actually safer than comparable cars?\\n\",\"Can you tell who has been looking at your Instagra\",\"A ball dropped from the roof of a building takes 4\",\"What percentage of Hillary Clinton's supporters ha\",\"Do you think you are beautiful?\\n\",\"Which are the free email marketing tools?\\n\",\"What topic of discussion do people hate the most? \",\"What is the point in having hyper-politicised stud\",\"Why Steve Jobs is considered as innovator?\\n\",\"How long would it take an average programmer to wr\",\"Why are conservatives defending Holly Fisher? (see\",\"What is so important about Adam Smith's pin factor\",\"What is the Arizona bark scorpion, and how do anim\",\"How do I stop smoking cigarettes?\\n\",\"What are the functions of a computer's motherboard\",\"How can tea bags help for styes?\\n\",\"How can I get a patent for my really effective inn\",\"Can India ever become 'Sone Ki Chidiya' again?\\n\",\"Is there any way to play Android games LAN multipl\",\"Why should I ask my first question?\\n\",\"Who are the top writers on Hinduism on Quora? Who \",\"How do I wake up at 4:00 A.M.?\\n\",\"Why is Quora moderation collapsing all my answers?\",\"In an honest assessment, what do you think of Trum\",\"What type of bonding is present in a coordinate bo\",\"Is it possible to delete your Wikipedia account hi\",\"I'm a +2 CBSE non-medical student. Is there any pr\",\"Are there any limitations as to setting up a forei\",\"How will the drought in California affect its econ\",\"What is Informatica online training?\\n\",\"Is it compulsory for a Web designer and developer \",\"How could the US realistically pay off its debt?\\n\",\"Who is Barry Soetoro?\\n\",\"How do I solve [math]2x^3-x^2+11x+3=0[/math]?\\n\",\"What are some hobbies couples can do at home?\\n\",\"How have meerkats adapted to the desert?\\n\",\"What causes dizziness when you lay down?\\n\",\"What should one do after a civil engineering degre\",\"What are the advantages of hiring skip bins servic\",\"Why is it necessary that singers lip-sync?\\n\",\"How can I turn off the screen overlay detected on \",\"How do you clean or polish a pair of Woodland shoe\",\"What are some classes you wish you took in high sc\",\"What is the formula of [math](a+b)^3[/math]?\\n\",\"What is it like to commit yourself to a psychiatri\",\"Is there any way to slow or reverse the late effec\",\"What would the implications be if we discovered th\",\"Any other program to help on code contribution for\",\"What is the bond order of [math]H_2[/math]?\\n\",\"What is the best way to create a website without c\",\"What were some causes and effects of the French Re\",\"What are some catchy headlines for a dating site?\\n\",\"Should I get Company of Heroes, World in Conflict \",\"How do I remove a person from a group in Skype?\\n\",\"Why was Manmohan Singh briefed by PM Modi after su\",\"Does anybody want to learn Chinese?\\n\",\"Is Xiaomi going the Nokia way to oblivion?\\n\",\"Should I buy hp 17.3 AMD laptop or lenovo 17.3 i5 \",\"Which is better a government job or a software job\",\"How can the word \\\"credulity\\\" be used in a sentence\",\"Does uber track time on app?\\n\",\"How do I get over direct rejection?\\n\",\"How can any institute get an ISO certificate?\\n\",\"What are the best pranks?\\n\",\"Are non-solicit agreements enforceable if the pers\",\"Which phone is best in 2016 for a 18 years boy my \",\"What is the definition of an archetypal hero?\\n\",\"Why are some \\\"ugly\\\" people still very attractive?\\n\",\"What are the chances of Donald Trump's impeachment\",\"What would a society based on laws enforcing only \",\"What is the full form of \\\"veto\\\" power?\\n\",\"How much do people get paid to do a TED talk?\\n\",\"What does it mean to say \\\"enriching herself off of\",\"How can I be more persuasive at work?\\n\",\"What is the corporate culture like at National Bev\",\"What is the fastest way to get a PAN card?\\n\",\"Who will win in America presidential elections in \",\"How do I solve this differential problem?\\n\",\"How is Banjara's Saffron Facial Kit used?\\n\",\"How do you understand life?\\n\",\"Will an MS from NUS in electrical engineering prov\",\"How does one create a strong password? Any tips?\\n\",\"Who was the best dressed at the 2016 Emmy's?\\n\",\"What is the cost of manufacturing a SIM card?\\n\",\"Are you tolerant?\\n\",\"Is [math]\\\\{1,2,3\\\\}[/math] a compact subset of a me\",\"What kind of energy is involved in hearing and vis\",\"What happened with Lehman Brothers?\\n\",\"What is a good web page publisher?\\n\",\"Why does eating radishes cause diarrhea?\\n\",\"How do I encrypt the data on my Android phone?\\n\",\"If there were an Oscar for \\\"Best Line in a Movie\\\",\",\"Why are tyres black?\\n\",\"What is the best way to unlock a Motorola Droid Bi\",\"Is a $45 a month job worth the experience?\\n\",\"Should I settle in Canada or Japan?\\n\",\"How is the appraisal process in Accenture? How wil\",\"How does sand turn into glass?\\n\",\"What effect will increased automation of jobs and \",\"I am 25 years old Indian guy, want to settle in Ne\",\"What are some Raksha Bandhan gift suggestions for \",\"How do I write a multi-dimensional villain that is\",\"Why is there no nucleus in a red blood cell?\\n\",\"Why do Quora allow anonymous fake questions from A\",\"Is it possible to merge a foursquare venue into a \",\"How do I find out if I have Siri on my phone?\\n\",\"Why do I feel like I'm not living my life?\\n\",\"What will happen to global stock market if Donald \",\"What makes weeds grow so much faster and easier th\",\"Do people with extremely high IQ need higher sugar\",\"What should teaching assistants do?\\n\",\"Why is Perth one of the most liveable cities in th\",\"How do you get to the entrance for Resolution Cave\",\"How do I get involved in research as an undergradu\",\"If you have one option to remove anything, what wi\",\"What are the risk after angioplasty?\\n\",\"Why can't men read the signals women give off when\",\"How can a non-EU medical graduate get into residen\",\"How do I stay active?\\n\",\"I'm going to Paris. What is the equivalent \\\"neighb\",\"How do I get rid of dandruff, or at least prevent \",\"Is Medicaid going to pay for the electrologist for\",\"When Australia became a nation in 1901, Did aborig\",\"What is the difference between SSL and Sitelock?\\n\",\"What are some unsolved problems in deep machine le\",\"What's the difference between computer engineering\",\"Is it possible to get a decent job after completin\",\"What is the difference between MG & BG in railway \",\"How do I control an Arduino with a Raspberry Pi?\\n\",\"What is the best field to pursue MS after doing el\",\"What is the difference between Directx and graphic\",\"How do I wirelessly charge the electrical devices \",\"Can you upload Numbers sheets from iPad to Google \",\"What's the best movie franchise you have ever watc\",\"If light does not have mass, then how can it be ab\",\"Why is the book of Esther in the Bible?\\n\",\"What makes comic books worth reading?\\n\",\"What are the advantages of outsourcing property ma\",\"What is a Quora credit competition?\\n\",\"Are data analyst/data science jobs boring?\\n\",\"Why don't satellites crash into each other?\\n\",\"How do dermatologists remove blackheads?\\n\",\"How can I choose between my dad and my mom?\\n\",\"Can you really not change people?\\n\",\"Being a non believer of a spiritual entity, I have\",\"Is black coffee fattening? If so, what makes it fa\",\"The education system is outdated. What would you d\",\"Who are the founders of Quora?\\n\",\"What is it like to be a landlord?\\n\",\"How many stamps do I need to send a letter to germ\",\"My father just recently got married. His wife goes\",\"Which countries are best to migrate from the US?\\n\",\"Can any one tell me a basketball club in Bangalore\",\"How can Spotify download songs offline?\\n\",\"How do I make money online for free in Spain?\\n\",\"Why is Tornado Alley prone to tornadoes?\\n\",\"How does helium change the inhaler's voice?\\n\",\"What is a bedding ceremony in Game of Thrones?\\n\",\"What is it like living in former East Germany as a\",\"Did the USA or NATO commit any war crimes in Iraq?\",\"Why don't we capture terrorist and behead them?\\n\",\"What is your favorite quote (books, movies, people\",\"What mixes well with peach vodka?\\n\",\"Which Patanjali products contain cow urine?\\n\",\"Why are three phases denoted by RYB?\\n\",\"Where could I learn JavaScript online?\\n\",\"Is it appropriate to wear a sports bra simply to t\",\"What are the differences between Jenkins CI and Dr\",\"T right do you think we should be entitled to?\\n\",\"What was the public's reaction to Crystal Pepsi?\\n\",\"How can I crack MH-CET 2017 engineering by self-st\",\"What is the way to become a dental hygienist in th\",\"Why do solving math/statistics problems causes my \",\"Does your name sound as awkward to others as it so\",\"What is the proper format of writing formal-inform\",\"How does doc2vec represent feature vector of a doc\",\"Why are software development task estimations regu\",\"How can I set up molecular pathology lab?\\n\",\"How do I score a rank in CA - IPCC?\\n\",\"What are some examples of strong organic acids?\\n\",\"What can be a good hindi (indian) name for a tea b\",\"Is the Google host matching process different for \",\"Is Cuba considered part of Latin America?\\n\",\"Does the following script (\\u0256\\u2200\\u0f61\\u0632\\u2202 \\u0250\\u0167 \\u01ab\\u04bf\\u03de\\u026e\\u2609 \\u027d\\u03c6\\u0289\\u029b\\u0195), \",\"How can I increase my website's DA?\\n\",\"Is it normal to imagine having sex with other guy \",\"What is the percent purity (approx) of consumable \",\"Do soulmates just come walking into your life when\",\"If I use marijuana with my boyfriend, is there a p\",\"Can you analyze everything in soil?\\n\",\"What difference it would make if India Nuked and K\",\"What are the advantages of a dominant party system\",\"What were some things India did not do but takes c\",\"How many total women have accused Bill Clinton of \",\"Why do I wish some fictional characters existed?\\n\",\"Where can I find best hotel at Ranikhet?\\n\",\"How do I make good memes?\\n\",\"What are some of the common sayings or proverbs in\",\"What kind of writing style makes someone a \\\"dark w\",\"Are Trump and Hillary really the best America has \",\"How can I make my career in embedded system and ro\",\"Will adding a USB to VGA adapter always give an ex\",\"We will never be able to see our own faces with ou\",\"What are the ways you can stop a friend from pitch\",\"What is the average time for preparation of IAS?\\n\",\"How can I learn new things quickly?\\n\",\"What is the definition of political courage?\\n\",\"What makes death scary?\\n\",\"I'm really pretty but I don't want to be I hate th\",\"Is Assam Down Town University good?\\n\",\"How do the brain structures of bonobos change as t\",\"What's the biggest scam?\\n\",\"Does the US government have an alien flying saucer\",\"I need to gain weight, but I don't have abs. It's \",\"Why should I study Calculus?\\n\",\"Do you think your childhood contributed to your fi\",\"How does the Goods and Services Tax (GST) works?\\n\",\"Where can I download Cisco 500-285 exam dumps?\\n\",\"How do I can make a second nation in Cybernations \",\"Did Neil Armstrong really land on the moon?\\n\",\"Why is Devil any other than God head of state?\\n\",\"How do I stop being possessive over my girlfriend?\",\"How does Kongregate compute the statistics of adve\",\"Who is the best nuero physician at NIMHANS, Bangal\",\"What are nonprofit organizations?\\n\",\"I want to know the process of starting outbound ca\",\"Which are some of the best hotels to stay in Helsi\",\"What is good about Deloitte Chicago?\\n\",\"How do I recover data from a formatted hard drive?\",\"Could India and Pakistan unite again?\\n\",\"How often should I massage my face with Argan oil?\",\"How is psychodynamic therapy different from psycho\",\"What are some of Barack Obama's character traits?\\n\",\"Would it make sense to replace the B-52's 8 1960s \",\"Is it possible to bring forward my flight date of \",\"How can I learn marathons?\\n\"],\"x\":{\"__ndarray__\":\"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\",\"dtype\":\"float32\",\"shape\":[1001]},\"y\":{\"__ndarray__\":\"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\",\"dtype\":\"float32\",\"shape\":[1001]}},\"selected\":{\"id\":\"1580\",\"type\":\"Selection\"},\"selection_policy\":{\"id\":\"1579\",\"type\":\"UnionRenderers\"}},\"id\":\"1494\",\"type\":\"ColumnDataSource\"},{\"attributes\":{\"dimension\":1,\"plot\":{\"id\":\"1495\",\"subtype\":\"Figure\",\"type\":\"Plot\"},\"ticker\":{\"id\":\"1510\",\"type\":\"BasicTicker\"}},\"id\":\"1513\",\"type\":\"Grid\"},{\"attributes\":{\"source\":{\"id\":\"1494\",\"type\":\"ColumnDataSource\"}},\"id\":\"1533\",\"type\":\"CDSView\"},{\"attributes\":{},\"id\":\"1505\",\"type\":\"BasicTicker\"},{\"attributes\":{},\"id\":\"1580\",\"type\":\"Selection\"},{\"attributes\":{\"callback\":null,\"renderers\":\"auto\",\"tooltips\":[[\"phrase\",\"@phrase\"]]},\"id\":\"1534\",\"type\":\"HoverTool\"},{\"attributes\":{},\"id\":\"1502\",\"type\":\"LinearScale\"},{\"attributes\":{\"active_drag\":\"auto\",\"active_inspect\":\"auto\",\"active_multi\":null,\"active_scroll\":{\"id\":\"1515\",\"type\":\"WheelZoomTool\"},\"active_tap\":\"auto\",\"tools\":[{\"id\":\"1514\",\"type\":\"PanTool\"},{\"id\":\"1515\",\"type\":\"WheelZoomTool\"},{\"id\":\"1516\",\"type\":\"BoxZoomTool\"},{\"id\":\"1517\",\"type\":\"SaveTool\"},{\"id\":\"1518\",\"type\":\"ResetTool\"},{\"id\":\"1519\",\"type\":\"HelpTool\"},{\"id\":\"1534\",\"type\":\"HoverTool\"}]},\"id\":\"1520\",\"type\":\"Toolbar\"},{\"attributes\":{},\"id\":\"1579\",\"type\":\"UnionRenderers\"},{\"attributes\":{},\"id\":\"1515\",\"type\":\"WheelZoomTool\"},{\"attributes\":{},\"id\":\"1575\",\"type\":\"BasicTickFormatter\"},{\"attributes\":{},\"id\":\"1577\",\"type\":\"BasicTickFormatter\"},{\"attributes\":{\"overlay\":{\"id\":\"1522\",\"type\":\"BoxAnnotation\"}},\"id\":\"1516\",\"type\":\"BoxZoomTool\"},{\"attributes\":{},\"id\":\"1514\",\"type\":\"PanTool\"},{\"attributes\":{\"callback\":null},\"id\":\"1496\",\"type\":\"DataRange1d\"}],\"root_ids\":[\"1495\"]},\"title\":\"Bokeh Application\",\"version\":\"1.0.1\"}};\n",
       "  var render_items = [{\"docid\":\"14f7ce26-6731-4c68-8c12-69415e10af48\",\"roots\":{\"1495\":\"e775a9ee-3de2-4c21-b10c-8ae0ee458b5d\"}}];\n",
       "  root.Bokeh.embed.embed_items_notebook(docs_json, render_items);\n",
       "\n",
       "  }\n",
       "  if (root.Bokeh !== undefined) {\n",
       "    embed_document(root);\n",
       "  } else {\n",
       "    var attempts = 0;\n",
       "    var timer = setInterval(function(root) {\n",
       "      if (root.Bokeh !== undefined) {\n",
       "        embed_document(root);\n",
       "        clearInterval(timer);\n",
       "      }\n",
       "      attempts++;\n",
       "      if (attempts > 100) {\n",
       "        console.log(\"Bokeh: ERROR: Unable to run BokehJS code because BokehJS library is missing\");\n",
       "        clearInterval(timer);\n",
       "      }\n",
       "    }, 10, root)\n",
       "  }\n",
       "})(window);"
      ],
      "application/vnd.bokehjs_exec.v0+json": ""
     },
     "metadata": {
      "application/vnd.bokehjs_exec.v0+json": {
       "id": "1495"
      }
     },
     "output_type": "display_data"
    },
    {
     "data": {
      "text/html": [
       "<div style=\"display: table;\"><div style=\"display: table-row;\"><div style=\"display: table-cell;\"><b title=\"bokeh.plotting.figure.Figure\">Figure</b>(</div><div style=\"display: table-cell;\">id&nbsp;=&nbsp;'1495', <span id=\"1636\" style=\"cursor: pointer;\">&hellip;)</span></div></div><div class=\"1635\" style=\"display: none;\"><div style=\"display: table-cell;\"></div><div style=\"display: table-cell;\">above&nbsp;=&nbsp;[],</div></div><div class=\"1635\" style=\"display: none;\"><div style=\"display: table-cell;\"></div><div style=\"display: table-cell;\">aspect_scale&nbsp;=&nbsp;1,</div></div><div class=\"1635\" style=\"display: none;\"><div style=\"display: table-cell;\"></div><div style=\"display: table-cell;\">background_fill_alpha&nbsp;=&nbsp;{'value': 1.0},</div></div><div class=\"1635\" style=\"display: none;\"><div style=\"display: table-cell;\"></div><div style=\"display: table-cell;\">background_fill_color&nbsp;=&nbsp;{'value': '#ffffff'},</div></div><div class=\"1635\" style=\"display: none;\"><div style=\"display: table-cell;\"></div><div style=\"display: table-cell;\">below&nbsp;=&nbsp;[LinearAxis(id='1504', ...)],</div></div><div class=\"1635\" style=\"display: none;\"><div style=\"display: table-cell;\"></div><div style=\"display: table-cell;\">border_fill_alpha&nbsp;=&nbsp;{'value': 1.0},</div></div><div class=\"1635\" style=\"display: none;\"><div style=\"display: table-cell;\"></div><div style=\"display: table-cell;\">border_fill_color&nbsp;=&nbsp;{'value': '#ffffff'},</div></div><div class=\"1635\" style=\"display: none;\"><div style=\"display: table-cell;\"></div><div style=\"display: table-cell;\">css_classes&nbsp;=&nbsp;[],</div></div><div class=\"1635\" style=\"display: none;\"><div style=\"display: table-cell;\"></div><div style=\"display: table-cell;\">disabled&nbsp;=&nbsp;False,</div></div><div class=\"1635\" style=\"display: none;\"><div style=\"display: table-cell;\"></div><div style=\"display: table-cell;\">extra_x_ranges&nbsp;=&nbsp;{},</div></div><div class=\"1635\" style=\"display: none;\"><div style=\"display: table-cell;\"></div><div style=\"display: table-cell;\">extra_y_ranges&nbsp;=&nbsp;{},</div></div><div class=\"1635\" style=\"display: none;\"><div style=\"display: table-cell;\"></div><div style=\"display: table-cell;\">h_symmetry&nbsp;=&nbsp;True,</div></div><div class=\"1635\" style=\"display: none;\"><div style=\"display: table-cell;\"></div><div style=\"display: table-cell;\">height&nbsp;=&nbsp;None,</div></div><div class=\"1635\" style=\"display: none;\"><div style=\"display: table-cell;\"></div><div style=\"display: table-cell;\">hidpi&nbsp;=&nbsp;True,</div></div><div class=\"1635\" style=\"display: none;\"><div style=\"display: table-cell;\"></div><div style=\"display: table-cell;\">js_event_callbacks&nbsp;=&nbsp;{},</div></div><div class=\"1635\" style=\"display: none;\"><div style=\"display: table-cell;\"></div><div style=\"display: table-cell;\">js_property_callbacks&nbsp;=&nbsp;{},</div></div><div class=\"1635\" style=\"display: none;\"><div style=\"display: table-cell;\"></div><div style=\"display: table-cell;\">left&nbsp;=&nbsp;[LinearAxis(id='1509', ...)],</div></div><div class=\"1635\" style=\"display: none;\"><div style=\"display: table-cell;\"></div><div style=\"display: table-cell;\">lod_factor&nbsp;=&nbsp;10,</div></div><div class=\"1635\" style=\"display: none;\"><div style=\"display: table-cell;\"></div><div style=\"display: table-cell;\">lod_interval&nbsp;=&nbsp;300,</div></div><div class=\"1635\" style=\"display: none;\"><div style=\"display: table-cell;\"></div><div style=\"display: table-cell;\">lod_threshold&nbsp;=&nbsp;2000,</div></div><div class=\"1635\" style=\"display: none;\"><div style=\"display: table-cell;\"></div><div style=\"display: table-cell;\">lod_timeout&nbsp;=&nbsp;500,</div></div><div class=\"1635\" style=\"display: none;\"><div style=\"display: table-cell;\"></div><div style=\"display: table-cell;\">match_aspect&nbsp;=&nbsp;False,</div></div><div class=\"1635\" style=\"display: none;\"><div style=\"display: table-cell;\"></div><div style=\"display: table-cell;\">min_border&nbsp;=&nbsp;5,</div></div><div class=\"1635\" style=\"display: none;\"><div style=\"display: table-cell;\"></div><div style=\"display: table-cell;\">min_border_bottom&nbsp;=&nbsp;None,</div></div><div class=\"1635\" style=\"display: none;\"><div style=\"display: table-cell;\"></div><div style=\"display: table-cell;\">min_border_left&nbsp;=&nbsp;None,</div></div><div class=\"1635\" style=\"display: none;\"><div style=\"display: table-cell;\"></div><div style=\"display: table-cell;\">min_border_right&nbsp;=&nbsp;None,</div></div><div class=\"1635\" style=\"display: none;\"><div style=\"display: table-cell;\"></div><div style=\"display: table-cell;\">min_border_top&nbsp;=&nbsp;None,</div></div><div class=\"1635\" style=\"display: none;\"><div style=\"display: table-cell;\"></div><div style=\"display: table-cell;\">name&nbsp;=&nbsp;None,</div></div><div class=\"1635\" style=\"display: none;\"><div style=\"display: table-cell;\"></div><div style=\"display: table-cell;\">outline_line_alpha&nbsp;=&nbsp;{'value': 1.0},</div></div><div class=\"1635\" style=\"display: none;\"><div style=\"display: table-cell;\"></div><div style=\"display: table-cell;\">outline_line_cap&nbsp;=&nbsp;'butt',</div></div><div class=\"1635\" style=\"display: none;\"><div style=\"display: table-cell;\"></div><div style=\"display: table-cell;\">outline_line_color&nbsp;=&nbsp;{'value': '#e5e5e5'},</div></div><div class=\"1635\" style=\"display: none;\"><div style=\"display: table-cell;\"></div><div style=\"display: table-cell;\">outline_line_dash&nbsp;=&nbsp;[],</div></div><div class=\"1635\" style=\"display: none;\"><div style=\"display: table-cell;\"></div><div style=\"display: table-cell;\">outline_line_dash_offset&nbsp;=&nbsp;0,</div></div><div class=\"1635\" style=\"display: none;\"><div style=\"display: table-cell;\"></div><div style=\"display: table-cell;\">outline_line_join&nbsp;=&nbsp;'bevel',</div></div><div class=\"1635\" style=\"display: none;\"><div style=\"display: table-cell;\"></div><div style=\"display: table-cell;\">outline_line_width&nbsp;=&nbsp;{'value': 1},</div></div><div class=\"1635\" style=\"display: none;\"><div style=\"display: table-cell;\"></div><div style=\"display: table-cell;\">output_backend&nbsp;=&nbsp;'canvas',</div></div><div class=\"1635\" style=\"display: none;\"><div style=\"display: table-cell;\"></div><div style=\"display: table-cell;\">plot_height&nbsp;=&nbsp;400,</div></div><div class=\"1635\" style=\"display: none;\"><div style=\"display: table-cell;\"></div><div style=\"display: table-cell;\">plot_width&nbsp;=&nbsp;600,</div></div><div class=\"1635\" style=\"display: none;\"><div style=\"display: table-cell;\"></div><div style=\"display: table-cell;\">renderers&nbsp;=&nbsp;[LinearAxis(id='1504', ...), Grid(id='1508', ...), LinearAxis(id='1509', ...), Grid(id='1513', ...), BoxAnnotation(id='1522', ...), GlyphRenderer(id='1532', ...)],</div></div><div class=\"1635\" style=\"display: none;\"><div style=\"display: table-cell;\"></div><div style=\"display: table-cell;\">right&nbsp;=&nbsp;[],</div></div><div class=\"1635\" style=\"display: none;\"><div style=\"display: table-cell;\"></div><div style=\"display: table-cell;\">sizing_mode&nbsp;=&nbsp;'fixed',</div></div><div class=\"1635\" style=\"display: none;\"><div style=\"display: table-cell;\"></div><div style=\"display: table-cell;\">subscribed_events&nbsp;=&nbsp;[],</div></div><div class=\"1635\" style=\"display: none;\"><div style=\"display: table-cell;\"></div><div style=\"display: table-cell;\">tags&nbsp;=&nbsp;[],</div></div><div class=\"1635\" style=\"display: none;\"><div style=\"display: table-cell;\"></div><div style=\"display: table-cell;\">title&nbsp;=&nbsp;Title(id='1573', ...),</div></div><div class=\"1635\" style=\"display: none;\"><div style=\"display: table-cell;\"></div><div style=\"display: table-cell;\">title_location&nbsp;=&nbsp;'above',</div></div><div class=\"1635\" style=\"display: none;\"><div style=\"display: table-cell;\"></div><div style=\"display: table-cell;\">toolbar&nbsp;=&nbsp;Toolbar(id='1520', ...),</div></div><div class=\"1635\" style=\"display: none;\"><div style=\"display: table-cell;\"></div><div style=\"display: table-cell;\">toolbar_location&nbsp;=&nbsp;'right',</div></div><div class=\"1635\" style=\"display: none;\"><div style=\"display: table-cell;\"></div><div style=\"display: table-cell;\">toolbar_sticky&nbsp;=&nbsp;True,</div></div><div class=\"1635\" style=\"display: none;\"><div style=\"display: table-cell;\"></div><div style=\"display: table-cell;\">v_symmetry&nbsp;=&nbsp;False,</div></div><div class=\"1635\" style=\"display: none;\"><div style=\"display: table-cell;\"></div><div style=\"display: table-cell;\">width&nbsp;=&nbsp;None,</div></div><div class=\"1635\" style=\"display: none;\"><div style=\"display: table-cell;\"></div><div style=\"display: table-cell;\">x_range&nbsp;=&nbsp;DataRange1d(id='1496', ...),</div></div><div class=\"1635\" style=\"display: none;\"><div style=\"display: table-cell;\"></div><div style=\"display: table-cell;\">x_scale&nbsp;=&nbsp;LinearScale(id='1500', ...),</div></div><div class=\"1635\" style=\"display: none;\"><div style=\"display: table-cell;\"></div><div style=\"display: table-cell;\">y_range&nbsp;=&nbsp;DataRange1d(id='1498', ...),</div></div><div class=\"1635\" style=\"display: none;\"><div style=\"display: table-cell;\"></div><div style=\"display: table-cell;\">y_scale&nbsp;=&nbsp;LinearScale(id='1502', ...))</div></div></div>\n",
       "<script>\n",
       "(function() {\n",
       "  var expanded = false;\n",
       "  var ellipsis = document.getElementById(\"1636\");\n",
       "  ellipsis.addEventListener(\"click\", function() {\n",
       "    var rows = document.getElementsByClassName(\"1635\");\n",
       "    for (var i = 0; i < rows.length; i++) {\n",
       "      var el = rows[i];\n",
       "      el.style.display = expanded ? \"none\" : \"table-row\";\n",
       "    }\n",
       "    ellipsis.innerHTML = expanded ? \"&hellip;)\" : \"&lsaquo;&lsaquo;&lsaquo;\";\n",
       "    expanded = !expanded;\n",
       "  });\n",
       "})();\n",
       "</script>\n"
      ],
      "text/plain": [
       "Figure(id='1495', ...)"
      ]
     },
     "execution_count": 121,
     "metadata": {},
     "output_type": "execute_result"
    }
   ],
   "source": [
    "draw_vectors(phrase_vectors_2d[:, 0], phrase_vectors_2d[:, 1],\n",
    "             phrase=[phrase[:50] for phrase in chosen_phrases],\n",
    "             radius=20,)"
   ]
  },
  {
   "cell_type": "markdown",
   "metadata": {},
   "source": [
    "Finally, let's build a simple \"similar question\" engine with phrase embeddings we've built."
   ]
  },
  {
   "cell_type": "code",
   "execution_count": null,
   "metadata": {
    "collapsed": true
   },
   "outputs": [],
   "source": [
    "# compute vector embedding for all lines in data\n",
    "data_vectors = np.array([get_phrase_embedding(l) for l in data])"
   ]
  },
  {
   "cell_type": "code",
   "execution_count": null,
   "metadata": {
    "collapsed": true
   },
   "outputs": [],
   "source": [
    "def find_nearest(query, k=10):\n",
    "    \"\"\"\n",
    "    given text line (query), return k most similar lines from data, sorted from most to least similar\n",
    "    similarity should be measured as cosine between query and line embedding vectors\n",
    "    hint: it's okay to use global variables: data and data_vectors. see also: np.argpartition, np.argsort\n",
    "    \"\"\"\n",
    "    # YOUR CODE\n",
    "    \n",
    "    return <YOUR CODE: top-k lines starting from most similar>"
   ]
  },
  {
   "cell_type": "code",
   "execution_count": null,
   "metadata": {
    "collapsed": true
   },
   "outputs": [],
   "source": [
    "results = find_nearest(query=\"How do i enter the matrix?\", k=10)\n",
    "\n",
    "print(''.join(results))\n",
    "\n",
    "assert len(results) == 10 and isinstance(results[0], str)\n",
    "assert results[0] == 'How do I get to the dark web?\\n'\n",
    "assert results[3] == 'What can I do to save the world?\\n'"
   ]
  },
  {
   "cell_type": "code",
   "execution_count": null,
   "metadata": {
    "collapsed": true
   },
   "outputs": [],
   "source": [
    "find_nearest(query=\"How does Trump?\", k=10)"
   ]
  },
  {
   "cell_type": "code",
   "execution_count": null,
   "metadata": {
    "collapsed": true
   },
   "outputs": [],
   "source": [
    "find_nearest(query=\"Why don't i ask a question myself?\", k=10)"
   ]
  },
  {
   "cell_type": "markdown",
   "metadata": {
    "collapsed": true
   },
   "source": [
    "__Now what?__\n",
    "* Try running TSNE on all data, not just 1000 phrases\n",
    "* See what other embeddings are there in the model zoo: `gensim.downloader.info()`\n",
    "* Take a look at [FastText](https://github.com/facebookresearch/fastText) embeddings\n",
    "* Optimize find_nearest with locality-sensitive hashing: use [nearpy](https://github.com/pixelogik/NearPy) or `sklearn.neighbors`."
   ]
  },
  {
   "cell_type": "code",
   "execution_count": 123,
   "metadata": {},
   "outputs": [
    {
     "name": "stdout",
     "output_type": "stream",
     "text": [
      "{'corpora': {'semeval-2016-2017-task3-subtaskBC': {'num_records': -1, 'record_format': 'dict', 'file_size': 6344358, 'reader_code': 'https://github.com/RaRe-Technologies/gensim-data/releases/download/semeval-2016-2017-task3-subtaskB-eng/__init__.py', 'license': 'All files released for the task are free for general research use', 'fields': {'2016-train': ['...'], '2016-dev': ['...'], '2017-test': ['...'], '2016-test': ['...']}, 'description': 'SemEval 2016 / 2017 Task 3 Subtask B and C datasets contain train+development (317 original questions, 3,169 related questions, and 31,690 comments), and test datasets in English. The description of the tasks and the collected data is given in sections 3 and 4.1 of the task paper http://alt.qcri.org/semeval2016/task3/data/uploads/semeval2016-task3-report.pdf linked in section “Papers” of https://github.com/RaRe-Technologies/gensim-data/issues/18.', 'checksum': '701ea67acd82e75f95e1d8e62fb0ad29', 'file_name': 'semeval-2016-2017-task3-subtaskBC.gz', 'read_more': ['http://alt.qcri.org/semeval2017/task3/', 'http://alt.qcri.org/semeval2017/task3/data/uploads/semeval2017-task3.pdf', 'https://github.com/RaRe-Technologies/gensim-data/issues/18', 'https://github.com/Witiko/semeval-2016_2017-task3-subtaskB-english'], 'parts': 1}, 'semeval-2016-2017-task3-subtaskA-unannotated': {'num_records': 189941, 'record_format': 'dict', 'file_size': 234373151, 'reader_code': 'https://github.com/RaRe-Technologies/gensim-data/releases/download/semeval-2016-2017-task3-subtaskA-unannotated-eng/__init__.py', 'license': 'These datasets are free for general research use.', 'fields': {'THREAD_SEQUENCE': '', 'RelQuestion': {'RELQ_CATEGORY': 'question category, according to the Qatar Living taxonomy', 'RELQ_DATE': 'date of posting', 'RELQ_ID': 'question indentifier', 'RELQ_USERID': 'identifier of the user asking the question', 'RELQ_USERNAME': 'name of the user asking the question', 'RelQBody': 'body of question', 'RelQSubject': 'subject of question'}, 'RelComments': [{'RelCText': 'text of answer', 'RELC_USERID': 'identifier of the user posting the comment', 'RELC_ID': 'comment identifier', 'RELC_USERNAME': 'name of the user posting the comment', 'RELC_DATE': 'date of posting'}]}, 'description': 'SemEval 2016 / 2017 Task 3 Subtask A unannotated dataset contains 189,941 questions and 1,894,456 comments in English collected from the Community Question Answering (CQA) web forum of Qatar Living. These can be used as a corpus for language modelling.', 'checksum': '2de0e2f2c4f91c66ae4fcf58d50ba816', 'file_name': 'semeval-2016-2017-task3-subtaskA-unannotated.gz', 'read_more': ['http://alt.qcri.org/semeval2016/task3/', 'http://alt.qcri.org/semeval2016/task3/data/uploads/semeval2016-task3-report.pdf', 'https://github.com/RaRe-Technologies/gensim-data/issues/18', 'https://github.com/Witiko/semeval-2016_2017-task3-subtaskA-unannotated-english'], 'parts': 1}, 'patent-2017': {'num_records': 353197, 'record_format': 'dict', 'file_size': 3087262469, 'reader_code': 'https://github.com/RaRe-Technologies/gensim-data/releases/download/patent-2017/__init__.py', 'license': 'not found', 'description': \"Patent Grant Full Text. Contains the full text including tables, sequence data and 'in-line' mathematical expressions of each patent grant issued in 2017.\", 'checksum-0': '818501f0b9af62d3b88294d86d509f8f', 'checksum-1': '66c05635c1d3c7a19b4a335829d09ffa', 'file_name': 'patent-2017.gz', 'read_more': ['http://patents.reedtech.com/pgrbft.php'], 'parts': 2}, 'quora-duplicate-questions': {'num_records': 404290, 'record_format': 'dict', 'file_size': 21684784, 'reader_code': 'https://github.com/RaRe-Technologies/gensim-data/releases/download/quora-duplicate-questions/__init__.py', 'license': 'probably https://www.quora.com/about/tos', 'fields': {'question1': 'the full text of each question', 'question2': 'the full text of each question', 'qid1': 'unique ids of each question', 'qid2': 'unique ids of each question', 'id': 'the id of a training set question pair', 'is_duplicate': 'the target variable, set to 1 if question1 and question2 have essentially the same meaning, and 0 otherwise'}, 'description': 'Over 400,000 lines of potential question duplicate pairs. Each line contains IDs for each question in the pair, the full text for each question, and a binary value that indicates whether the line contains a duplicate pair or not.', 'checksum': 'd7cfa7fbc6e2ec71ab74c495586c6365', 'file_name': 'quora-duplicate-questions.gz', 'read_more': ['https://data.quora.com/First-Quora-Dataset-Release-Question-Pairs'], 'parts': 1}, 'wiki-english-20171001': {'num_records': 4924894, 'record_format': 'dict', 'file_size': 6516051717, 'reader_code': 'https://github.com/RaRe-Technologies/gensim-data/releases/download/wiki-english-20171001/__init__.py', 'license': 'https://dumps.wikimedia.org/legal.html', 'fields': {'section_texts': 'list of body of sections', 'section_titles': 'list of titles of sections', 'title': 'Title of wiki article'}, 'description': 'Extracted Wikipedia dump from October 2017. Produced by `python -m gensim.scripts.segment_wiki -f enwiki-20171001-pages-articles.xml.bz2 -o wiki-en.gz`', 'checksum-0': 'a7d7d7fd41ea7e2d7fa32ec1bb640d71', 'checksum-1': 'b2683e3356ffbca3b6c2dca6e9801f9f', 'checksum-2': 'c5cde2a9ae77b3c4ebce804f6df542c2', 'checksum-3': '00b71144ed5e3aeeb885de84f7452b81', 'file_name': 'wiki-english-20171001.gz', 'read_more': ['https://dumps.wikimedia.org/enwiki/20171001/'], 'parts': 4}, 'text8': {'num_records': 1701, 'record_format': 'list of str (tokens)', 'file_size': 33182058, 'reader_code': 'https://github.com/RaRe-Technologies/gensim-data/releases/download/text8/__init__.py', 'license': 'not found', 'description': 'First 100,000,000 bytes of plain text from Wikipedia. Used for testing purposes; see wiki-english-* for proper full Wikipedia datasets.', 'checksum': '68799af40b6bda07dfa47a32612e5364', 'file_name': 'text8.gz', 'read_more': ['http://mattmahoney.net/dc/textdata.html'], 'parts': 1}, 'fake-news': {'num_records': 12999, 'record_format': 'dict', 'file_size': 20102776, 'reader_code': 'https://github.com/RaRe-Technologies/gensim-data/releases/download/fake-news/__init__.py', 'license': 'https://creativecommons.org/publicdomain/zero/1.0/', 'fields': {'crawled': 'date the story was archived', 'ord_in_thread': '', 'published': 'date published', 'participants_count': 'number of participants', 'shares': 'number of Facebook shares', 'replies_count': 'number of replies', 'main_img_url': 'image from story', 'spam_score': 'data from webhose.io', 'uuid': 'unique identifier', 'language': 'data from webhose.io', 'title': 'title of story', 'country': 'data from webhose.io', 'domain_rank': 'data from webhose.io', 'author': 'author of story', 'comments': 'number of Facebook comments', 'site_url': 'site URL from BS detector', 'text': 'text of story', 'thread_title': '', 'type': 'type of website (label from BS detector)', 'likes': 'number of Facebook likes'}, 'description': \"News dataset, contains text and metadata from 244 websites and represents 12,999 posts in total from a specific window of 30 days. The data was pulled using the webhose.io API, and because it's coming from their crawler, not all websites identified by their BS Detector are present in this dataset. Data sources that were missing a label were simply assigned a label of 'bs'. There are (ostensibly) no genuine, reliable, or trustworthy news sources represented in this dataset (so far), so don't trust anything you read.\", 'checksum': '5e64e942df13219465927f92dcefd5fe', 'file_name': 'fake-news.gz', 'read_more': ['https://www.kaggle.com/mrisdal/fake-news'], 'parts': 1}, '20-newsgroups': {'num_records': 18846, 'record_format': 'dict', 'file_size': 14483581, 'reader_code': 'https://github.com/RaRe-Technologies/gensim-data/releases/download/20-newsgroups/__init__.py', 'license': 'not found', 'fields': {'topic': 'name of topic (20 variant of possible values)', 'set': \"marker of original split (possible values 'train' and 'test')\", 'data': '', 'id': 'original id inferred from folder name'}, 'description': 'The notorious collection of approximately 20,000 newsgroup posts, partitioned (nearly) evenly across 20 different newsgroups.', 'checksum': 'c92fd4f6640a86d5ba89eaad818a9891', 'file_name': '20-newsgroups.gz', 'read_more': ['http://qwone.com/~jason/20Newsgroups/'], 'parts': 1}, '__testing_matrix-synopsis': {'description': '[THIS IS ONLY FOR TESTING] Synopsis of the movie matrix.', 'checksum': '1767ac93a089b43899d54944b07d9dc5', 'file_name': '__testing_matrix-synopsis.gz', 'read_more': ['http://www.imdb.com/title/tt0133093/plotsummary?ref_=ttpl_pl_syn#synopsis'], 'parts': 1}, '__testing_multipart-matrix-synopsis': {'description': '[THIS IS ONLY FOR TESTING] Synopsis of the movie matrix.', 'checksum-0': 'c8b0c7d8cf562b1b632c262a173ac338', 'checksum-1': '5ff7fc6818e9a5d9bc1cf12c35ed8b96', 'checksum-2': '966db9d274d125beaac7987202076cba', 'file_name': '__testing_multipart-matrix-synopsis.gz', 'read_more': ['http://www.imdb.com/title/tt0133093/plotsummary?ref_=ttpl_pl_syn#synopsis'], 'parts': 3}}, 'models': {'fasttext-wiki-news-subwords-300': {'num_records': 999999, 'file_size': 1005007116, 'base_dataset': 'Wikipedia 2017, UMBC webbase corpus and statmt.org news dataset (16B tokens)', 'reader_code': 'https://github.com/RaRe-Technologies/gensim-data/releases/download/fasttext-wiki-news-subwords-300/__init__.py', 'license': 'https://creativecommons.org/licenses/by-sa/3.0/', 'parameters': {'dimension': 300}, 'description': '1 million word vectors trained on Wikipedia 2017, UMBC webbase corpus and statmt.org news dataset (16B tokens).', 'read_more': ['https://fasttext.cc/docs/en/english-vectors.html', 'https://arxiv.org/abs/1712.09405', 'https://arxiv.org/abs/1607.01759'], 'checksum': 'de2bb3a20c46ce65c9c131e1ad9a77af', 'file_name': 'fasttext-wiki-news-subwords-300.gz', 'parts': 1}, 'conceptnet-numberbatch-17-06-300': {'num_records': 1917247, 'file_size': 1225497562, 'base_dataset': 'ConceptNet, word2vec, GloVe, and OpenSubtitles 2016', 'reader_code': 'https://github.com/RaRe-Technologies/gensim-data/releases/download/conceptnet-numberbatch-17-06-300/__init__.py', 'license': 'https://github.com/commonsense/conceptnet-numberbatch/blob/master/LICENSE.txt', 'parameters': {'dimension': 300}, 'description': 'ConceptNet Numberbatch consists of state-of-the-art semantic vectors (also known as word embeddings) that can be used directly as a representation of word meanings or as a starting point for further machine learning. ConceptNet Numberbatch is part of the ConceptNet open data project. ConceptNet provides lots of ways to compute with word meanings, one of which is word embeddings. ConceptNet Numberbatch is a snapshot of just the word embeddings. It is built using an ensemble that combines data from ConceptNet, word2vec, GloVe, and OpenSubtitles 2016, using a variation on retrofitting.', 'read_more': ['http://aaai.org/ocs/index.php/AAAI/AAAI17/paper/view/14972', 'https://github.com/commonsense/conceptnet-numberbatch', 'http://conceptnet.io/'], 'checksum': 'fd642d457adcd0ea94da0cd21b150847', 'file_name': 'conceptnet-numberbatch-17-06-300.gz', 'parts': 1}, 'word2vec-ruscorpora-300': {'num_records': 184973, 'file_size': 208427381, 'base_dataset': 'Russian National Corpus (about 250M words)', 'reader_code': 'https://github.com/RaRe-Technologies/gensim-data/releases/download/word2vec-ruscorpora-300/__init__.py', 'license': 'https://creativecommons.org/licenses/by/4.0/deed.en', 'parameters': {'dimension': 300, 'window_size': 10}, 'description': 'Word2vec Continuous Skipgram vectors trained on full Russian National Corpus (about 250M words). The model contains 185K words.', 'preprocessing': 'The corpus was lemmatized and tagged with Universal PoS', 'read_more': ['https://www.academia.edu/24306935/WebVectors_a_Toolkit_for_Building_Web_Interfaces_for_Vector_Semantic_Models', 'http://rusvectores.org/en/', 'https://github.com/RaRe-Technologies/gensim-data/issues/3'], 'checksum': '9bdebdc8ae6d17d20839dd9b5af10bc4', 'file_name': 'word2vec-ruscorpora-300.gz', 'parts': 1}, 'word2vec-google-news-300': {'num_records': 3000000, 'file_size': 1743563840, 'base_dataset': 'Google News (about 100 billion words)', 'reader_code': 'https://github.com/RaRe-Technologies/gensim-data/releases/download/word2vec-google-news-300/__init__.py', 'license': 'not found', 'parameters': {'dimension': 300}, 'description': \"Pre-trained vectors trained on a part of the Google News dataset (about 100 billion words). The model contains 300-dimensional vectors for 3 million words and phrases. The phrases were obtained using a simple data-driven approach described in 'Distributed Representations of Words and Phrases and their Compositionality' (https://code.google.com/archive/p/word2vec/).\", 'read_more': ['https://code.google.com/archive/p/word2vec/', 'https://arxiv.org/abs/1301.3781', 'https://arxiv.org/abs/1310.4546', 'https://www.microsoft.com/en-us/research/publication/linguistic-regularities-in-continuous-space-word-representations/?from=http%3A%2F%2Fresearch.microsoft.com%2Fpubs%2F189726%2Frvecs.pdf'], 'checksum': 'a5e5354d40acb95f9ec66d5977d140ef', 'file_name': 'word2vec-google-news-300.gz', 'parts': 1}, 'glove-wiki-gigaword-50': {'num_records': 400000, 'file_size': 69182535, 'base_dataset': 'Wikipedia 2014 + Gigaword 5 (6B tokens, uncased)', 'reader_code': 'https://github.com/RaRe-Technologies/gensim-data/releases/download/glove-wiki-gigaword-50/__init__.py', 'license': 'http://opendatacommons.org/licenses/pddl/', 'parameters': {'dimension': 50}, 'description': 'Pre-trained vectors based on Wikipedia 2014 + Gigaword, 5.6B tokens, 400K vocab, uncased (https://nlp.stanford.edu/projects/glove/).', 'preprocessing': 'Converted to w2v format with `python -m gensim.scripts.glove2word2vec -i <fname> -o glove-wiki-gigaword-50.txt`.', 'read_more': ['https://nlp.stanford.edu/projects/glove/', 'https://nlp.stanford.edu/pubs/glove.pdf'], 'checksum': 'c289bc5d7f2f02c6dc9f2f9b67641813', 'file_name': 'glove-wiki-gigaword-50.gz', 'parts': 1}, 'glove-wiki-gigaword-100': {'num_records': 400000, 'file_size': 134300434, 'base_dataset': 'Wikipedia 2014 + Gigaword 5 (6B tokens, uncased)', 'reader_code': 'https://github.com/RaRe-Technologies/gensim-data/releases/download/glove-wiki-gigaword-100/__init__.py', 'license': 'http://opendatacommons.org/licenses/pddl/', 'parameters': {'dimension': 100}, 'description': 'Pre-trained vectors based on Wikipedia 2014 + Gigaword 5.6B tokens, 400K vocab, uncased (https://nlp.stanford.edu/projects/glove/).', 'preprocessing': 'Converted to w2v format with `python -m gensim.scripts.glove2word2vec -i <fname> -o glove-wiki-gigaword-100.txt`.', 'read_more': ['https://nlp.stanford.edu/projects/glove/', 'https://nlp.stanford.edu/pubs/glove.pdf'], 'checksum': '40ec481866001177b8cd4cb0df92924f', 'file_name': 'glove-wiki-gigaword-100.gz', 'parts': 1}, 'glove-wiki-gigaword-200': {'num_records': 400000, 'file_size': 264336934, 'base_dataset': 'Wikipedia 2014 + Gigaword 5 (6B tokens, uncased)', 'reader_code': 'https://github.com/RaRe-Technologies/gensim-data/releases/download/glove-wiki-gigaword-200/__init__.py', 'license': 'http://opendatacommons.org/licenses/pddl/', 'parameters': {'dimension': 200}, 'description': 'Pre-trained vectors based on Wikipedia 2014 + Gigaword, 5.6B tokens, 400K vocab, uncased (https://nlp.stanford.edu/projects/glove/).', 'preprocessing': 'Converted to w2v format with `python -m gensim.scripts.glove2word2vec -i <fname> -o glove-wiki-gigaword-200.txt`.', 'read_more': ['https://nlp.stanford.edu/projects/glove/', 'https://nlp.stanford.edu/pubs/glove.pdf'], 'checksum': '59652db361b7a87ee73834a6c391dfc1', 'file_name': 'glove-wiki-gigaword-200.gz', 'parts': 1}, 'glove-wiki-gigaword-300': {'num_records': 400000, 'file_size': 394362229, 'base_dataset': 'Wikipedia 2014 + Gigaword 5 (6B tokens, uncased)', 'reader_code': 'https://github.com/RaRe-Technologies/gensim-data/releases/download/glove-wiki-gigaword-300/__init__.py', 'license': 'http://opendatacommons.org/licenses/pddl/', 'parameters': {'dimension': 300}, 'description': 'Pre-trained vectors based on Wikipedia 2014 + Gigaword, 5.6B tokens, 400K vocab, uncased (https://nlp.stanford.edu/projects/glove/).', 'preprocessing': 'Converted to w2v format with `python -m gensim.scripts.glove2word2vec -i <fname> -o glove-wiki-gigaword-300.txt`.', 'read_more': ['https://nlp.stanford.edu/projects/glove/', 'https://nlp.stanford.edu/pubs/glove.pdf'], 'checksum': '29e9329ac2241937d55b852e8284e89b', 'file_name': 'glove-wiki-gigaword-300.gz', 'parts': 1}, 'glove-twitter-25': {'num_records': 1193514, 'file_size': 109885004, 'base_dataset': 'Twitter (2B tweets, 27B tokens, 1.2M vocab, uncased)', 'reader_code': 'https://github.com/RaRe-Technologies/gensim-data/releases/download/glove-twitter-25/__init__.py', 'license': 'http://opendatacommons.org/licenses/pddl/', 'parameters': {'dimension': 25}, 'description': 'Pre-trained vectors based on 2B tweets, 27B tokens, 1.2M vocab, uncased (https://nlp.stanford.edu/projects/glove/).', 'preprocessing': 'Converted to w2v format with `python -m gensim.scripts.glove2word2vec -i <fname> -o glove-twitter-25.txt`.', 'read_more': ['https://nlp.stanford.edu/projects/glove/', 'https://nlp.stanford.edu/pubs/glove.pdf'], 'checksum': '50db0211d7e7a2dcd362c6b774762793', 'file_name': 'glove-twitter-25.gz', 'parts': 1}, 'glove-twitter-50': {'num_records': 1193514, 'file_size': 209216938, 'base_dataset': 'Twitter (2B tweets, 27B tokens, 1.2M vocab, uncased)', 'reader_code': 'https://github.com/RaRe-Technologies/gensim-data/releases/download/glove-twitter-50/__init__.py', 'license': 'http://opendatacommons.org/licenses/pddl/', 'parameters': {'dimension': 50}, 'description': 'Pre-trained vectors based on 2B tweets, 27B tokens, 1.2M vocab, uncased (https://nlp.stanford.edu/projects/glove/)', 'preprocessing': 'Converted to w2v format with `python -m gensim.scripts.glove2word2vec -i <fname> -o glove-twitter-50.txt`.', 'read_more': ['https://nlp.stanford.edu/projects/glove/', 'https://nlp.stanford.edu/pubs/glove.pdf'], 'checksum': 'c168f18641f8c8a00fe30984c4799b2b', 'file_name': 'glove-twitter-50.gz', 'parts': 1}, 'glove-twitter-100': {'num_records': 1193514, 'file_size': 405932991, 'base_dataset': 'Twitter (2B tweets, 27B tokens, 1.2M vocab, uncased)', 'reader_code': 'https://github.com/RaRe-Technologies/gensim-data/releases/download/glove-twitter-100/__init__.py', 'license': 'http://opendatacommons.org/licenses/pddl/', 'parameters': {'dimension': 100}, 'description': 'Pre-trained vectors based on  2B tweets, 27B tokens, 1.2M vocab, uncased (https://nlp.stanford.edu/projects/glove/)', 'preprocessing': 'Converted to w2v format with `python -m gensim.scripts.glove2word2vec -i <fname> -o glove-twitter-100.txt`.', 'read_more': ['https://nlp.stanford.edu/projects/glove/', 'https://nlp.stanford.edu/pubs/glove.pdf'], 'checksum': 'b04f7bed38756d64cf55b58ce7e97b15', 'file_name': 'glove-twitter-100.gz', 'parts': 1}, 'glove-twitter-200': {'num_records': 1193514, 'file_size': 795373100, 'base_dataset': 'Twitter (2B tweets, 27B tokens, 1.2M vocab, uncased)', 'reader_code': 'https://github.com/RaRe-Technologies/gensim-data/releases/download/glove-twitter-200/__init__.py', 'license': 'http://opendatacommons.org/licenses/pddl/', 'parameters': {'dimension': 200}, 'description': 'Pre-trained vectors based on 2B tweets, 27B tokens, 1.2M vocab, uncased (https://nlp.stanford.edu/projects/glove/).', 'preprocessing': 'Converted to w2v format with `python -m gensim.scripts.glove2word2vec -i <fname> -o glove-twitter-200.txt`.', 'read_more': ['https://nlp.stanford.edu/projects/glove/', 'https://nlp.stanford.edu/pubs/glove.pdf'], 'checksum': 'e52e8392d1860b95d5308a525817d8f9', 'file_name': 'glove-twitter-200.gz', 'parts': 1}, '__testing_word2vec-matrix-synopsis': {'description': '[THIS IS ONLY FOR TESTING] Word vecrors of the movie matrix.', 'parameters': {'dimensions': 50}, 'preprocessing': 'Converted to w2v using a preprocessed corpus. Converted to w2v format with `python3.5 -m gensim.models.word2vec -train <input_filename> -iter 50 -output <output_filename>`.', 'read_more': [], 'checksum': '534dcb8b56a360977a269b7bfc62d124', 'file_name': '__testing_word2vec-matrix-synopsis.gz', 'parts': 1}}}\n"
     ]
    }
   ],
   "source": [
    "\n",
    "print(api.info())"
   ]
  }
 ],
 "metadata": {
  "kernelspec": {
   "display_name": "nlp-course",
   "language": "python",
   "name": "nlp-course"
  },
  "language_info": {
   "codemirror_mode": {
    "name": "ipython",
    "version": 3
   },
   "file_extension": ".py",
   "mimetype": "text/x-python",
   "name": "python",
   "nbconvert_exporter": "python",
   "pygments_lexer": "ipython3",
   "version": "3.6.5"
  }
 },
 "nbformat": 4,
 "nbformat_minor": 2
}
